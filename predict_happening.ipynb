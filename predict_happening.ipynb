{
  "nbformat": 4,
  "nbformat_minor": 0,
  "metadata": {
    "colab": {
      "name": "424_a4_predict_happening.ipynb",
      "provenance": [],
      "collapsed_sections": []
    },
    "kernelspec": {
      "name": "python3",
      "display_name": "Python 3"
    },
    "language_info": {
      "name": "python"
    }
  },
  "cells": [
    {
      "cell_type": "code",
      "metadata": {
        "id": "IKfVcfU12pEs"
      },
      "source": [
        "import numpy as np\n",
        "import pandas as pd\n",
        "import matplotlib.pyplot as plt\n",
        "import math"
      ],
      "execution_count": null,
      "outputs": []
    },
    {
      "cell_type": "markdown",
      "metadata": {
        "id": "3u4GQEniuHqy"
      },
      "source": [
        "# Import Data"
      ]
    },
    {
      "cell_type": "code",
      "metadata": {
        "id": "XjM2krgQdYmU"
      },
      "source": [
        "# Read gas emissions data\n",
        "file1 = open('climatewatch-usemissions.csv', 'r') \n",
        "emissionsDf = pd.read_csv(file1)  # used to combine all states and years\n",
        "emissionsDf = emissionsDf.drop(range(0,3))\n",
        "emissionsDf.columns = [\"State\", \"Year\", \"GHG Emissions Excluding LUCF\",\t'GHG Emissions Including LUCF',\t'CO2 (excluding LUCF)',\t'CH4',\t'N2O',\t'F-Gas',\t'Energy',\t'Industrial Processes',\t'Agriculture',\t'Waste',\t'Land Use and Forestry',\t'Bunker Fuels',\t'Electric Power',\t'Commercial',\t'Residential',\t'Industrial',\t'Transportation',\t'Fugitive Emissions',\t'State GDP (Million US$ (chained 1997/2005))',\t'Population',\t'Energy Use (Thous. tonnes oil eq. (ktoe))']\n",
        "# remove rows of Hawaii Data\n",
        "emissionsDf = emissionsDf[emissionsDf.State != 'Hawaii']\n",
        "tempDf = pd.DataFrame(emissionsDf)      # used to split state wise"
      ],
      "execution_count": null,
      "outputs": []
    },
    {
      "cell_type": "code",
      "metadata": {
        "colab": {
          "base_uri": "https://localhost:8080/",
          "height": 1000
        },
        "id": "hTshxuilTSKC",
        "outputId": "50017ddb-5cd0-47e8-a5b6-b7e3913a8adb"
      },
      "source": [
        "# Read opinion survey data\n",
        "file2 = open('YCOM_2020_Data.csv', encoding = 'ISO-8859-1')\n",
        "surveyDf = pd.read_csv(file2)\n",
        "happeningDf = surveyDf.happening\n",
        "\n",
        "# drop national and District of Columbia\n",
        "indicesToDrop = [0, 9, 12]\n",
        "# drop counties\n",
        "for i in range(52, len(happeningDf)):\n",
        "  indicesToDrop.append(i)\n",
        "\n",
        "happeningDf = happeningDf.drop(index = indicesToDrop)\n",
        "happeningDf = happeningDf.reset_index()\n",
        "happeningDf = happeningDf.drop(columns=['index'])\n",
        "happeningDf"
      ],
      "execution_count": null,
      "outputs": [
        {
          "output_type": "execute_result",
          "data": {
            "text/html": [
              "<div>\n",
              "<style scoped>\n",
              "    .dataframe tbody tr th:only-of-type {\n",
              "        vertical-align: middle;\n",
              "    }\n",
              "\n",
              "    .dataframe tbody tr th {\n",
              "        vertical-align: top;\n",
              "    }\n",
              "\n",
              "    .dataframe thead th {\n",
              "        text-align: right;\n",
              "    }\n",
              "</style>\n",
              "<table border=\"1\" class=\"dataframe\">\n",
              "  <thead>\n",
              "    <tr style=\"text-align: right;\">\n",
              "      <th></th>\n",
              "      <th>happening</th>\n",
              "    </tr>\n",
              "  </thead>\n",
              "  <tbody>\n",
              "    <tr>\n",
              "      <th>0</th>\n",
              "      <td>63.347</td>\n",
              "    </tr>\n",
              "    <tr>\n",
              "      <th>1</th>\n",
              "      <td>70.159</td>\n",
              "    </tr>\n",
              "    <tr>\n",
              "      <th>2</th>\n",
              "      <td>70.853</td>\n",
              "    </tr>\n",
              "    <tr>\n",
              "      <th>3</th>\n",
              "      <td>65.637</td>\n",
              "    </tr>\n",
              "    <tr>\n",
              "      <th>4</th>\n",
              "      <td>77.228</td>\n",
              "    </tr>\n",
              "    <tr>\n",
              "      <th>5</th>\n",
              "      <td>72.025</td>\n",
              "    </tr>\n",
              "    <tr>\n",
              "      <th>6</th>\n",
              "      <td>73.851</td>\n",
              "    </tr>\n",
              "    <tr>\n",
              "      <th>7</th>\n",
              "      <td>71.461</td>\n",
              "    </tr>\n",
              "    <tr>\n",
              "      <th>8</th>\n",
              "      <td>72.234</td>\n",
              "    </tr>\n",
              "    <tr>\n",
              "      <th>9</th>\n",
              "      <td>69.731</td>\n",
              "    </tr>\n",
              "    <tr>\n",
              "      <th>10</th>\n",
              "      <td>66.009</td>\n",
              "    </tr>\n",
              "    <tr>\n",
              "      <th>11</th>\n",
              "      <td>74.238</td>\n",
              "    </tr>\n",
              "    <tr>\n",
              "      <th>12</th>\n",
              "      <td>64.338</td>\n",
              "    </tr>\n",
              "    <tr>\n",
              "      <th>13</th>\n",
              "      <td>67.020</td>\n",
              "    </tr>\n",
              "    <tr>\n",
              "      <th>14</th>\n",
              "      <td>66.948</td>\n",
              "    </tr>\n",
              "    <tr>\n",
              "      <th>15</th>\n",
              "      <td>62.050</td>\n",
              "    </tr>\n",
              "    <tr>\n",
              "      <th>16</th>\n",
              "      <td>66.443</td>\n",
              "    </tr>\n",
              "    <tr>\n",
              "      <th>17</th>\n",
              "      <td>69.327</td>\n",
              "    </tr>\n",
              "    <tr>\n",
              "      <th>18</th>\n",
              "      <td>77.523</td>\n",
              "    </tr>\n",
              "    <tr>\n",
              "      <th>19</th>\n",
              "      <td>76.886</td>\n",
              "    </tr>\n",
              "    <tr>\n",
              "      <th>20</th>\n",
              "      <td>69.381</td>\n",
              "    </tr>\n",
              "    <tr>\n",
              "      <th>21</th>\n",
              "      <td>70.841</td>\n",
              "    </tr>\n",
              "    <tr>\n",
              "      <th>22</th>\n",
              "      <td>65.513</td>\n",
              "    </tr>\n",
              "    <tr>\n",
              "      <th>23</th>\n",
              "      <td>67.191</td>\n",
              "    </tr>\n",
              "    <tr>\n",
              "      <th>24</th>\n",
              "      <td>66.062</td>\n",
              "    </tr>\n",
              "    <tr>\n",
              "      <th>25</th>\n",
              "      <td>65.707</td>\n",
              "    </tr>\n",
              "    <tr>\n",
              "      <th>26</th>\n",
              "      <td>71.298</td>\n",
              "    </tr>\n",
              "    <tr>\n",
              "      <th>27</th>\n",
              "      <td>69.683</td>\n",
              "    </tr>\n",
              "    <tr>\n",
              "      <th>28</th>\n",
              "      <td>76.631</td>\n",
              "    </tr>\n",
              "    <tr>\n",
              "      <th>29</th>\n",
              "      <td>71.693</td>\n",
              "    </tr>\n",
              "    <tr>\n",
              "      <th>30</th>\n",
              "      <td>78.274</td>\n",
              "    </tr>\n",
              "    <tr>\n",
              "      <th>31</th>\n",
              "      <td>70.640</td>\n",
              "    </tr>\n",
              "    <tr>\n",
              "      <th>32</th>\n",
              "      <td>60.543</td>\n",
              "    </tr>\n",
              "    <tr>\n",
              "      <th>33</th>\n",
              "      <td>67.615</td>\n",
              "    </tr>\n",
              "    <tr>\n",
              "      <th>34</th>\n",
              "      <td>63.644</td>\n",
              "    </tr>\n",
              "    <tr>\n",
              "      <th>35</th>\n",
              "      <td>73.498</td>\n",
              "    </tr>\n",
              "    <tr>\n",
              "      <th>36</th>\n",
              "      <td>70.152</td>\n",
              "    </tr>\n",
              "    <tr>\n",
              "      <th>37</th>\n",
              "      <td>72.438</td>\n",
              "    </tr>\n",
              "    <tr>\n",
              "      <th>38</th>\n",
              "      <td>68.260</td>\n",
              "    </tr>\n",
              "    <tr>\n",
              "      <th>39</th>\n",
              "      <td>65.364</td>\n",
              "    </tr>\n",
              "    <tr>\n",
              "      <th>40</th>\n",
              "      <td>64.346</td>\n",
              "    </tr>\n",
              "    <tr>\n",
              "      <th>41</th>\n",
              "      <td>71.143</td>\n",
              "    </tr>\n",
              "    <tr>\n",
              "      <th>42</th>\n",
              "      <td>67.189</td>\n",
              "    </tr>\n",
              "    <tr>\n",
              "      <th>43</th>\n",
              "      <td>73.357</td>\n",
              "    </tr>\n",
              "    <tr>\n",
              "      <th>44</th>\n",
              "      <td>73.332</td>\n",
              "    </tr>\n",
              "    <tr>\n",
              "      <th>45</th>\n",
              "      <td>74.654</td>\n",
              "    </tr>\n",
              "    <tr>\n",
              "      <th>46</th>\n",
              "      <td>59.321</td>\n",
              "    </tr>\n",
              "    <tr>\n",
              "      <th>47</th>\n",
              "      <td>68.620</td>\n",
              "    </tr>\n",
              "    <tr>\n",
              "      <th>48</th>\n",
              "      <td>60.024</td>\n",
              "    </tr>\n",
              "  </tbody>\n",
              "</table>\n",
              "</div>"
            ],
            "text/plain": [
              "    happening\n",
              "0      63.347\n",
              "1      70.159\n",
              "2      70.853\n",
              "3      65.637\n",
              "4      77.228\n",
              "5      72.025\n",
              "6      73.851\n",
              "7      71.461\n",
              "8      72.234\n",
              "9      69.731\n",
              "10     66.009\n",
              "11     74.238\n",
              "12     64.338\n",
              "13     67.020\n",
              "14     66.948\n",
              "15     62.050\n",
              "16     66.443\n",
              "17     69.327\n",
              "18     77.523\n",
              "19     76.886\n",
              "20     69.381\n",
              "21     70.841\n",
              "22     65.513\n",
              "23     67.191\n",
              "24     66.062\n",
              "25     65.707\n",
              "26     71.298\n",
              "27     69.683\n",
              "28     76.631\n",
              "29     71.693\n",
              "30     78.274\n",
              "31     70.640\n",
              "32     60.543\n",
              "33     67.615\n",
              "34     63.644\n",
              "35     73.498\n",
              "36     70.152\n",
              "37     72.438\n",
              "38     68.260\n",
              "39     65.364\n",
              "40     64.346\n",
              "41     71.143\n",
              "42     67.189\n",
              "43     73.357\n",
              "44     73.332\n",
              "45     74.654\n",
              "46     59.321\n",
              "47     68.620\n",
              "48     60.024"
            ]
          },
          "metadata": {
            "tags": []
          },
          "execution_count": 56
        }
      ]
    },
    {
      "cell_type": "code",
      "metadata": {
        "id": "2HD-lhdvICUx"
      },
      "source": [
        "# drop the State and Year\n",
        "emissionsDf = emissionsDf.drop(columns=['State', 'Year'])\n",
        "# change str values to float\n",
        "emissionsDf = emissionsDf.astype(float)\n",
        "\n",
        "# weigh the features by population\n",
        "emissionsDf.iloc[:,0:18] = emissionsDf.iloc[:,0:18].div(emissionsDf.Population, axis=0)\n",
        "emissionsDf.iloc[:,20] = emissionsDf.iloc[:,20].div(emissionsDf.Population, axis=0)"
      ],
      "execution_count": null,
      "outputs": []
    },
    {
      "cell_type": "code",
      "metadata": {
        "colab": {
          "base_uri": "https://localhost:8080/"
        },
        "id": "Ao38XEKJIDQ8",
        "outputId": "240fcf75-0745-4aa4-e1a6-f26072251f02"
      },
      "source": [
        "emissionsDf.shape"
      ],
      "execution_count": null,
      "outputs": [
        {
          "output_type": "execute_result",
          "data": {
            "text/plain": [
              "(1479, 21)"
            ]
          },
          "metadata": {
            "tags": []
          },
          "execution_count": 58
        }
      ]
    },
    {
      "cell_type": "code",
      "metadata": {
        "colab": {
          "base_uri": "https://localhost:8080/",
          "height": 394
        },
        "id": "eAChMSEIlylF",
        "outputId": "64e29270-1446-454e-80d3-c31551897ac2"
      },
      "source": [
        "emissionsDf.head(5)"
      ],
      "execution_count": null,
      "outputs": [
        {
          "output_type": "execute_result",
          "data": {
            "text/html": [
              "<div>\n",
              "<style scoped>\n",
              "    .dataframe tbody tr th:only-of-type {\n",
              "        vertical-align: middle;\n",
              "    }\n",
              "\n",
              "    .dataframe tbody tr th {\n",
              "        vertical-align: top;\n",
              "    }\n",
              "\n",
              "    .dataframe thead th {\n",
              "        text-align: right;\n",
              "    }\n",
              "</style>\n",
              "<table border=\"1\" class=\"dataframe\">\n",
              "  <thead>\n",
              "    <tr style=\"text-align: right;\">\n",
              "      <th></th>\n",
              "      <th>GHG Emissions Excluding LUCF</th>\n",
              "      <th>GHG Emissions Including LUCF</th>\n",
              "      <th>CO2 (excluding LUCF)</th>\n",
              "      <th>CH4</th>\n",
              "      <th>N2O</th>\n",
              "      <th>F-Gas</th>\n",
              "      <th>Energy</th>\n",
              "      <th>Industrial Processes</th>\n",
              "      <th>Agriculture</th>\n",
              "      <th>Waste</th>\n",
              "      <th>Land Use and Forestry</th>\n",
              "      <th>Bunker Fuels</th>\n",
              "      <th>Electric Power</th>\n",
              "      <th>Commercial</th>\n",
              "      <th>Residential</th>\n",
              "      <th>Industrial</th>\n",
              "      <th>Transportation</th>\n",
              "      <th>Fugitive Emissions</th>\n",
              "      <th>State GDP (Million US$ (chained 1997/2005))</th>\n",
              "      <th>Population</th>\n",
              "      <th>Energy Use (Thous. tonnes oil eq. (ktoe))</th>\n",
              "    </tr>\n",
              "  </thead>\n",
              "  <tbody>\n",
              "    <tr>\n",
              "      <th>3</th>\n",
              "      <td>0.000035</td>\n",
              "      <td>0.000020</td>\n",
              "      <td>0.000028</td>\n",
              "      <td>0.000006</td>\n",
              "      <td>1.489889e-06</td>\n",
              "      <td>1.272142e-07</td>\n",
              "      <td>0.000032</td>\n",
              "      <td>8.500820e-07</td>\n",
              "      <td>1.839858e-06</td>\n",
              "      <td>8.989998e-07</td>\n",
              "      <td>-1.500507e-05</td>\n",
              "      <td>0.0</td>\n",
              "      <td>0.000012</td>\n",
              "      <td>6.062525e-07</td>\n",
              "      <td>7.983087e-07</td>\n",
              "      <td>0.000006</td>\n",
              "      <td>0.000007</td>\n",
              "      <td>4.093762e-06</td>\n",
              "      <td>83766.0</td>\n",
              "      <td>4050055.0</td>\n",
              "      <td>0.010363</td>\n",
              "    </tr>\n",
              "    <tr>\n",
              "      <th>4</th>\n",
              "      <td>0.000086</td>\n",
              "      <td>0.000081</td>\n",
              "      <td>0.000065</td>\n",
              "      <td>0.000020</td>\n",
              "      <td>5.033216e-07</td>\n",
              "      <td>6.653903e-08</td>\n",
              "      <td>0.000083</td>\n",
              "      <td>1.976349e-06</td>\n",
              "      <td>1.168218e-07</td>\n",
              "      <td>6.663707e-07</td>\n",
              "      <td>-4.406813e-06</td>\n",
              "      <td>0.0</td>\n",
              "      <td>0.000005</td>\n",
              "      <td>3.995095e-06</td>\n",
              "      <td>2.914877e-06</td>\n",
              "      <td>0.000029</td>\n",
              "      <td>0.000022</td>\n",
              "      <td>2.038675e-05</td>\n",
              "      <td>28772.0</td>\n",
              "      <td>553290.0</td>\n",
              "      <td>0.026602</td>\n",
              "    </tr>\n",
              "    <tr>\n",
              "      <th>5</th>\n",
              "      <td>0.000019</td>\n",
              "      <td>0.000018</td>\n",
              "      <td>0.000017</td>\n",
              "      <td>0.000001</td>\n",
              "      <td>9.446957e-07</td>\n",
              "      <td>2.242201e-07</td>\n",
              "      <td>0.000018</td>\n",
              "      <td>3.137621e-07</td>\n",
              "      <td>1.206492e-06</td>\n",
              "      <td>4.183521e-07</td>\n",
              "      <td>-9.878821e-07</td>\n",
              "      <td>0.0</td>\n",
              "      <td>0.000009</td>\n",
              "      <td>5.198594e-07</td>\n",
              "      <td>5.162364e-07</td>\n",
              "      <td>0.000001</td>\n",
              "      <td>0.000007</td>\n",
              "      <td>2.607448e-08</td>\n",
              "      <td>81606.0</td>\n",
              "      <td>3684097.0</td>\n",
              "      <td>0.006423</td>\n",
              "    </tr>\n",
              "    <tr>\n",
              "      <th>6</th>\n",
              "      <td>0.000031</td>\n",
              "      <td>0.000011</td>\n",
              "      <td>0.000022</td>\n",
              "      <td>0.000004</td>\n",
              "      <td>4.227785e-06</td>\n",
              "      <td>1.000345e-07</td>\n",
              "      <td>0.000023</td>\n",
              "      <td>4.885694e-07</td>\n",
              "      <td>6.763115e-06</td>\n",
              "      <td>7.539493e-07</td>\n",
              "      <td>-2.003752e-05</td>\n",
              "      <td>0.0</td>\n",
              "      <td>0.000009</td>\n",
              "      <td>6.918771e-07</td>\n",
              "      <td>1.085928e-06</td>\n",
              "      <td>0.000004</td>\n",
              "      <td>0.000007</td>\n",
              "      <td>3.604424e-07</td>\n",
              "      <td>44496.0</td>\n",
              "      <td>2356586.0</td>\n",
              "      <td>0.009153</td>\n",
              "    </tr>\n",
              "    <tr>\n",
              "      <th>7</th>\n",
              "      <td>0.000014</td>\n",
              "      <td>0.000012</td>\n",
              "      <td>0.000012</td>\n",
              "      <td>0.000001</td>\n",
              "      <td>7.877420e-07</td>\n",
              "      <td>8.534919e-08</td>\n",
              "      <td>0.000013</td>\n",
              "      <td>2.580579e-07</td>\n",
              "      <td>9.674698e-07</td>\n",
              "      <td>4.804590e-07</td>\n",
              "      <td>-2.250875e-06</td>\n",
              "      <td>0.0</td>\n",
              "      <td>0.000001</td>\n",
              "      <td>6.375796e-07</td>\n",
              "      <td>1.007667e-06</td>\n",
              "      <td>0.000002</td>\n",
              "      <td>0.000007</td>\n",
              "      <td>1.823187e-07</td>\n",
              "      <td>906103.0</td>\n",
              "      <td>29959515.0</td>\n",
              "      <td>0.006262</td>\n",
              "    </tr>\n",
              "  </tbody>\n",
              "</table>\n",
              "</div>"
            ],
            "text/plain": [
              "   GHG Emissions Excluding LUCF  ...  Energy Use (Thous. tonnes oil eq. (ktoe))\n",
              "3                      0.000035  ...                                   0.010363\n",
              "4                      0.000086  ...                                   0.026602\n",
              "5                      0.000019  ...                                   0.006423\n",
              "6                      0.000031  ...                                   0.009153\n",
              "7                      0.000014  ...                                   0.006262\n",
              "\n",
              "[5 rows x 21 columns]"
            ]
          },
          "metadata": {
            "tags": []
          },
          "execution_count": 59
        }
      ]
    },
    {
      "cell_type": "code",
      "metadata": {
        "colab": {
          "base_uri": "https://localhost:8080/"
        },
        "id": "zKdgO07n3WE4",
        "outputId": "2b313d92-8544-46c5-d5f9-ca0a2297f5dd"
      },
      "source": [
        "# weigh the features by state population\n",
        "intDf = tempDf.iloc[:, 2:20].astype(float)\n",
        "tempRow = tempDf.iloc[:, 22].astype(float)\n",
        "tempCols = tempDf.iloc[:, 21].astype(float)\n",
        "tempDf.iloc[:, 2:20] = intDf.div(tempCols, axis = 0)\n",
        "tempDf.iloc[:,22] = tempRow.div(tempCols, axis = 0) \n",
        "tempDf.shape"
      ],
      "execution_count": null,
      "outputs": [
        {
          "output_type": "execute_result",
          "data": {
            "text/plain": [
              "(1479, 23)"
            ]
          },
          "metadata": {
            "tags": []
          },
          "execution_count": 60
        }
      ]
    },
    {
      "cell_type": "code",
      "metadata": {
        "id": "hZbXvypa1wzw"
      },
      "source": [
        "# Alabama1\n",
        "file1 = open('tempByStateAlabama.csv', 'r') \n",
        "df1 = pd.read_csv(file1)\n",
        "df1 = df1.drop(range(0,4))\n",
        "df1.columns = [\"Year\", \"Avg Temp\", \"Delta\"]\n",
        "for i in range(0, len(df1)):\n",
        "    df1.iloc[i].Year = df1.iloc[i].Year[:4]\n",
        "# create Alabama subset of tempDf\n",
        "df2 = pd.DataFrame(tempDf.loc[tempDf['State'] == 'Alabama'])\n",
        "df3 = pd.merge(df2, df1, on = ['Year'], how='left')\n",
        "# take the average of all columns\n",
        "df3 = df3.drop(columns = ['State', 'Year']).astype(float)\n",
        "AlabamaMeans = df3.mean(axis = 0)\n",
        "# find the 2018 data\n",
        "Alabama2018 = df3.iloc[28,:]\n",
        "\n",
        "# Alaska2\n",
        "file1 = open('tempByStateAlaska.csv', 'r') \n",
        "df1 = pd.read_csv(file1)\n",
        "df1 = df1.drop(range(0,4))\n",
        "df1.columns = [\"Year\", \"Avg Temp\", \"Delta\"]\n",
        "for i in range(0, len(df1)):\n",
        "    df1.iloc[i].Year = df1.iloc[i].Year[:4]\n",
        "# create Alaska subset of tempDf\n",
        "df2 = pd.DataFrame(tempDf.loc[tempDf['State'] == 'Alaska'])\n",
        "df3 = pd.merge(df2, df1, on = ['Year'], how='left')\n",
        "# take the average of all columns\n",
        "df3 = df3.drop(columns = ['State', 'Year']).astype(float)\n",
        "AlaskaMeans = df3.mean(axis = 0)\n",
        "# find the 2018 data\n",
        "Alaska2018 = df3.iloc[28,:]\n",
        "# merge into one df for means\n",
        "dfMeans = pd.concat([AlabamaMeans, AlaskaMeans], axis=1)\n",
        "dfMeans = dfMeans.transpose()\n",
        "# merge into one df for 2018\n",
        "df2018 = pd.concat([Alabama2018, Alaska2018], axis=1)\n",
        "df2018 = df2018.transpose()\n",
        "\n",
        "# Arizona3\n",
        "file1 = open('tempByStateArizona.csv', 'r') \n",
        "df1 = pd.read_csv(file1)\n",
        "df1 = df1.drop(range(0,4))\n",
        "df1.columns = [\"Year\", \"Avg Temp\", \"Delta\"]\n",
        "for i in range(0, len(df1)):\n",
        "    df1.iloc[i].Year = df1.iloc[i].Year[:4]\n",
        "# create Arizona subset of tempDf\n",
        "df2 = pd.DataFrame(tempDf.loc[tempDf['State'] == 'Arizona'])\n",
        "df3 = pd.merge(df2, df1, on = ['Year'], how='left')\n",
        "# take the average of all columns\n",
        "df3 = df3.drop(columns = ['State', 'Year']).astype(float)\n",
        "ArizonaMeans = df3.mean(axis = 0)\n",
        "# find the 2018 data\n",
        "Arizona2018 = df3.iloc[28,:]\n",
        "# merge into one df for means\n",
        "dfMeans = dfMeans.append(ArizonaMeans, ignore_index=True)\n",
        "# merge into one df for 2018\n",
        "df2018 = df2018.append(Arizona2018, ignore_index=True)\n",
        "\n",
        "# Arkansas4\n",
        "file1 = open('tempByStateArkansas.csv', 'r') \n",
        "df1 = pd.read_csv(file1)\n",
        "df1 = df1.drop(range(0,4))\n",
        "df1.columns = [\"Year\", \"Avg Temp\", \"Delta\"]\n",
        "for i in range(0, len(df1)):\n",
        "    df1.iloc[i].Year = df1.iloc[i].Year[:4]\n",
        "# create Arkansas subset of tempDf\n",
        "df2 = pd.DataFrame(tempDf.loc[tempDf['State'] == 'Arkansas'])\n",
        "df3 = pd.merge(df2, df1, on = ['Year'], how='left')\n",
        "# take the average of all columns\n",
        "df3 = df3.drop(columns = ['State', 'Year']).astype(float)\n",
        "ArkansasMeans = df3.mean(axis = 0)\n",
        "# find the 2018 data\n",
        "Arkansas2018 = df3.iloc[28,:]\n",
        "# merge into one df for means\n",
        "dfMeans = dfMeans.append(ArkansasMeans, ignore_index=True)\n",
        "# merge into one df for 2018\n",
        "df2018 = df2018.append(Arkansas2018, ignore_index=True)\n",
        "\n",
        "# California5\n",
        "file1 = open('tempByStateCalifornia.csv', 'r') \n",
        "df1 = pd.read_csv(file1)\n",
        "df1 = df1.drop(range(0,4))\n",
        "df1.columns = [\"Year\", \"Avg Temp\", \"Delta\"]\n",
        "for i in range(0, len(df1)):\n",
        "    df1.iloc[i].Year = df1.iloc[i].Year[:4]\n",
        "# create California subset of tempDf\n",
        "df2 = pd.DataFrame(tempDf.loc[tempDf['State'] == 'California'])\n",
        "df3 = pd.merge(df2, df1, on = ['Year'], how='left')\n",
        "# take the average of all columns\n",
        "df3 = df3.drop(columns = ['State', 'Year']).astype(float)\n",
        "CaliforniaMeans = df3.mean(axis = 0)\n",
        "# find the 2018 data\n",
        "California2018 = df3.iloc[28,:]\n",
        "# merge into one df for means\n",
        "dfMeans = dfMeans.append(CaliforniaMeans, ignore_index=True)\n",
        "# merge into one df for 2018\n",
        "df2018 = df2018.append(California2018, ignore_index=True)\n",
        "\n",
        "# Colorado6\n",
        "file1 = open('tempByStateColorado.csv', 'r') \n",
        "df1 = pd.read_csv(file1)\n",
        "df1 = df1.drop(range(0,4))\n",
        "df1.columns = [\"Year\", \"Avg Temp\", \"Delta\"]\n",
        "for i in range(0, len(df1)):\n",
        "    df1.iloc[i].Year = df1.iloc[i].Year[:4]\n",
        "# create Colorado subset of tempDf\n",
        "df2 = pd.DataFrame(tempDf.loc[tempDf['State'] == 'Colorado'])\n",
        "df3 = pd.merge(df2, df1, on = ['Year'], how='left')\n",
        "# take the average of all columns\n",
        "df3 = df3.drop(columns = ['State', 'Year']).astype(float)\n",
        "ColoradoMeans = df3.mean(axis = 0)\n",
        "# find the 2018 data\n",
        "Colorado2018 = df3.iloc[28,:]\n",
        "# merge into one df for means\n",
        "dfMeans = dfMeans.append(ColoradoMeans, ignore_index=True)\n",
        "# merge into one df for 2018\n",
        "df2018 = df2018.append(Colorado2018, ignore_index=True)\n",
        "\n",
        "# Connecticut7\n",
        "file1 = open('tempByStateConnecticut.csv', 'r') \n",
        "df1 = pd.read_csv(file1)\n",
        "df1 = df1.drop(range(0,4))\n",
        "df1.columns = [\"Year\", \"Avg Temp\", \"Delta\"]\n",
        "for i in range(0, len(df1)):\n",
        "    df1.iloc[i].Year = df1.iloc[i].Year[:4]\n",
        "# create Connecticut subset of tempDf\n",
        "df2 = pd.DataFrame(tempDf.loc[tempDf['State'] == 'Connecticut'])\n",
        "df3 = pd.merge(df2, df1, on = ['Year'], how='left')\n",
        "# take the average of all columns\n",
        "df3 = df3.drop(columns = ['State', 'Year']).astype(float)\n",
        "ConnecticutMeans = df3.mean(axis = 0)\n",
        "# find the 2018 data\n",
        "Connecticut2018 = df3.iloc[28,:]\n",
        "# merge into one df for means\n",
        "dfMeans = dfMeans.append(ConnecticutMeans, ignore_index=True)\n",
        "# merge into one df for 2018\n",
        "df2018 = df2018.append(Connecticut2018, ignore_index=True)\n",
        "\n",
        "# Delaware8\n",
        "file1 = open('tempByStateDelaware.csv', 'r') \n",
        "df1 = pd.read_csv(file1)\n",
        "df1 = df1.drop(range(0,4))\n",
        "df1.columns = [\"Year\", \"Avg Temp\", \"Delta\"]\n",
        "for i in range(0, len(df1)):\n",
        "    df1.iloc[i].Year = df1.iloc[i].Year[:4]\n",
        "# create Delaware subset of tempDf\n",
        "df2 = pd.DataFrame(tempDf.loc[tempDf['State'] == 'Delaware'])\n",
        "df3 = pd.merge(df2, df1, on = ['Year'], how='left')\n",
        "# take the average of all columns\n",
        "df3 = df3.drop(columns = ['State', 'Year']).astype(float)\n",
        "DelawareMeans = df3.mean(axis = 0)\n",
        "# find the 2018 data\n",
        "Delaware2018 = df3.iloc[28,:]\n",
        "# merge into one df for means\n",
        "dfMeans = dfMeans.append(DelawareMeans, ignore_index=True)\n",
        "# merge into one df for 2018\n",
        "df2018 = df2018.append(Delaware2018, ignore_index=True)\n",
        "\n",
        "# Florida9\n",
        "file1 = open('tempByStateFlorida.csv', 'r') \n",
        "df1 = pd.read_csv(file1)\n",
        "df1 = df1.drop(range(0,4))\n",
        "df1.columns = [\"Year\", \"Avg Temp\", \"Delta\"]\n",
        "for i in range(0, len(df1)):\n",
        "    df1.iloc[i].Year = df1.iloc[i].Year[:4]\n",
        "# create Florida subset of tempDf\n",
        "df2 = pd.DataFrame(tempDf.loc[tempDf['State'] == 'Florida'])\n",
        "df3 = pd.merge(df2, df1, on = ['Year'], how='left')\n",
        "# take the average of all columns\n",
        "df3 = df3.drop(columns = ['State', 'Year']).astype(float)\n",
        "FloridaMeans = df3.mean(axis = 0)\n",
        "# find the 2018 data\n",
        "Florida2018 = df3.iloc[28,:]\n",
        "# merge into one df for means\n",
        "dfMeans = dfMeans.append(FloridaMeans, ignore_index=True)\n",
        "# merge into one df for 2018\n",
        "df2018 = df2018.append(Florida2018, ignore_index=True)\n",
        "\n",
        "# Georgia10\n",
        "file1 = open('tempByStateGeorgia.csv', 'r') \n",
        "df1 = pd.read_csv(file1)\n",
        "df1 = df1.drop(range(0,4))\n",
        "df1.columns = [\"Year\", \"Avg Temp\", \"Delta\"]\n",
        "for i in range(0, len(df1)):\n",
        "    df1.iloc[i].Year = df1.iloc[i].Year[:4]\n",
        "# create Georgia subset of tempDf\n",
        "df2 = pd.DataFrame(tempDf.loc[tempDf['State'] == 'Georgia'])\n",
        "df3 = pd.merge(df2, df1, on = ['Year'], how='left')\n",
        "# take the average of all columns\n",
        "df3 = df3.drop(columns = ['State', 'Year']).astype(float)\n",
        "GeorgiaMeans = df3.mean(axis = 0)\n",
        "# find the 2018 data\n",
        "Georgia2018 = df3.iloc[28,:]\n",
        "# merge into one df for means\n",
        "dfMeans = dfMeans.append(GeorgiaMeans, ignore_index=True)\n",
        "# merge into one df for 2018\n",
        "df2018 = df2018.append(Georgia2018, ignore_index=True)\n",
        "\n",
        "# Idaho11\n",
        "file1 = open('tempByStateIdaho.csv', 'r') \n",
        "df1 = pd.read_csv(file1)\n",
        "df1 = df1.drop(range(0,4))\n",
        "df1.columns = [\"Year\", \"Avg Temp\", \"Delta\"]\n",
        "for i in range(0, len(df1)):\n",
        "    df1.iloc[i].Year = df1.iloc[i].Year[:4]\n",
        "# create Idaho subset of tempDf\n",
        "df2 = pd.DataFrame(tempDf.loc[tempDf['State'] == 'Idaho'])\n",
        "df3 = pd.merge(df2, df1, on = ['Year'], how='left')\n",
        "# take the average of all columns\n",
        "df3 = df3.drop(columns = ['State', 'Year']).astype(float)\n",
        "IdahoMeans = df3.mean(axis = 0)\n",
        "# find the 2018 data\n",
        "Idaho2018 = df3.iloc[28,:]\n",
        "# merge into one df for means\n",
        "dfMeans = dfMeans.append(IdahoMeans, ignore_index=True)\n",
        "# merge into one df for 2018\n",
        "df2018 = df2018.append(Idaho2018, ignore_index=True)\n",
        "\n",
        "# Illinois12\n",
        "file1 = open('tempByStateIllinois.csv', 'r') \n",
        "df1 = pd.read_csv(file1)\n",
        "df1 = df1.drop(range(0,4))\n",
        "df1.columns = [\"Year\", \"Avg Temp\", \"Delta\"]\n",
        "for i in range(0, len(df1)):\n",
        "    df1.iloc[i].Year = df1.iloc[i].Year[:4]\n",
        "# create Illinois subset of tempDf\n",
        "df2 = pd.DataFrame(tempDf.loc[tempDf['State'] == 'Illinois'])\n",
        "df3 = pd.merge(df2, df1, on = ['Year'], how='left')\n",
        "# take the average of all columns\n",
        "df3 = df3.drop(columns = ['State', 'Year']).astype(float)\n",
        "IllinoisMeans = df3.mean(axis = 0)\n",
        "# find the 2018 data\n",
        "Illinois2018 = df3.iloc[28,:]\n",
        "# merge into one df for means\n",
        "dfMeans = dfMeans.append(IllinoisMeans, ignore_index=True)\n",
        "# merge into one df for 2018\n",
        "df2018 = df2018.append(Illinois2018, ignore_index=True)\n",
        "\n",
        "# Indiana13\n",
        "file1 = open('tempByStateIndiana.csv', 'r') \n",
        "df1 = pd.read_csv(file1)\n",
        "df1 = df1.drop(range(0,4))\n",
        "df1.columns = [\"Year\", \"Avg Temp\", \"Delta\"]\n",
        "for i in range(0, len(df1)):\n",
        "    df1.iloc[i].Year = df1.iloc[i].Year[:4]\n",
        "# create Indiana subset of tempDf\n",
        "df2 = pd.DataFrame(tempDf.loc[tempDf['State'] == 'Indiana'])\n",
        "df3 = pd.merge(df2, df1, on = ['Year'], how='left')\n",
        "# take the average of all columns\n",
        "df3 = df3.drop(columns = ['State', 'Year']).astype(float)\n",
        "IndianaMeans = df3.mean(axis = 0)\n",
        "# find the 2018 data\n",
        "Indiana2018 = df3.iloc[28,:]\n",
        "# merge into one df for means\n",
        "dfMeans = dfMeans.append(IndianaMeans, ignore_index=True)\n",
        "# merge into one df for 2018\n",
        "df2018 = df2018.append(Indiana2018, ignore_index=True)\n",
        "\n",
        "# Iowa14\n",
        "file1 = open('tempByStateIowa.csv', 'r') \n",
        "df1 = pd.read_csv(file1)\n",
        "df1 = df1.drop(range(0,4))\n",
        "df1.columns = [\"Year\", \"Avg Temp\", \"Delta\"]\n",
        "for i in range(0, len(df1)):\n",
        "    df1.iloc[i].Year = df1.iloc[i].Year[:4]\n",
        "# create Iowa subset of tempDf\n",
        "df2 = pd.DataFrame(tempDf.loc[tempDf['State'] == 'Iowa'])\n",
        "df3 = pd.merge(df2, df1, on = ['Year'], how='left')\n",
        "# take the average of all columns\n",
        "df3 = df3.drop(columns = ['State', 'Year']).astype(float)\n",
        "IowaMeans = df3.mean(axis = 0)\n",
        "# find the 2018 data\n",
        "Iowa2018 = df3.iloc[28,:]\n",
        "# merge into one df for means\n",
        "dfMeans = dfMeans.append(IowaMeans, ignore_index=True)\n",
        "# merge into one df for 2018\n",
        "df2018 = df2018.append(Iowa2018, ignore_index=True)\n",
        "\n",
        "# Kansas15\n",
        "file1 = open('tempByStateKansas.csv', 'r') \n",
        "df1 = pd.read_csv(file1)\n",
        "df1 = df1.drop(range(0,4))\n",
        "df1.columns = [\"Year\", \"Avg Temp\", \"Delta\"]\n",
        "for i in range(0, len(df1)):\n",
        "    df1.iloc[i].Year = df1.iloc[i].Year[:4]\n",
        "# create Kansas subset of tempDf\n",
        "df2 = pd.DataFrame(tempDf.loc[tempDf['State'] == 'Kansas'])\n",
        "df3 = pd.merge(df2, df1, on = ['Year'], how='left')\n",
        "# take the average of all columns\n",
        "df3 = df3.drop(columns = ['State', 'Year']).astype(float)\n",
        "KansasMeans = df3.mean(axis = 0)\n",
        "# find the 2018 data\n",
        "Kansas2018 = df3.iloc[28,:]\n",
        "# merge into one df for means\n",
        "dfMeans = dfMeans.append(KansasMeans, ignore_index=True)\n",
        "# merge into one df for 2018\n",
        "df2018 = df2018.append(Kansas2018, ignore_index=True)\n",
        "\n",
        "# Kentucky16\n",
        "file1 = open('tempByStateKentucky.csv', 'r') \n",
        "df1 = pd.read_csv(file1)\n",
        "df1 = df1.drop(range(0,4))\n",
        "df1.columns = [\"Year\", \"Avg Temp\", \"Delta\"]\n",
        "for i in range(0, len(df1)):\n",
        "    df1.iloc[i].Year = df1.iloc[i].Year[:4]\n",
        "# create Kentucky subset of tempDf\n",
        "df2 = pd.DataFrame(tempDf.loc[tempDf['State'] == 'Kentucky'])\n",
        "df3 = pd.merge(df2, df1, on = ['Year'], how='left')\n",
        "# take the average of all columns\n",
        "df3 = df3.drop(columns = ['State', 'Year']).astype(float)\n",
        "KentuckyMeans = df3.mean(axis = 0)\n",
        "# find the 2018 data\n",
        "Kentucky2018 = df3.iloc[28,:]\n",
        "# merge into one df for means\n",
        "dfMeans = dfMeans.append(KentuckyMeans, ignore_index=True)\n",
        "# merge into one df for 2018\n",
        "df2018 = df2018.append(Kentucky2018, ignore_index=True)\n",
        "\n",
        "# Louisiana17\n",
        "file1 = open('tempByStateLouisiana.csv', 'r') \n",
        "df1 = pd.read_csv(file1)\n",
        "df1 = df1.drop(range(0,4))\n",
        "df1.columns = [\"Year\", \"Avg Temp\", \"Delta\"]\n",
        "for i in range(0, len(df1)):\n",
        "    df1.iloc[i].Year = df1.iloc[i].Year[:4]\n",
        "# create Louisiana subset of tempDf\n",
        "df2 = pd.DataFrame(tempDf.loc[tempDf['State'] == 'Louisiana'])\n",
        "df3 = pd.merge(df2, df1, on = ['Year'], how='left')\n",
        "# take the average of all columns\n",
        "df3 = df3.drop(columns = ['State', 'Year']).astype(float)\n",
        "LouisianaMeans = df3.mean(axis = 0)\n",
        "# find the 2018 data\n",
        "Louisiana2018 = df3.iloc[28,:]\n",
        "# merge into one df for means\n",
        "dfMeans = dfMeans.append(LouisianaMeans, ignore_index=True)\n",
        "# merge into one df for 2018\n",
        "df2018 = df2018.append(Louisiana2018, ignore_index=True)\n",
        "\n",
        "# Maine18\n",
        "file1 = open('tempByStateMaine.csv', 'r') \n",
        "df1 = pd.read_csv(file1)\n",
        "df1 = df1.drop(range(0,4))\n",
        "df1.columns = [\"Year\", \"Avg Temp\", \"Delta\"]\n",
        "for i in range(0, len(df1)):\n",
        "    df1.iloc[i].Year = df1.iloc[i].Year[:4]\n",
        "# create Maine subset of tempDf\n",
        "df2 = pd.DataFrame(tempDf.loc[tempDf['State'] == 'Maine'])\n",
        "df3 = pd.merge(df2, df1, on = ['Year'], how='left')\n",
        "# take the average of all columns\n",
        "df3 = df3.drop(columns = ['State', 'Year']).astype(float)\n",
        "MaineMeans = df3.mean(axis = 0)\n",
        "# find the 2018 data\n",
        "Maine2018 = df3.iloc[28,:]\n",
        "# merge into one df for means\n",
        "dfMeans = dfMeans.append(MaineMeans, ignore_index=True)\n",
        "# merge into one df for 2018\n",
        "df2018 = df2018.append(Maine2018, ignore_index=True)\n",
        "\n",
        "# Maryland19\n",
        "file1 = open('tempByStateMaryland.csv', 'r') \n",
        "df1 = pd.read_csv(file1)\n",
        "df1 = df1.drop(range(0,4))\n",
        "df1.columns = [\"Year\", \"Avg Temp\", \"Delta\"]\n",
        "for i in range(0, len(df1)):\n",
        "    df1.iloc[i].Year = df1.iloc[i].Year[:4]\n",
        "# create Maryland subset of tempDf\n",
        "df2 = pd.DataFrame(tempDf.loc[tempDf['State'] == 'Maryland'])\n",
        "df3 = pd.merge(df2, df1, on = ['Year'], how='left')\n",
        "# take the average of all columns\n",
        "df3 = df3.drop(columns = ['State', 'Year']).astype(float)\n",
        "MarylandMeans = df3.mean(axis = 0)\n",
        "# find the 2018 data\n",
        "Maryland2018 = df3.iloc[28,:]\n",
        "# merge into one df for means\n",
        "dfMeans = dfMeans.append(MarylandMeans, ignore_index=True)\n",
        "# merge into one df for 2018\n",
        "df2018 = df2018.append(Maryland2018, ignore_index=True)\n",
        "\n",
        "# Massachusetts20\n",
        "file1 = open('tempByStateMassachusetts.csv', 'r') \n",
        "df1 = pd.read_csv(file1)\n",
        "df1 = df1.drop(range(0,4))\n",
        "df1.columns = [\"Year\", \"Avg Temp\", \"Delta\"]\n",
        "for i in range(0, len(df1)):\n",
        "    df1.iloc[i].Year = df1.iloc[i].Year[:4]\n",
        "# create Massachusetts subset of tempDf\n",
        "df2 = pd.DataFrame(tempDf.loc[tempDf['State'] == 'Massachusetts'])\n",
        "df3 = pd.merge(df2, df1, on = ['Year'], how='left')\n",
        "# take the average of all columns\n",
        "df3 = df3.drop(columns = ['State', 'Year']).astype(float)\n",
        "MassachusettsMeans = df3.mean(axis = 0)\n",
        "# find the 2018 data\n",
        "Massachusetts2018 = df3.iloc[28,:]\n",
        "# merge into one df for means\n",
        "dfMeans = dfMeans.append(MassachusettsMeans, ignore_index=True)\n",
        "# merge into one df for 2018\n",
        "df2018 = df2018.append(Massachusetts2018, ignore_index=True)\n",
        "\n",
        "# Michigan21\n",
        "file1 = open('tempByStateMichigan.csv', 'r') \n",
        "df1 = pd.read_csv(file1)\n",
        "df1 = df1.drop(range(0,4))\n",
        "df1.columns = [\"Year\", \"Avg Temp\", \"Delta\"]\n",
        "for i in range(0, len(df1)):\n",
        "    df1.iloc[i].Year = df1.iloc[i].Year[:4]\n",
        "# create Michigan subset of tempDf\n",
        "df2 = pd.DataFrame(tempDf.loc[tempDf['State'] == 'Michigan'])\n",
        "df3 = pd.merge(df2, df1, on = ['Year'], how='left')\n",
        "# take the average of all columns\n",
        "df3 = df3.drop(columns = ['State', 'Year']).astype(float)\n",
        "MichiganMeans = df3.mean(axis = 0)\n",
        "# find the 2018 data\n",
        "Michigan2018 = df3.iloc[28,:]\n",
        "# merge into one df for means\n",
        "dfMeans = dfMeans.append(MichiganMeans, ignore_index=True)\n",
        "# merge into one df for 2018\n",
        "df2018 = df2018.append(Michigan2018, ignore_index=True)\n",
        "\n",
        "# Minnesota22\n",
        "file1 = open('tempByStateMinnesota.csv', 'r') \n",
        "df1 = pd.read_csv(file1)\n",
        "df1 = df1.drop(range(0,4))\n",
        "df1.columns = [\"Year\", \"Avg Temp\", \"Delta\"]\n",
        "for i in range(0, len(df1)):\n",
        "    df1.iloc[i].Year = df1.iloc[i].Year[:4]\n",
        "# create Minnesota subset of tempDf\n",
        "df2 = pd.DataFrame(tempDf.loc[tempDf['State'] == 'Minnesota'])\n",
        "df3 = pd.merge(df2, df1, on = ['Year'], how='left')\n",
        "# take the average of all columns\n",
        "df3 = df3.drop(columns = ['State', 'Year']).astype(float)\n",
        "MinnesotaMeans = df3.mean(axis = 0)\n",
        "# find the 2018 data\n",
        "Minnesota2018 = df3.iloc[28,:]\n",
        "# merge into one df for means\n",
        "dfMeans = dfMeans.append(MinnesotaMeans, ignore_index=True)\n",
        "# merge into one df for 2018\n",
        "df2018 = df2018.append(Minnesota2018, ignore_index=True)\n",
        "\n",
        "# Mississippi23\n",
        "file1 = open('tempByStateMississippi.csv', 'r') \n",
        "df1 = pd.read_csv(file1)\n",
        "df1 = df1.drop(range(0,4))\n",
        "df1.columns = [\"Year\", \"Avg Temp\", \"Delta\"]\n",
        "for i in range(0, len(df1)):\n",
        "    df1.iloc[i].Year = df1.iloc[i].Year[:4]\n",
        "# create Mississippi subset of tempDf\n",
        "df2 = pd.DataFrame(tempDf.loc[tempDf['State'] == 'Mississippi'])\n",
        "df3 = pd.merge(df2, df1, on = ['Year'], how='left')\n",
        "# take the average of all columns\n",
        "df3 = df3.drop(columns = ['State', 'Year']).astype(float)\n",
        "MississippiMeans = df3.mean(axis = 0)\n",
        "# find the 2018 data\n",
        "Mississippi2018 = df3.iloc[28,:]\n",
        "# merge into one df for means\n",
        "dfMeans = dfMeans.append(MississippiMeans, ignore_index=True)\n",
        "# merge into one df for 2018\n",
        "df2018 = df2018.append(Mississippi2018, ignore_index=True)\n",
        "\n",
        "# Missouri24\n",
        "file1 = open('tempByStateMissouri.csv', 'r') \n",
        "df1 = pd.read_csv(file1)\n",
        "df1 = df1.drop(range(0,4))\n",
        "df1.columns = [\"Year\", \"Avg Temp\", \"Delta\"]\n",
        "for i in range(0, len(df1)):\n",
        "    df1.iloc[i].Year = df1.iloc[i].Year[:4]\n",
        "# create Missouri subset of tempDf\n",
        "df2 = pd.DataFrame(tempDf.loc[tempDf['State'] == 'Missouri'])\n",
        "df3 = pd.merge(df2, df1, on = ['Year'], how='left')\n",
        "# take the average of all columns\n",
        "df3 = df3.drop(columns = ['State', 'Year']).astype(float)\n",
        "MissouriMeans = df3.mean(axis = 0)\n",
        "# find the 2018 data\n",
        "Missouri2018 = df3.iloc[28,:]\n",
        "# merge into one df for means\n",
        "dfMeans = dfMeans.append(MissouriMeans, ignore_index=True)\n",
        "# merge into one df for 2018\n",
        "df2018 = df2018.append(Missouri2018, ignore_index=True)\n",
        "\n",
        "# Montana25\n",
        "file1 = open('tempByStateMontana.csv', 'r') \n",
        "df1 = pd.read_csv(file1)\n",
        "df1 = df1.drop(range(0,4))\n",
        "df1.columns = [\"Year\", \"Avg Temp\", \"Delta\"]\n",
        "for i in range(0, len(df1)):\n",
        "    df1.iloc[i].Year = df1.iloc[i].Year[:4]\n",
        "# create Montana subset of tempDf\n",
        "df2 = pd.DataFrame(tempDf.loc[tempDf['State'] == 'Montana'])\n",
        "df3 = pd.merge(df2, df1, on = ['Year'], how='left')\n",
        "# take the average of all columns\n",
        "df3 = df3.drop(columns = ['State', 'Year']).astype(float)\n",
        "MontanaMeans = df3.mean(axis = 0)\n",
        "# find the 2018 data\n",
        "Montana2018 = df3.iloc[28,:]\n",
        "# merge into one df for means\n",
        "dfMeans = dfMeans.append(MontanaMeans, ignore_index=True)\n",
        "# merge into one df for 2018\n",
        "df2018 = df2018.append(Montana2018, ignore_index=True)\n",
        "\n",
        "# Nebraska26\n",
        "file1 = open('tempByStateNebraska.csv', 'r') \n",
        "df1 = pd.read_csv(file1)\n",
        "df1 = df1.drop(range(0,4))\n",
        "df1.columns = [\"Year\", \"Avg Temp\", \"Delta\"]\n",
        "for i in range(0, len(df1)):\n",
        "    df1.iloc[i].Year = df1.iloc[i].Year[:4]\n",
        "# create Nebraska subset of tempDf\n",
        "df2 = pd.DataFrame(tempDf.loc[tempDf['State'] == 'Nebraska'])\n",
        "df3 = pd.merge(df2, df1, on = ['Year'], how='left')\n",
        "# take the average of all columns\n",
        "df3 = df3.drop(columns = ['State', 'Year']).astype(float)\n",
        "NebraskaMeans = df3.mean(axis = 0)\n",
        "# find the 2018 data\n",
        "Nebraska2018 = df3.iloc[28,:]\n",
        "# merge into one df for means\n",
        "dfMeans = dfMeans.append(NebraskaMeans, ignore_index=True)\n",
        "# merge into one df for 2018\n",
        "df2018 = df2018.append(Nebraska2018, ignore_index=True)\n",
        "\n",
        "# Nevada27\n",
        "file1 = open('tempByStateNevada.csv', 'r') \n",
        "df1 = pd.read_csv(file1)\n",
        "df1 = df1.drop(range(0,4))\n",
        "df1.columns = [\"Year\", \"Avg Temp\", \"Delta\"]\n",
        "for i in range(0, len(df1)):\n",
        "    df1.iloc[i].Year = df1.iloc[i].Year[:4]\n",
        "# create Nevada subset of tempDf\n",
        "df2 = pd.DataFrame(tempDf.loc[tempDf['State'] == 'Nevada'])\n",
        "df3 = pd.merge(df2, df1, on = ['Year'], how='left')\n",
        "# take the average of all columns\n",
        "df3= df3.drop(columns = ['State', 'Year']).astype(float)\n",
        "NevadaMeans = df3.mean(axis = 0)\n",
        "# find the 2018 data\n",
        "Nevada2018 = df3.iloc[28,:]\n",
        "# merge into one df for means\n",
        "dfMeans = dfMeans.append(NevadaMeans, ignore_index=True)\n",
        "# merge into one df for 2018\n",
        "df2018 = df2018.append(Nevada2018, ignore_index=True)\n",
        "\n",
        "# NewHampshire28\n",
        "file1 = open('tempByStateNewHampshire.csv', 'r') \n",
        "df1 = pd.read_csv(file1)\n",
        "df1 = df1.drop(range(0,4))\n",
        "df1.columns = [\"Year\", \"Avg Temp\", \"Delta\"]\n",
        "for i in range(0, len(df1)):\n",
        "    df1.iloc[i].Year = df1.iloc[i].Year[:4]\n",
        "# create New Hampshire subset of tempDf\n",
        "df2 = pd.DataFrame(tempDf.loc[tempDf['State'] == 'New Hampshire'])\n",
        "df3 = pd.merge(df2, df1, on = ['Year'], how='left')\n",
        "# take the average of all columns\n",
        "df3 = df3.drop(columns = ['State', 'Year']).astype(float)\n",
        "NewHampshireMeans = df3.mean(axis = 0)\n",
        "# find the 2018 data\n",
        "NewHampshire2018 = df3.iloc[28,:]\n",
        "# merge into one df for means\n",
        "dfMeans = dfMeans.append(NewHampshireMeans, ignore_index=True)\n",
        "# merge into one df for 2018\n",
        "df2018 = df2018.append(NewHampshire2018, ignore_index=True)\n",
        "\n",
        "# NewJersey29\n",
        "file1 = open('tempByStateNewJersey.csv', 'r') \n",
        "df1 = pd.read_csv(file1)\n",
        "df1 = df1.drop(range(0,4))\n",
        "df1.columns = [\"Year\", \"Avg Temp\", \"Delta\"]\n",
        "for i in range(0, len(df1)):\n",
        "    df1.iloc[i].Year = df1.iloc[i].Year[:4]\n",
        "# create New Jersey subset of tempDf\n",
        "df2 = pd.DataFrame(tempDf.loc[tempDf['State'] == 'New Jersey'])\n",
        "df3 = pd.merge(df2, df1, on = ['Year'], how='left')\n",
        "# take the average of all columns\n",
        "df3 = df3.drop(columns = ['State', 'Year']).astype(float)\n",
        "NewJerseyMeans = df3.mean(axis = 0)\n",
        "# find the 2018 data\n",
        "NewJersey2018 = df3.iloc[28,:]\n",
        "# merge into one df for means\n",
        "dfMeans = dfMeans.append(NewJerseyMeans, ignore_index=True)\n",
        "# merge into one df for 2018\n",
        "df2018 = df2018.append(NewJersey2018, ignore_index=True)\n",
        "\n",
        "# NewMexico30\n",
        "file1 = open('tempByStateNewMexico.csv', 'r') \n",
        "df1 = pd.read_csv(file1)\n",
        "df1 = df1.drop(range(0,4))\n",
        "df1.columns = [\"Year\", \"Avg Temp\", \"Delta\"]\n",
        "for i in range(0, len(df1)):\n",
        "    df1.iloc[i].Year = df1.iloc[i].Year[:4]\n",
        "# create New Mexico subset of tempDf\n",
        "df2 = pd.DataFrame(tempDf.loc[tempDf['State'] == 'New Mexico'])\n",
        "df3 = pd.merge(df2, df1, on = ['Year'], how='left')\n",
        "# take the average of all columns\n",
        "df3 = df3.drop(columns = ['State', 'Year']).astype(float)\n",
        "NewMexicoMeans = df3.mean(axis = 0)\n",
        "# find the 2018 data\n",
        "NewMexico2018 = df3.iloc[28,:]\n",
        "# merge into one df for means\n",
        "dfMeans = dfMeans.append(NewMexicoMeans, ignore_index=True)\n",
        "# merge into one df for 2018\n",
        "df2018 = df2018.append(NewMexico2018, ignore_index=True)\n",
        "\n",
        "# NewYork31\n",
        "file1 = open('tempByStateNewYork.csv', 'r') \n",
        "df1 = pd.read_csv(file1)\n",
        "df1 = df1.drop(range(0,4))\n",
        "df1.columns = [\"Year\", \"Avg Temp\", \"Delta\"]\n",
        "for i in range(0, len(df1)):\n",
        "    df1.iloc[i].Year = df1.iloc[i].Year[:4]\n",
        "# create New York subset of tempDf\n",
        "df2 = pd.DataFrame(tempDf.loc[tempDf['State'] == 'New York'])\n",
        "df3 = pd.merge(df2, df1, on = ['Year'], how='left')\n",
        "# take the average of all columns\n",
        "df3 = df3.drop(columns = ['State', 'Year']).astype(float)\n",
        "NewYorkMeans = df3.mean(axis = 0)\n",
        "# find the 2018 data\n",
        "NewYork2018 = df3.iloc[28,:]\n",
        "# merge into one df for means\n",
        "dfMeans = dfMeans.append(NewYorkMeans, ignore_index=True)\n",
        "# merge into one df for 2018\n",
        "df2018 = df2018.append(NewYork2018, ignore_index=True)\n",
        "\n",
        "# NorthCarolina32\n",
        "file1 = open('tempByStateNorthCarolina.csv', 'r') \n",
        "df1 = pd.read_csv(file1)\n",
        "df1 = df1.drop(range(0,4))\n",
        "df1.columns = [\"Year\", \"Avg Temp\", \"Delta\"]\n",
        "for i in range(0, len(df1)):\n",
        "    df1.iloc[i].Year = df1.iloc[i].Year[:4]\n",
        "# create North Carolina subset of tempDf\n",
        "df2 = pd.DataFrame(tempDf.loc[tempDf['State'] == 'North Carolina'])\n",
        "df3 = pd.merge(df2, df1, on = ['Year'], how='left')\n",
        "# take the average of all columns\n",
        "df3 = df3.drop(columns = ['State', 'Year']).astype(float)\n",
        "NorthCarolinaMeans = df3.mean(axis = 0)\n",
        "# find the 2018 data\n",
        "NorthCarolina2018 = df3.iloc[28,:]\n",
        "# merge into one df for means\n",
        "dfMeans = dfMeans.append(NorthCarolinaMeans, ignore_index=True)\n",
        "# merge into one df for 2018\n",
        "df2018 = df2018.append(NorthCarolina2018, ignore_index=True)\n",
        "\n",
        "# NorthDakota33\n",
        "file1 = open('tempByStateNorthDakota.csv', 'r') \n",
        "df1 = pd.read_csv(file1)\n",
        "df1 = df1.drop(range(0,4))\n",
        "df1.columns = [\"Year\", \"Avg Temp\", \"Delta\"]\n",
        "for i in range(0, len(df1)):\n",
        "    df1.iloc[i].Year = df1.iloc[i].Year[:4]\n",
        "# create NorthDakota subset of tempDf\n",
        "df2 = pd.DataFrame(tempDf.loc[tempDf['State'] == 'North Dakota'])\n",
        "df3 = pd.merge(df2, df1, on = ['Year'], how='left')\n",
        "# take the average of all columns\n",
        "df3 = df3.drop(columns = ['State', 'Year']).astype(float)\n",
        "NorthDakotaMeans = df3.mean(axis = 0)\n",
        "# find the 2018 data\n",
        "NorthDakota2018 = df3.iloc[28,:]\n",
        "# merge into one df for means\n",
        "dfMeans = dfMeans.append(NorthDakotaMeans, ignore_index=True)\n",
        "# merge into one df for 2018\n",
        "df2018 = df2018.append(NorthDakota2018, ignore_index=True)\n",
        "\n",
        "# Ohio34\n",
        "file1 = open('tempByStateOhio.csv', 'r') \n",
        "df1 = pd.read_csv(file1)\n",
        "df1 = df1.drop(range(0,4))\n",
        "df1.columns = [\"Year\", \"Avg Temp\", \"Delta\"]\n",
        "for i in range(0, len(df1)):\n",
        "    df1.iloc[i].Year = df1.iloc[i].Year[:4]\n",
        "# create Ohio subset of tempDf\n",
        "df2 = pd.DataFrame(tempDf.loc[tempDf['State'] == 'Ohio'])\n",
        "df3 = pd.merge(df2, df1, on = ['Year'], how='left')\n",
        "# take the average of all columns\n",
        "df3 = df3.drop(columns = ['State', 'Year']).astype(float)\n",
        "OhioMeans = df3.mean(axis = 0)\n",
        "# find the 2018 data\n",
        "Ohio2018 = df3.iloc[28,:]\n",
        "# merge into one df for means\n",
        "dfMeans = dfMeans.append(OhioMeans, ignore_index=True)\n",
        "# merge into one df for 2018\n",
        "df2018 = df2018.append(Ohio2018, ignore_index=True)\n",
        "\n",
        "# Oklahoma35\n",
        "file1 = open('tempByStateOklahoma.csv', 'r') \n",
        "df1 = pd.read_csv(file1)\n",
        "df1 = df1.drop(range(0,4))\n",
        "df1.columns = [\"Year\", \"Avg Temp\", \"Delta\"]\n",
        "for i in range(0, len(df1)):\n",
        "    df1.iloc[i].Year = df1.iloc[i].Year[:4]\n",
        "# create Oklahoma subset of tempDf\n",
        "df2 = pd.DataFrame(tempDf.loc[tempDf['State'] == 'Oklahoma'])\n",
        "df3 = pd.merge(df2, df1, on = ['Year'], how='left')\n",
        "# take the average of all columns\n",
        "df3 = df3.drop(columns = ['State', 'Year']).astype(float)\n",
        "OklahomaMeans = df3.mean(axis = 0)\n",
        "# find the 2018 data\n",
        "Oklahoma2018 = df3.iloc[28,:]\n",
        "# merge into one df for means\n",
        "dfMeans = dfMeans.append(OklahomaMeans, ignore_index=True)\n",
        "# merge into one df for 2018\n",
        "df2018 = df2018.append(Oklahoma2018, ignore_index=True)\n",
        "\n",
        "# Oregon36\n",
        "file1 = open('tempByStateOregon.csv', 'r') \n",
        "df1 = pd.read_csv(file1)\n",
        "df1 = df1.drop(range(0,4))\n",
        "df1.columns = [\"Year\", \"Avg Temp\", \"Delta\"]\n",
        "for i in range(0, len(df1)):\n",
        "    df1.iloc[i].Year = df1.iloc[i].Year[:4]\n",
        "# create Oregon subset of tempDf\n",
        "df2 = pd.DataFrame(tempDf.loc[tempDf['State'] == 'Oregon'])\n",
        "df3 = pd.merge(df2, df1, on = ['Year'], how='left')\n",
        "# take the average of all columns\n",
        "df3 = df3.drop(columns = ['State', 'Year']).astype(float)\n",
        "OregonMeans = df3.mean(axis = 0)\n",
        "# find the 2018 data\n",
        "Oregon2018 = df3.iloc[28,:]\n",
        "# merge into one df for means\n",
        "dfMeans = dfMeans.append(OregonMeans, ignore_index=True)\n",
        "# merge into one df for 2018\n",
        "df2018 = df2018.append(Oregon2018, ignore_index=True)\n",
        "\n",
        "# Pennsylvania37\n",
        "file1 = open('tempByStatePennsylvania.csv', 'r') \n",
        "df1 = pd.read_csv(file1)\n",
        "df1 = df1.drop(range(0,4))\n",
        "df1.columns = [\"Year\", \"Avg Temp\", \"Delta\"]\n",
        "for i in range(0, len(df1)):\n",
        "    df1.iloc[i].Year = df1.iloc[i].Year[:4]\n",
        "# create Pennsylvania subset of tempDf\n",
        "df2 = pd.DataFrame(tempDf.loc[tempDf['State'] == 'Pennsylvania'])\n",
        "df3 = pd.merge(df2, df1, on = ['Year'], how='left')\n",
        "# take the average of all columns\n",
        "df3 = df3.drop(columns = ['State', 'Year']).astype(float)\n",
        "PennsylvaniaMeans = df3.mean(axis = 0)\n",
        "# find the 2018 data\n",
        "Pennsylvania2018 = df3.iloc[28,:]\n",
        "# merge into one df for means\n",
        "dfMeans = dfMeans.append(PennsylvaniaMeans, ignore_index=True)\n",
        "# merge into one df for 2018\n",
        "df2018 = df2018.append(Pennsylvania2018, ignore_index=True)\n",
        "\n",
        "# RhodeIsland38\n",
        "file1 = open('tempByStateRhodeIsland.csv', 'r') \n",
        "df1 = pd.read_csv(file1)\n",
        "df1 = df1.drop(range(0,4))\n",
        "df1.columns = [\"Year\", \"Avg Temp\", \"Delta\"]\n",
        "for i in range(0, len(df1)):\n",
        "    df1.iloc[i].Year = df1.iloc[i].Year[:4]\n",
        "# create RhodeIsland subset of tempDf\n",
        "df2 = pd.DataFrame(tempDf.loc[tempDf['State'] == 'Rhode Island'])\n",
        "df3 = pd.merge(df2, df1, on = ['Year'], how='left')\n",
        "# take the average of all columns\n",
        "df3 = df3.drop(columns = ['State', 'Year']).astype(float)\n",
        "RhodeIslandMeans = df3.mean(axis = 0)\n",
        "# find the 2018 data\n",
        "RhodeIsland2018 = df3.iloc[28,:]\n",
        "# merge into one df for means\n",
        "dfMeans = dfMeans.append(RhodeIslandMeans, ignore_index=True)\n",
        "# merge into one df for 2018\n",
        "df2018 = df2018.append(RhodeIsland2018, ignore_index=True)\n",
        "\n",
        "# SouthCarolina39\n",
        "file1 = open('tempByStateSouthCarolina.csv', 'r') \n",
        "df1 = pd.read_csv(file1)\n",
        "df1 = df1.drop(range(0,4))\n",
        "df1.columns = [\"Year\", \"Avg Temp\", \"Delta\"]\n",
        "for i in range(0, len(df1)):\n",
        "    df1.iloc[i].Year = df1.iloc[i].Year[:4]\n",
        "# create SouthCarolina subset of tempDf\n",
        "df2 = pd.DataFrame(tempDf.loc[tempDf['State'] == 'South Carolina'])\n",
        "df3 = pd.merge(df2, df1, on = ['Year'], how='left')\n",
        "# take the average of all columns\n",
        "df3 = df3.drop(columns = ['State', 'Year']).astype(float)\n",
        "SouthCarolinaMeans = df3.mean(axis = 0)\n",
        "# find the 2018 data\n",
        "SouthCarolina2018 = df3.iloc[28,:]\n",
        "# merge into one df for means\n",
        "dfMeans = dfMeans.append(SouthCarolinaMeans, ignore_index=True)\n",
        "# merge into one df for 2018\n",
        "df2018 = df2018.append(SouthCarolina2018, ignore_index=True)\n",
        "\n",
        "# SouthDakota40\n",
        "file1 = open('tempByStateSouthDakota.csv', 'r') \n",
        "df1 = pd.read_csv(file1)\n",
        "df1 = df1.drop(range(0,4))\n",
        "df1.columns = [\"Year\", \"Avg Temp\", \"Delta\"]\n",
        "for i in range(0, len(df1)):\n",
        "    df1.iloc[i].Year = df1.iloc[i].Year[:4]\n",
        "# create SouthDakota subset of tempDf\n",
        "df2 = pd.DataFrame(tempDf.loc[tempDf['State'] == 'South Dakota'])\n",
        "df3 = pd.merge(df2, df1, on = ['Year'], how='left')\n",
        "# take the average of all columns\n",
        "df3 = df3.drop(columns = ['State', 'Year']).astype(float)\n",
        "SouthDakotaMeans = df3.mean(axis = 0)\n",
        "# find the 2018 data\n",
        "SouthDakota2018 = df3.iloc[28,:]\n",
        "# merge into one df for means\n",
        "dfMeans = dfMeans.append(SouthDakotaMeans, ignore_index=True)\n",
        "# merge into one df for 2018\n",
        "df2018 = df2018.append(SouthDakota2018, ignore_index=True)\n",
        "\n",
        "# Tennessee41\n",
        "file1 = open('tempByStateTennessee.csv', 'r') \n",
        "df1 = pd.read_csv(file1)\n",
        "df1 = df1.drop(range(0,4))\n",
        "df1.columns = [\"Year\", \"Avg Temp\", \"Delta\"]\n",
        "for i in range(0, len(df1)):\n",
        "    df1.iloc[i].Year = df1.iloc[i].Year[:4]\n",
        "# create Tennessee subset of tempDf\n",
        "df2 = pd.DataFrame(tempDf.loc[tempDf['State'] == 'Tennessee'])\n",
        "df3 = pd.merge(df2, df1, on = ['Year'], how='left')\n",
        "# take the average of all columns\n",
        "df3 = df3.drop(columns = ['State', 'Year']).astype(float)\n",
        "TennesseeMeans = df3.mean(axis = 0)\n",
        "# find the 2018 data\n",
        "Tennessee2018 = df3.iloc[28,:]\n",
        "# merge into one df for means\n",
        "dfMeans = dfMeans.append(TennesseeMeans, ignore_index=True)\n",
        "# merge into one df for 2018\n",
        "df2018 = df2018.append(Tennessee2018, ignore_index=True)\n",
        "\n",
        "# Texas42\n",
        "file1 = open('tempByStateTexas.csv', 'r') \n",
        "df1 = pd.read_csv(file1)\n",
        "df1 = df1.drop(range(0,4))\n",
        "df1.columns = [\"Year\", \"Avg Temp\", \"Delta\"]\n",
        "for i in range(0, len(df1)):\n",
        "    df1.iloc[i].Year = df1.iloc[i].Year[:4]\n",
        "# create Texas subset of tempDf\n",
        "df2 = pd.DataFrame(tempDf.loc[tempDf['State'] == 'Texas'])\n",
        "df3 = pd.merge(df2, df1, on = ['Year'], how='left')\n",
        "# take the average of all columns\n",
        "df3 = df3.drop(columns = ['State', 'Year']).astype(float)\n",
        "TexasMeans = df3.mean(axis = 0)\n",
        "# find the 2018 data\n",
        "Texas2018 = df3.iloc[28,:]\n",
        "# merge into one df for means\n",
        "dfMeans = dfMeans.append(TexasMeans, ignore_index=True)\n",
        "# merge into one df for 2018\n",
        "df2018 = df2018.append(Texas2018, ignore_index=True)\n",
        "\n",
        "# Utah43\n",
        "file1 = open('tempByStateUtah.csv', 'r') \n",
        "df1 = pd.read_csv(file1)\n",
        "df1 = df1.drop(range(0,4))\n",
        "df1.columns = [\"Year\", \"Avg Temp\", \"Delta\"]\n",
        "for i in range(0, len(df1)):\n",
        "    df1.iloc[i].Year = df1.iloc[i].Year[:4]\n",
        "# create Utah subset of tempDf\n",
        "df2 = pd.DataFrame(tempDf.loc[tempDf['State'] == 'Utah'])\n",
        "df3 = pd.merge(df2, df1, on = ['Year'], how='left')\n",
        "# take the average of all columns\n",
        "df3 = df3.drop(columns = ['State', 'Year']).astype(float)\n",
        "UtahMeans = df3.mean(axis = 0)\n",
        "# find the 2018 data\n",
        "Utah2018 = df3.iloc[28,:]\n",
        "# merge into one df for means\n",
        "dfMeans = dfMeans.append(UtahMeans, ignore_index=True)\n",
        "# merge into one df for 2018\n",
        "df2018 = df2018.append(Utah2018, ignore_index=True)\n",
        "\n",
        "# Vermont44\n",
        "file1 = open('tempByStateVermont.csv', 'r') \n",
        "df1 = pd.read_csv(file1)\n",
        "df1 = df1.drop(range(0,4))\n",
        "df1.columns = [\"Year\", \"Avg Temp\", \"Delta\"]\n",
        "for i in range(0, len(df1)):\n",
        "    df1.iloc[i].Year = df1.iloc[i].Year[:4]\n",
        "# create Vermont subset of tempDf\n",
        "df2 = pd.DataFrame(tempDf.loc[tempDf['State'] == 'Vermont'])\n",
        "df3 = pd.merge(df2, df1, on = ['Year'], how='left')\n",
        "# take the average of all columns\n",
        "df3 = df3.drop(columns = ['State', 'Year']).astype(float)\n",
        "VermontMeans = df3.mean(axis = 0)\n",
        "# find the 2018 data\n",
        "Vermont2018 = df3.iloc[28,:]\n",
        "# merge into one df for means\n",
        "dfMeans = dfMeans.append(VermontMeans, ignore_index=True)\n",
        "# merge into one df for 2018\n",
        "df2018 = df2018.append(Vermont2018, ignore_index=True)\n",
        "\n",
        "# Virginia45\n",
        "file1 = open('tempByStateVirginia.csv', 'r') \n",
        "df1 = pd.read_csv(file1)\n",
        "df1 = df1.drop(range(0,4))\n",
        "df1.columns = [\"Year\", \"Avg Temp\", \"Delta\"]\n",
        "for i in range(0, len(df1)):\n",
        "    df1.iloc[i].Year = df1.iloc[i].Year[:4]\n",
        "# create Virginia subset of tempDf\n",
        "df2 = pd.DataFrame(tempDf.loc[tempDf['State'] == 'Virginia'])\n",
        "df3 = pd.merge(df2, df1, on = ['Year'], how='left')\n",
        "# take the average of all columns\n",
        "df3 = df3.drop(columns = ['State', 'Year']).astype(float)\n",
        "VirginiaMeans = df3.mean(axis = 0)\n",
        "# find the 2018 data\n",
        "Virginia2018 = df3.iloc[28,:]\n",
        "# merge into one df for means\n",
        "dfMeans = dfMeans.append(VirginiaMeans, ignore_index=True)\n",
        "# merge into one df for 2018\n",
        "df2018 = df2018.append(Virginia2018, ignore_index=True)\n",
        "\n",
        "# Washington46\n",
        "file1 = open('tempByStateWashington.csv', 'r') \n",
        "df1 = pd.read_csv(file1)\n",
        "df1 = df1.drop(range(0,4))\n",
        "df1.columns = [\"Year\", \"Avg Temp\", \"Delta\"]\n",
        "for i in range(0, len(df1)):\n",
        "    df1.iloc[i].Year = df1.iloc[i].Year[:4]\n",
        "# create Washington subset of tempDf\n",
        "df2 = pd.DataFrame(tempDf.loc[tempDf['State'] == 'Washington'])\n",
        "df3 = pd.merge(df2, df1, on = ['Year'], how='left')\n",
        "# take the average of all columns\n",
        "df3 = df3.drop(columns = ['State', 'Year']).astype(float)\n",
        "WashingtonMeans = df3.mean(axis = 0)\n",
        "# find the 2018 data\n",
        "Washington2018 = df3.iloc[28,:]\n",
        "# merge into one df for means\n",
        "dfMeans = dfMeans.append(WashingtonMeans, ignore_index=True)\n",
        "# merge into one df for 2018\n",
        "df2018 = df2018.append(Washington2018, ignore_index=True)\n",
        "\n",
        "# WestVirginia47\n",
        "file1 = open('tempByStateWestVirginia.csv', 'r') \n",
        "df1 = pd.read_csv(file1)\n",
        "df1 = df1.drop(range(0,4))\n",
        "df1.columns = [\"Year\", \"Avg Temp\", \"Delta\"]\n",
        "for i in range(0, len(df1)):\n",
        "    df1.iloc[i].Year = df1.iloc[i].Year[:4]\n",
        "# create WestVirginia subset of tempDf\n",
        "df2 = pd.DataFrame(tempDf.loc[tempDf['State'] == 'West Virginia'])\n",
        "df3 = pd.merge(df2, df1, on = ['Year'], how='left')\n",
        "# take the average of all columns\n",
        "df3 = df3.drop(columns = ['State', 'Year']).astype(float)\n",
        "WestVirginiaMeans = df3.mean(axis = 0)\n",
        "# find the 2018 data\n",
        "WestVirginia2018 = df3.iloc[28,:]\n",
        "# merge into one df for means\n",
        "dfMeans = dfMeans.append(WestVirginiaMeans, ignore_index=True)\n",
        "# merge into one df for 2018\n",
        "df2018 = df2018.append(WestVirginia2018, ignore_index=True)\n",
        "\n",
        "# Wisconsin48\n",
        "file1 = open('tempByStateWisconsin.csv', 'r') \n",
        "df1 = pd.read_csv(file1)\n",
        "df1 = df1.drop(range(0,4))\n",
        "df1.columns = [\"Year\", \"Avg Temp\", \"Delta\"]\n",
        "for i in range(0, len(df1)):\n",
        "    df1.iloc[i].Year = df1.iloc[i].Year[:4]\n",
        "# create Wisconsin subset of tempDf\n",
        "df2 = pd.DataFrame(tempDf.loc[tempDf['State'] == 'Wisconsin'])\n",
        "df3 = pd.merge(df2, df1, on = ['Year'], how='left')\n",
        "# take the average of all columns\n",
        "df3 = df3.drop(columns = ['State', 'Year']).astype(float)\n",
        "WisconsinMeans = df3.mean(axis = 0)\n",
        "# find the 2018 data\n",
        "Wisconsin2018 = df3.iloc[28,:]\n",
        "# merge into one df for means\n",
        "dfMeans = dfMeans.append(WisconsinMeans, ignore_index=True)\n",
        "# merge into one df for 2018\n",
        "df2018 = df2018.append(Wisconsin2018, ignore_index=True)\n",
        "\n",
        "# Wyoming49\n",
        "file1 = open('tempByStateWyoming.csv', 'r') \n",
        "df1 = pd.read_csv(file1)\n",
        "df1 = df1.drop(range(0,4))\n",
        "df1.columns = [\"Year\", \"Avg Temp\", \"Delta\"]\n",
        "for i in range(0, len(df1)):\n",
        "    df1.iloc[i].Year = df1.iloc[i].Year[:4]\n",
        "# create Wyoming subset of tempDf\n",
        "df2 = pd.DataFrame(tempDf.loc[tempDf['State'] == 'Wyoming'])\n",
        "df3 = pd.merge(df2, df1, on = ['Year'], how='left')\n",
        "# take the average of all columns\n",
        "df3 = df3.drop(columns = ['State', 'Year']).astype(float)\n",
        "WyomingMeans = df3.mean(axis = 0)\n",
        "# find the 2018 data\n",
        "Wyoming2018 = df3.iloc[28,:]\n",
        "# merge into one df for means\n",
        "dfMeans = dfMeans.append(WyomingMeans, ignore_index=True)\n",
        "# merge into one df for 2018\n",
        "df2018 = df2018.append(Wyoming2018, ignore_index=True)"
      ],
      "execution_count": null,
      "outputs": []
    },
    {
      "cell_type": "markdown",
      "metadata": {
        "id": "cM_jsvDapU_D"
      },
      "source": [
        "Split to form train/test sets"
      ]
    },
    {
      "cell_type": "code",
      "metadata": {
        "id": "QT6zsV0NFt-_"
      },
      "source": [
        "# use a 80/20 split to divide into train/test sets\n",
        "from sklearn.model_selection import train_test_split\n",
        "xTrainMeans, xTestMeans, yTrain, yTest = train_test_split(dfMeans, happeningDf, test_size = 0.2, random_state=42)\n",
        "xTrain2018, xTest2018, yTrain, yTest = train_test_split(df2018, happeningDf, test_size = 0.2, random_state=42)"
      ],
      "execution_count": null,
      "outputs": []
    },
    {
      "cell_type": "markdown",
      "metadata": {
        "id": "MoaGWel1uBRu"
      },
      "source": [
        "# Feature Selection using Recursive Feature Elimination with Cross Validation"
      ]
    },
    {
      "cell_type": "markdown",
      "metadata": {
        "id": "QYS8T0EoLi90"
      },
      "source": [
        "Linear Regression"
      ]
    },
    {
      "cell_type": "code",
      "metadata": {
        "colab": {
          "base_uri": "https://localhost:8080/"
        },
        "id": "In14aPCDFguZ",
        "outputId": "9decf894-8cea-4034-ca5b-a0e938145835"
      },
      "source": [
        "yTrain.values.ravel()"
      ],
      "execution_count": null,
      "outputs": [
        {
          "output_type": "execute_result",
          "data": {
            "text/plain": [
              "array([64.338, 77.228, 63.644, 72.234, 65.637, 73.851, 64.346, 71.143,\n",
              "       59.321, 62.05 , 69.731, 66.443, 66.062, 67.615, 78.274, 63.347,\n",
              "       73.357, 60.543, 72.025, 71.693, 74.238, 70.152, 70.159, 70.841,\n",
              "       70.853, 72.438, 73.498, 67.191, 65.364, 66.009, 65.513, 77.523,\n",
              "       60.024, 69.381, 71.461, 67.189, 66.948, 76.631, 68.26 ])"
            ]
          },
          "metadata": {
            "tags": []
          },
          "execution_count": 63
        }
      ]
    },
    {
      "cell_type": "code",
      "metadata": {
        "colab": {
          "base_uri": "https://localhost:8080/"
        },
        "id": "faZvriCGLHt8",
        "outputId": "ba06b688-5868-4ed8-a91b-13a61a1c0d87"
      },
      "source": [
        "from sklearn.feature_selection import RFECV\n",
        "from sklearn.linear_model import LinearRegression\n",
        "\n",
        "# find the best features for Linear Regression on the averages\n",
        "cv_estimator1Means = LinearRegression()\n",
        "cv_estimator1Means.fit(xTrainMeans, yTrain.values.ravel())\n",
        "cv_selector1Means = RFECV(cv_estimator1Means, cv= 5, step=1)\n",
        "cv_selector1Means = cv_selector1Means.fit(xTrainMeans, yTrain.values.ravel())\n",
        "rfecv_mask1Means = cv_selector1Means.get_support()\n",
        "\n",
        "rfecv_features1Means = [] \n",
        "\n",
        "for bool, feature in zip(rfecv_mask1Means, xTrainMeans.columns):\n",
        " if bool:\n",
        "  rfecv_features1Means.append(feature)\n",
        "\n",
        "print('Optimal number of features :', cv_selector1Means.n_features_)\n",
        "print('Best features :', rfecv_features1Means)\n",
        "\n",
        "xTrainMeansLinReg = xTrainMeans[rfecv_features1Means]\n",
        "xTestMeansLinReg = xTestMeans[rfecv_features1Means]"
      ],
      "execution_count": null,
      "outputs": [
        {
          "output_type": "stream",
          "text": [
            "Optimal number of features : 3\n",
            "Best features : ['Energy', 'Electric Power', 'Transportation']\n"
          ],
          "name": "stdout"
        }
      ]
    },
    {
      "cell_type": "code",
      "metadata": {
        "colab": {
          "base_uri": "https://localhost:8080/"
        },
        "id": "gZN-Z_-TGN8H",
        "outputId": "507f224f-cca8-4986-fd37-3b6a47c0f214"
      },
      "source": [
        "# find the best features for Linear Regression on the 2018 data\n",
        "cv_estimator12018 = LinearRegression()\n",
        "cv_estimator12018.fit(xTrain2018, yTrain.values.ravel())\n",
        "cv_selector12018 = RFECV(cv_estimator12018, cv= 5, step=1)\n",
        "cv_selector12018 = cv_selector12018.fit(xTrain2018, yTrain.values.ravel())\n",
        "rfecv_mask12018 = cv_selector12018.get_support()\n",
        "\n",
        "rfecv_features12018 = [] \n",
        "\n",
        "for bool, feature in zip(rfecv_mask12018, xTrain2018.columns):\n",
        " if bool:\n",
        "  rfecv_features12018.append(feature)\n",
        "\n",
        "print('Optimal number of features :', cv_selector12018.n_features_)\n",
        "print('Best features :', rfecv_features12018)\n",
        "\n",
        "xTrain2018LinReg = xTrain2018[rfecv_features12018]\n",
        "xTest2018LinReg = xTest2018[rfecv_features12018]"
      ],
      "execution_count": null,
      "outputs": [
        {
          "output_type": "stream",
          "text": [
            "Optimal number of features : 8\n",
            "Best features : ['GHG Emissions Including LUCF', 'Waste', 'Land Use and Forestry', 'Bunker Fuels', 'Electric Power', 'Commercial', 'Residential', 'Fugitive Emissions']\n"
          ],
          "name": "stdout"
        }
      ]
    },
    {
      "cell_type": "markdown",
      "metadata": {
        "id": "WooAVE2mLk5S"
      },
      "source": [
        "Random Forest"
      ]
    },
    {
      "cell_type": "code",
      "metadata": {
        "id": "qQaVvpP7NV_e"
      },
      "source": [
        "# tune hyperparameters\n",
        "from sklearn.ensemble import RandomForestRegressor\n",
        "from sklearn.model_selection import RandomizedSearchCV\n",
        "\n",
        "rf = RandomForestRegressor(random_state = 42)\n",
        "from pprint import pprint\n",
        "\n",
        "# Number of trees in random forest\n",
        "n_estimators = [int(x) for x in np.linspace(start = 200, stop = 2000, num = 10)]\n",
        "# Number of features to consider at every split\n",
        "max_features = ['auto', 'sqrt']\n",
        "# Maximum number of levels in tree\n",
        "max_depth = [int(x) for x in np.linspace(10, 110, num = 11)]\n",
        "max_depth.append(None)\n",
        "# Minimum number of samples required to split a node\n",
        "min_samples_split = [2, 5, 10]\n",
        "# Minimum number of samples required at each leaf node\n",
        "min_samples_leaf = [1, 2, 4]\n",
        "# Method of selecting samples for training each tree\n",
        "bootstrap = [True, False]\n",
        "# Create the random grid\n",
        "random_grid = {'n_estimators': n_estimators,\n",
        "               'max_features': max_features,\n",
        "               'max_depth': max_depth,\n",
        "               'min_samples_split': min_samples_split,\n",
        "               'min_samples_leaf': min_samples_leaf,\n",
        "               'bootstrap': bootstrap}\n",
        "# pprint(random_grid)"
      ],
      "execution_count": null,
      "outputs": []
    },
    {
      "cell_type": "code",
      "metadata": {
        "colab": {
          "base_uri": "https://localhost:8080/"
        },
        "id": "Ey8gz9bMNn_Y",
        "outputId": "192b432c-d33e-4170-8f10-7dc23cd2ff96"
      },
      "source": [
        "# Use the random grid to search for best hyperparameters\n",
        "\n",
        "# First create the base model to tune\n",
        "rfMeans = RandomForestRegressor()\n",
        "# Random search of parameters, using 5 fold cross validation, \n",
        "# search across 100 different combinations, and use all available cores\n",
        "rf_randomMeans = RandomizedSearchCV(estimator = rfMeans, param_distributions = random_grid, n_iter = 100, cv = 5, verbose=2, random_state=42, n_jobs = -1)\n",
        "# Fit the random search model on averages\n",
        "rf_randomMeans.fit(xTrainMeans, yTrain.values.ravel())"
      ],
      "execution_count": null,
      "outputs": [
        {
          "output_type": "stream",
          "text": [
            "Fitting 5 folds for each of 100 candidates, totalling 500 fits\n"
          ],
          "name": "stdout"
        },
        {
          "output_type": "stream",
          "text": [
            "[Parallel(n_jobs=-1)]: Using backend LokyBackend with 2 concurrent workers.\n",
            "[Parallel(n_jobs=-1)]: Done  37 tasks      | elapsed:   43.4s\n",
            "[Parallel(n_jobs=-1)]: Done 158 tasks      | elapsed:  2.9min\n",
            "[Parallel(n_jobs=-1)]: Done 361 tasks      | elapsed:  6.5min\n",
            "[Parallel(n_jobs=-1)]: Done 500 out of 500 | elapsed:  8.8min finished\n"
          ],
          "name": "stderr"
        },
        {
          "output_type": "execute_result",
          "data": {
            "text/plain": [
              "RandomizedSearchCV(cv=5, error_score=nan,\n",
              "                   estimator=RandomForestRegressor(bootstrap=True,\n",
              "                                                   ccp_alpha=0.0,\n",
              "                                                   criterion='mse',\n",
              "                                                   max_depth=None,\n",
              "                                                   max_features='auto',\n",
              "                                                   max_leaf_nodes=None,\n",
              "                                                   max_samples=None,\n",
              "                                                   min_impurity_decrease=0.0,\n",
              "                                                   min_impurity_split=None,\n",
              "                                                   min_samples_leaf=1,\n",
              "                                                   min_samples_split=2,\n",
              "                                                   min_weight_fraction_leaf=0.0,\n",
              "                                                   n_estimators=100,\n",
              "                                                   n_jobs=None, oob_score=Fals...\n",
              "                   param_distributions={'bootstrap': [True, False],\n",
              "                                        'max_depth': [10, 20, 30, 40, 50, 60,\n",
              "                                                      70, 80, 90, 100, 110,\n",
              "                                                      None],\n",
              "                                        'max_features': ['auto', 'sqrt'],\n",
              "                                        'min_samples_leaf': [1, 2, 4],\n",
              "                                        'min_samples_split': [2, 5, 10],\n",
              "                                        'n_estimators': [200, 400, 600, 800,\n",
              "                                                         1000, 1200, 1400, 1600,\n",
              "                                                         1800, 2000]},\n",
              "                   pre_dispatch='2*n_jobs', random_state=42, refit=True,\n",
              "                   return_train_score=False, scoring=None, verbose=2)"
            ]
          },
          "metadata": {
            "tags": []
          },
          "execution_count": 100
        }
      ]
    },
    {
      "cell_type": "code",
      "metadata": {
        "id": "5TccjFPlnip-"
      },
      "source": [
        "# evaluate \n",
        "def evaluate(model, test_features, test_labels):\n",
        "    predictions = model.predict(test_features)\n",
        "    errors = abs(predictions - test_labels)\n",
        "    mape = 100 * np.mean(errors / test_labels)\n",
        "    accuracy = 100 - mape\n",
        "    print('Model Performance')\n",
        "    print('Average Error: {:0.4f} degrees.'.format(np.mean(errors)))\n",
        "    print('Accuracy = {:0.2f}%.'.format(accuracy))\n",
        "    \n",
        "    return accuracy"
      ],
      "execution_count": null,
      "outputs": []
    },
    {
      "cell_type": "code",
      "metadata": {
        "colab": {
          "base_uri": "https://localhost:8080/"
        },
        "id": "ioMYapownj7b",
        "outputId": "943fb76d-5c57-4d64-ae5b-54f6580f738a"
      },
      "source": [
        "# accuracy of baseline Random Forest Model with no hyperparameter tuning\n",
        "base_model = RandomForestRegressor()\n",
        "base_model.fit(xTrainMeans, yTrain.values.ravel())\n",
        "base_accuracy = evaluate(base_model, xTestMeans, yTest.values.ravel())"
      ],
      "execution_count": null,
      "outputs": [
        {
          "output_type": "stream",
          "text": [
            "Model Performance\n",
            "Average Error: 1.4122 degrees.\n",
            "Accuracy = 98.03%.\n"
          ],
          "name": "stdout"
        }
      ]
    },
    {
      "cell_type": "code",
      "metadata": {
        "colab": {
          "base_uri": "https://localhost:8080/"
        },
        "id": "6QYt_GgAn3P8",
        "outputId": "e23ee1f2-b447-4d90-fda7-ee8253639c8b"
      },
      "source": [
        "# accuracy after hyperparameter tuning\n",
        "best_random = rf_randomMeans.best_estimator_\n",
        "random_accuracy = evaluate(best_random, xTestMeans, yTest.values.ravel())"
      ],
      "execution_count": null,
      "outputs": [
        {
          "output_type": "stream",
          "text": [
            "Model Performance\n",
            "Average Error: 1.6521 degrees.\n",
            "Accuracy = 97.68%.\n"
          ],
          "name": "stdout"
        }
      ]
    },
    {
      "cell_type": "code",
      "metadata": {
        "colab": {
          "base_uri": "https://localhost:8080/"
        },
        "id": "ao9XmqGEn8Pm",
        "outputId": "a7a04d49-5fe8-4dd0-e08d-97d3287ffebe"
      },
      "source": [
        "print('Improvement of {:0.2f}%.'.format( 100 * (random_accuracy - base_accuracy) / base_accuracy))"
      ],
      "execution_count": null,
      "outputs": [
        {
          "output_type": "stream",
          "text": [
            "Improvement of -0.35%.\n"
          ],
          "name": "stdout"
        }
      ]
    },
    {
      "cell_type": "code",
      "metadata": {
        "colab": {
          "base_uri": "https://localhost:8080/"
        },
        "id": "sXwGLL5xmuOv",
        "outputId": "e63d47bd-2ce7-4a11-8ead-4fea5a2a7e2c"
      },
      "source": [
        "# First create the base model to tune\n",
        "rf2018 = RandomForestRegressor()\n",
        "# Random search of parameters, using 5 fold cross validation, \n",
        "# search across 100 different combinations, and use all available cores\n",
        "rf_random2018 = RandomizedSearchCV(estimator = rf2018, param_distributions = random_grid, n_iter = 100, cv = 5, verbose=2, random_state=42, n_jobs = -1)\n",
        "# Fit the random search model on 2018 data\n",
        "rf_random2018.fit(xTrain2018, yTrain.values.ravel())"
      ],
      "execution_count": null,
      "outputs": [
        {
          "output_type": "stream",
          "text": [
            "Fitting 5 folds for each of 100 candidates, totalling 500 fits\n"
          ],
          "name": "stdout"
        },
        {
          "output_type": "stream",
          "text": [
            "[Parallel(n_jobs=-1)]: Using backend LokyBackend with 2 concurrent workers.\n",
            "[Parallel(n_jobs=-1)]: Done  37 tasks      | elapsed:   42.0s\n",
            "[Parallel(n_jobs=-1)]: Done 158 tasks      | elapsed:  2.9min\n",
            "[Parallel(n_jobs=-1)]: Done 361 tasks      | elapsed:  6.4min\n",
            "[Parallel(n_jobs=-1)]: Done 500 out of 500 | elapsed:  8.7min finished\n"
          ],
          "name": "stderr"
        },
        {
          "output_type": "execute_result",
          "data": {
            "text/plain": [
              "RandomizedSearchCV(cv=5, error_score=nan,\n",
              "                   estimator=RandomForestRegressor(bootstrap=True,\n",
              "                                                   ccp_alpha=0.0,\n",
              "                                                   criterion='mse',\n",
              "                                                   max_depth=None,\n",
              "                                                   max_features='auto',\n",
              "                                                   max_leaf_nodes=None,\n",
              "                                                   max_samples=None,\n",
              "                                                   min_impurity_decrease=0.0,\n",
              "                                                   min_impurity_split=None,\n",
              "                                                   min_samples_leaf=1,\n",
              "                                                   min_samples_split=2,\n",
              "                                                   min_weight_fraction_leaf=0.0,\n",
              "                                                   n_estimators=100,\n",
              "                                                   n_jobs=None, oob_score=Fals...\n",
              "                   param_distributions={'bootstrap': [True, False],\n",
              "                                        'max_depth': [10, 20, 30, 40, 50, 60,\n",
              "                                                      70, 80, 90, 100, 110,\n",
              "                                                      None],\n",
              "                                        'max_features': ['auto', 'sqrt'],\n",
              "                                        'min_samples_leaf': [1, 2, 4],\n",
              "                                        'min_samples_split': [2, 5, 10],\n",
              "                                        'n_estimators': [200, 400, 600, 800,\n",
              "                                                         1000, 1200, 1400, 1600,\n",
              "                                                         1800, 2000]},\n",
              "                   pre_dispatch='2*n_jobs', random_state=42, refit=True,\n",
              "                   return_train_score=False, scoring=None, verbose=2)"
            ]
          },
          "metadata": {
            "tags": []
          },
          "execution_count": 105
        }
      ]
    },
    {
      "cell_type": "code",
      "metadata": {
        "colab": {
          "base_uri": "https://localhost:8080/"
        },
        "id": "LIlJ47pxoF-6",
        "outputId": "e6f07972-2e23-4975-91e5-6add083acee0"
      },
      "source": [
        "# accuracy of baseline Random Forest Model with no hyperparameter tuning\n",
        "base_model = RandomForestRegressor()\n",
        "base_model.fit(xTrain2018, yTrain.values.ravel())\n",
        "base_accuracy = evaluate(base_model, xTest2018, yTest.values.ravel())"
      ],
      "execution_count": null,
      "outputs": [
        {
          "output_type": "stream",
          "text": [
            "Model Performance\n",
            "Average Error: 1.7972 degrees.\n",
            "Accuracy = 97.46%.\n"
          ],
          "name": "stdout"
        }
      ]
    },
    {
      "cell_type": "code",
      "metadata": {
        "colab": {
          "base_uri": "https://localhost:8080/"
        },
        "id": "x2vfWE-1oJoJ",
        "outputId": "0c346d8e-8420-4916-e68d-ce8cd07f1eae"
      },
      "source": [
        "# accuracy after hyperparameter tuning\n",
        "best_random = rf_random2018.best_estimator_\n",
        "random_accuracy = evaluate(best_random, xTest2018, yTest.values.ravel())"
      ],
      "execution_count": null,
      "outputs": [
        {
          "output_type": "stream",
          "text": [
            "Model Performance\n",
            "Average Error: 1.6537 degrees.\n",
            "Accuracy = 97.67%.\n"
          ],
          "name": "stdout"
        }
      ]
    },
    {
      "cell_type": "code",
      "metadata": {
        "colab": {
          "base_uri": "https://localhost:8080/"
        },
        "id": "WUy-q-rXodpg",
        "outputId": "4becc734-fcd1-4364-db1a-47f58dabd4e6"
      },
      "source": [
        "print('Improvement of {:0.2f}%.'.format( 100 * (random_accuracy - base_accuracy) / base_accuracy))"
      ],
      "execution_count": null,
      "outputs": [
        {
          "output_type": "stream",
          "text": [
            "Improvement of 0.22%.\n"
          ],
          "name": "stdout"
        }
      ]
    },
    {
      "cell_type": "code",
      "metadata": {
        "id": "poTvNb7uN3c0"
      },
      "source": [
        "# rf_randomMeans.best_params_"
      ],
      "execution_count": null,
      "outputs": []
    },
    {
      "cell_type": "code",
      "metadata": {
        "id": "EJ9HlittuwXA"
      },
      "source": [
        "# rf_random2018.best_params_"
      ],
      "execution_count": null,
      "outputs": []
    },
    {
      "cell_type": "code",
      "metadata": {
        "id": "8iB38U63nULX"
      },
      "source": [
        "\n"
      ],
      "execution_count": null,
      "outputs": []
    },
    {
      "cell_type": "code",
      "metadata": {
        "id": "8VVsAuoW7Ghj"
      },
      "source": [
        "# hard code the best hyperparameters because RandomizedSearchCV takes 41 minutes to run\n",
        "rf_randomMeans_best_params_ = {\n",
        "  'bootstrap': True,\n",
        "  'max_depth': 70,\n",
        "  'max_features': 'auto',\n",
        "  'min_samples_leaf': 2,\n",
        "  'min_samples_split': 2,\n",
        "  'n_estimators': 1400\n",
        "}"
      ],
      "execution_count": null,
      "outputs": []
    },
    {
      "cell_type": "code",
      "metadata": {
        "id": "Bf2-taNh7GUx"
      },
      "source": [
        "# hard code the best hyperparameters because RandomizedSearchCV takes 41 minutes to run\n",
        "rf_random2018_best_params_ = {\n",
        "  'bootstrap': True,\n",
        "  'max_depth': 40,\n",
        "  'max_features': 'sqrt',\n",
        "  'min_samples_leaf': 1,\n",
        "  'min_samples_split': 5,\n",
        "  'n_estimators': 800\n",
        "}"
      ],
      "execution_count": null,
      "outputs": []
    },
    {
      "cell_type": "code",
      "metadata": {
        "colab": {
          "base_uri": "https://localhost:8080/"
        },
        "id": "zyn7oEOjKhB7",
        "outputId": "ecbed88e-8a7d-4936-9b54-597e12dcf2b5"
      },
      "source": [
        "from sklearn.ensemble import RandomForestRegressor\n",
        "\n",
        "cv_estimator2 = RandomForestRegressor(bootstrap=True, max_depth=70, max_features='auto', min_samples_leaf=2, min_samples_split=2, n_estimators=1400)\n",
        "cv_estimator2.fit(xTrainMeans, yTrain.values.ravel())\n",
        "cv_selector2 = RFECV(cv_estimator2, cv= 5, step=1)\n",
        "cv_selector2 = cv_selector2.fit(xTrainMeans, yTrain.values.ravel())\n",
        "rfecv_mask2 = cv_selector2.get_support()\n",
        "\n",
        "rfecv_features2 = [] \n",
        "\n",
        "for bool, feature in zip(rfecv_mask2, xTrainMeans.columns):\n",
        " if bool:\n",
        "  rfecv_features2.append(feature)\n",
        "\n",
        "print('Optimal number of features :', cv_selector2.n_features_)\n",
        "print('Best features :', rfecv_features2)\n",
        "\n",
        "xTrainMeansRandFor = xTrainMeans[rfecv_features2]\n",
        "xTestMeansRandFor = xTestMeans[rfecv_features2]"
      ],
      "execution_count": null,
      "outputs": [
        {
          "output_type": "stream",
          "text": [
            "Optimal number of features : 16\n",
            "Best features : ['GHG Emissions Excluding LUCF', 'GHG Emissions Including LUCF', 'CO2 (excluding LUCF)', 'CH4', 'N2O', 'Energy', 'Industrial Processes', 'Agriculture', 'Land Use and Forestry', 'Electric Power', 'Industrial', 'Transportation', 'State GDP (Million US$ (chained 1997/2005))', 'Population', 'Energy Use (Thous. tonnes oil eq. (ktoe))', 'Delta']\n"
          ],
          "name": "stdout"
        }
      ]
    },
    {
      "cell_type": "code",
      "metadata": {
        "colab": {
          "base_uri": "https://localhost:8080/"
        },
        "id": "FThIbWJozErW",
        "outputId": "156acf39-e1d3-4c9a-8d45-c86fd13dcee0"
      },
      "source": [
        "cv_estimator2 = RandomForestRegressor(bootstrap=True, max_depth=40, max_features='sqrt', min_samples_leaf=1, min_samples_split=5, n_estimators=800)\n",
        "cv_estimator2.fit(xTrain2018, yTrain.values.ravel())\n",
        "cv_selector2 = RFECV(cv_estimator2, cv= 5, step=1)\n",
        "cv_selector2 = cv_selector2.fit(xTrain2018, yTrain.values.ravel())\n",
        "rfecv_mask2 = cv_selector2.get_support()\n",
        "\n",
        "rfecv_features2 = [] \n",
        "\n",
        "for bool, feature in zip(rfecv_mask2, xTrain2018.columns):\n",
        " if bool:\n",
        "  rfecv_features2.append(feature)\n",
        "\n",
        "print('Optimal number of features :', cv_selector2.n_features_)\n",
        "print('Best features :', rfecv_features2)\n",
        "\n",
        "xTrain2018RandFor = xTrain2018[rfecv_features2]\n",
        "xTest2018RandFor = xTest2018[rfecv_features2]"
      ],
      "execution_count": null,
      "outputs": [
        {
          "output_type": "stream",
          "text": [
            "Optimal number of features : 23\n",
            "Best features : ['GHG Emissions Excluding LUCF', 'GHG Emissions Including LUCF', 'CO2 (excluding LUCF)', 'CH4', 'N2O', 'F-Gas', 'Energy', 'Industrial Processes', 'Agriculture', 'Waste', 'Land Use and Forestry', 'Bunker Fuels', 'Electric Power', 'Commercial', 'Residential', 'Industrial', 'Transportation', 'Fugitive Emissions', 'State GDP (Million US$ (chained 1997/2005))', 'Population', 'Energy Use (Thous. tonnes oil eq. (ktoe))', 'Avg Temp', 'Delta']\n"
          ],
          "name": "stdout"
        }
      ]
    },
    {
      "cell_type": "markdown",
      "metadata": {
        "id": "bt1U4dyRE3wz"
      },
      "source": [
        ""
      ]
    },
    {
      "cell_type": "markdown",
      "metadata": {
        "id": "tu9mWjofLmNf"
      },
      "source": [
        "Support Vector Machine"
      ]
    },
    {
      "cell_type": "code",
      "metadata": {
        "colab": {
          "base_uri": "https://localhost:8080/"
        },
        "id": "4Bsvn8v_Lpfc",
        "outputId": "ff129c63-82c6-49b8-b721-8fa3ccd32b8c"
      },
      "source": [
        "from sklearn.svm import LinearSVR\n",
        "import warnings\n",
        "warnings.filterwarnings(\"ignore\")\n",
        "\n",
        "cv_estimator3 = LinearSVR(max_iter = 1000000)\n",
        "cv_estimator3.fit(xTrainMeans, yTrain.values.ravel())\n",
        "cv_selector3 = RFECV(cv_estimator3, cv= 5, step=1)\n",
        "cv_selector3 = cv_selector3.fit(xTrainMeans, yTrain.values.ravel())\n",
        "rfecv_mask3 = cv_selector3.get_support()\n",
        "\n",
        "rfecv_features3 = [] \n",
        "\n",
        "for bool, feature in zip(rfecv_mask3, xTrainMeans.columns):\n",
        " if bool:\n",
        "  rfecv_features3.append(feature)\n",
        "\n",
        "print('Optimal number of features :', cv_selector3.n_features_)\n",
        "print('Best features :', rfecv_features3)\n",
        "\n",
        "xTrainMeansSVM = xTrainMeans[rfecv_features3]\n",
        "xTestMeansSVM = xTestMeans[rfecv_features3]"
      ],
      "execution_count": null,
      "outputs": [
        {
          "output_type": "stream",
          "text": [
            "Optimal number of features : 2\n",
            "Best features : ['Avg Temp', 'Delta']\n"
          ],
          "name": "stdout"
        }
      ]
    },
    {
      "cell_type": "code",
      "metadata": {
        "colab": {
          "base_uri": "https://localhost:8080/"
        },
        "id": "NoKy74eqwf_2",
        "outputId": "6c6f5605-c6f7-48b4-84de-26631d7427a7"
      },
      "source": [
        "cv_estimator3 = LinearSVR(max_iter = 100000)\n",
        "cv_estimator3.fit(xTrain2018, yTrain.values.ravel())\n",
        "cv_selector3 = RFECV(cv_estimator3, cv= 5, step=1)\n",
        "cv_selector3 = cv_selector3.fit(xTrain2018, yTrain.values.ravel())\n",
        "rfecv_mask3 = cv_selector3.get_support()\n",
        "\n",
        "rfecv_features3 = [] \n",
        "\n",
        "for bool, feature in zip(rfecv_mask3, xTrain2018.columns):\n",
        " if bool:\n",
        "  rfecv_features3.append(feature)\n",
        "\n",
        "print('Optimal number of features :', cv_selector3.n_features_)\n",
        "print('Best features :', rfecv_features3)\n",
        "\n",
        "xTrain2018SVM = xTrain2018[rfecv_features3]\n",
        "xTest2018SVM = xTest2018[rfecv_features3]"
      ],
      "execution_count": null,
      "outputs": [
        {
          "output_type": "stream",
          "text": [
            "Optimal number of features : 2\n",
            "Best features : ['Avg Temp', 'Delta']\n"
          ],
          "name": "stdout"
        }
      ]
    },
    {
      "cell_type": "code",
      "metadata": {
        "colab": {
          "base_uri": "https://localhost:8080/"
        },
        "id": "9Ey0BYEki_73",
        "outputId": "70cc8d61-4817-4d58-e46e-25e6568d7839"
      },
      "source": [
        "totalFeatures = ['Energy', 'Electric Power', 'Transportation', \n",
        "                 'GHG Emissions Including LUCF', 'Waste', 'Land Use and Forestry', 'Bunker Fuels', 'Electric Power', 'Commercial', 'Residential', 'Fugitive Emissions',\n",
        "                 'GHG Emissions Excluding LUCF', 'GHG Emissions Including LUCF', 'CO2 (excluding LUCF)', 'CH4', 'N2O', 'Energy', 'Industrial Processes', 'Agriculture', 'Land Use and Forestry', 'Electric Power', 'Industrial', 'Transportation', 'State GDP (Million US$ (chained 1997/2005))', 'Population', 'Energy Use (Thous. tonnes oil eq. (ktoe))', 'Delta',\n",
        "                 'GHG Emissions Excluding LUCF', 'GHG Emissions Including LUCF', 'CO2 (excluding LUCF)', 'CH4', 'N2O', 'F-Gas', 'Energy', 'Industrial Processes', 'Agriculture', 'Waste', 'Land Use and Forestry', 'Bunker Fuels', 'Electric Power', 'Commercial', 'Residential', 'Industrial', 'Transportation', 'Fugitive Emissions', 'State GDP (Million US$ (chained 1997/2005))', 'Population', 'Energy Use (Thous. tonnes oil eq. (ktoe))', 'Avg Temp', 'Delta',\n",
        "                 'Avg Temp', 'Delta', 'Avg Temp', 'Delta'\n",
        "                 ]\n",
        "featureCountDf = pd.DataFrame({\"col1\": totalFeatures})\n",
        "item_counts = featureCountDf[\"col1\"].value_counts()\n",
        "print(item_counts)"
      ],
      "execution_count": null,
      "outputs": [
        {
          "output_type": "stream",
          "text": [
            "Electric Power                                 4\n",
            "Delta                                          4\n",
            "Land Use and Forestry                          3\n",
            "Energy                                         3\n",
            "GHG Emissions Including LUCF                   3\n",
            "Avg Temp                                       3\n",
            "Transportation                                 3\n",
            "CO2 (excluding LUCF)                           2\n",
            "Industrial                                     2\n",
            "CH4                                            2\n",
            "Energy Use (Thous. tonnes oil eq. (ktoe))      2\n",
            "GHG Emissions Excluding LUCF                   2\n",
            "Fugitive Emissions                             2\n",
            "State GDP (Million US$ (chained 1997/2005))    2\n",
            "Agriculture                                    2\n",
            "Industrial Processes                           2\n",
            "Bunker Fuels                                   2\n",
            "Population                                     2\n",
            "Commercial                                     2\n",
            "Waste                                          2\n",
            "N2O                                            2\n",
            "Residential                                    2\n",
            "F-Gas                                          1\n",
            "Name: col1, dtype: int64\n"
          ],
          "name": "stdout"
        }
      ]
    },
    {
      "cell_type": "markdown",
      "metadata": {
        "id": "A5d4WiEcwqUK"
      },
      "source": [
        "# Evaluation"
      ]
    },
    {
      "cell_type": "markdown",
      "metadata": {
        "id": "HHpEcyydwvBI"
      },
      "source": [
        "Linear Regression"
      ]
    },
    {
      "cell_type": "code",
      "metadata": {
        "colab": {
          "base_uri": "https://localhost:8080/",
          "height": 300
        },
        "id": "JoxtCTJbwrwV",
        "outputId": "2779abfa-79d1-463c-9780-49688ade7486"
      },
      "source": [
        "from sklearn.metrics import mean_squared_error\n",
        "model1 = LinearRegression()\n",
        "model1.fit(xTrainMeansLinReg, yTrain.values.ravel())\n",
        "# check accuracy score\n",
        "print(model1.score(xTestMeansLinReg, yTest.values.ravel()))\n",
        "y_pred1=model1.predict(xTestMeansLinReg)\n",
        "evaluate1 = pd.DataFrame({'Actual': yTest.values.flatten(), 'Predicted': y_pred1.flatten()})\n",
        "\n",
        "evaluate1.head(10).plot(kind = 'bar')\n",
        "print(mean_squared_error(yTest.values.ravel(), y_pred1))\n"
      ],
      "execution_count": null,
      "outputs": [
        {
          "output_type": "stream",
          "text": [
            "0.16991666852053833\n",
            "8.873990755965394\n"
          ],
          "name": "stdout"
        },
        {
          "output_type": "display_data",
          "data": {
            "image/png": "[encoded data removed]",
            "text/plain": [
              "<Figure size 432x288 with 1 Axes>"
            ]
          },
          "metadata": {
            "tags": [],
            "needs_background": "light"
          }
        }
      ]
    },
    {
      "cell_type": "code",
      "metadata": {
        "colab": {
          "base_uri": "https://localhost:8080/",
          "height": 300
        },
        "id": "eJIsUP2qw_4R",
        "outputId": "626dda9e-cce2-432f-c840-9654733ad88f"
      },
      "source": [
        "model1 = LinearRegression()\n",
        "model1.fit(xTrain2018LinReg, yTrain.values.ravel())\n",
        "# check accuracy score\n",
        "print(model1.score(xTest2018LinReg, yTest.values.ravel()))\n",
        "y_pred1=model1.predict(xTest2018LinReg)\n",
        "evaluate1 = pd.DataFrame({'Actual': yTest.values.flatten(), 'Predicted': y_pred1.flatten()})\n",
        "\n",
        "evaluate1.head(10).plot(kind = 'bar')\n",
        "print(mean_squared_error(yTest.values.ravel(), y_pred1))\n"
      ],
      "execution_count": null,
      "outputs": [
        {
          "output_type": "stream",
          "text": [
            "0.3415458186977071\n",
            "7.0391924479306125\n"
          ],
          "name": "stdout"
        },
        {
          "output_type": "display_data",
          "data": {
            "image/png": "[encoded data removed]",
            "text/plain": [
              "<Figure size 432x288 with 1 Axes>"
            ]
          },
          "metadata": {
            "tags": [],
            "needs_background": "light"
          }
        }
      ]
    },
    {
      "cell_type": "markdown",
      "metadata": {
        "id": "mZt0GPe3wwzp"
      },
      "source": [
        "Random Forest"
      ]
    },
    {
      "cell_type": "code",
      "metadata": {
        "colab": {
          "base_uri": "https://localhost:8080/",
          "height": 300
        },
        "id": "Cd0aWoXywyWT",
        "outputId": "102dd041-4c95-4ea7-c35f-46915fa537db"
      },
      "source": [
        "model2 = RandomForestRegressor(bootstrap=True, max_depth=70, max_features='auto', min_samples_leaf=2, min_samples_split=2, n_estimators=1400)\n",
        "model2.fit(xTrainMeansRandFor, yTrain.values.ravel())\n",
        "# check accuracy score\n",
        "print(model2.score(xTestMeansRandFor, yTest.values.ravel()))\n",
        "y_pred2=model2.predict(xTestMeansRandFor)\n",
        "evaluate2 = pd.DataFrame({'Actual': yTest.values.flatten(), 'Predicted': y_pred2.flatten()})\n",
        "evaluate2.head(10).plot(kind = 'bar')\n",
        "print(mean_squared_error(yTest.values.ravel(), y_pred2))\n"
      ],
      "execution_count": null,
      "outputs": [
        {
          "output_type": "stream",
          "text": [
            "0.7064885488416102\n",
            "3.137778829635473\n"
          ],
          "name": "stdout"
        },
        {
          "output_type": "display_data",
          "data": {
            "image/png": "[encoded data removed]",
            "text/plain": [
              "<Figure size 432x288 with 1 Axes>"
            ]
          },
          "metadata": {
            "tags": [],
            "needs_background": "light"
          }
        }
      ]
    },
    {
      "cell_type": "code",
      "metadata": {
        "colab": {
          "base_uri": "https://localhost:8080/",
          "height": 282
        },
        "id": "gTyMq3U3Tjwx",
        "outputId": "fee556c9-d5f7-4dbb-d8f8-f5f1329417c2"
      },
      "source": [
        "evaluate2.plot(kind = 'bar')"
      ],
      "execution_count": null,
      "outputs": [
        {
          "output_type": "execute_result",
          "data": {
            "text/plain": [
              "<matplotlib.axes._subplots.AxesSubplot at 0x7fa74e9a4450>"
            ]
          },
          "metadata": {
            "tags": []
          },
          "execution_count": 88
        },
        {
          "output_type": "display_data",
          "data": {
            "image/png": "[encoded data removed]",
            "text/plain": [
              "<Figure size 432x288 with 1 Axes>"
            ]
          },
          "metadata": {
            "tags": [],
            "needs_background": "light"
          }
        }
      ]
    },
    {
      "cell_type": "code",
      "metadata": {
        "colab": {
          "base_uri": "https://localhost:8080/",
          "height": 300
        },
        "id": "9Jmb07K5yFIy",
        "outputId": "65e6aed4-a178-42e7-ac93-e99302d98494"
      },
      "source": [
        "model2 = RandomForestRegressor(bootstrap=True, max_depth=40, max_features='sqrt', min_samples_leaf=1, min_samples_split=5, n_estimators=800)\n",
        "model2.fit(xTrain2018RandFor, yTrain.values.ravel())\n",
        "# check accuracy score\n",
        "print(model2.score(xTest2018RandFor, yTest.values.ravel()))\n",
        "y_pred2=model2.predict(xTest2018RandFor)\n",
        "evaluate2 = pd.DataFrame({'Actual': yTest.values.flatten(), 'Predicted': y_pred2.flatten()})\n",
        "evaluate2.head(10).plot(kind = 'bar')\n",
        "print(mean_squared_error(yTest.values.ravel(), y_pred2))\n"
      ],
      "execution_count": null,
      "outputs": [
        {
          "output_type": "stream",
          "text": [
            "0.5920472769110927\n",
            "4.361211165521935\n"
          ],
          "name": "stdout"
        },
        {
          "output_type": "display_data",
          "data": {
            "image/png": "[encoded data removed]",
            "text/plain": [
              "<Figure size 432x288 with 1 Axes>"
            ]
          },
          "metadata": {
            "tags": [],
            "needs_background": "light"
          }
        }
      ]
    },
    {
      "cell_type": "markdown",
      "metadata": {
        "id": "QuvthtbhwypD"
      },
      "source": [
        "SVM"
      ]
    },
    {
      "cell_type": "code",
      "metadata": {
        "colab": {
          "base_uri": "https://localhost:8080/",
          "height": 300
        },
        "id": "CLcGXYWexgid",
        "outputId": "16bdff87-94e6-4142-cc55-90678d942786"
      },
      "source": [
        "model3 = LinearSVR()\n",
        "model3.fit(xTrainMeansSVM, yTrain.values.ravel())\n",
        "# check accuracy score\n",
        "print(model3.score(xTestMeansSVM, yTest.values.ravel()))\n",
        "y_pred3=model3.predict(xTestMeansSVM)\n",
        "evaluate3 = pd.DataFrame({'Actual': yTest.values.flatten(), 'Predicted': y_pred3.flatten()})\n",
        "\n",
        "evaluate3.head(10).plot(kind = 'bar')\n",
        "print(mean_squared_error(yTest.values.ravel(), y_pred3))\n"
      ],
      "execution_count": null,
      "outputs": [
        {
          "output_type": "stream",
          "text": [
            "-5.612974773630478\n",
            "70.69588652748557\n"
          ],
          "name": "stdout"
        },
        {
          "output_type": "display_data",
          "data": {
            "image/png": "[encoded data removed]",
            "text/plain": [
              "<Figure size 432x288 with 1 Axes>"
            ]
          },
          "metadata": {
            "tags": [],
            "needs_background": "light"
          }
        }
      ]
    },
    {
      "cell_type": "code",
      "metadata": {
        "colab": {
          "base_uri": "https://localhost:8080/",
          "height": 300
        },
        "id": "ShnE7tJ_xgie",
        "outputId": "fefce0c0-aacb-4c60-b2b2-d905e446125b"
      },
      "source": [
        "model3 = LinearSVR()\n",
        "model3.fit(xTrain2018SVM, yTrain.values.ravel())\n",
        "# check accuracy score\n",
        "print(model3.score(xTest2018SVM, yTest.values.ravel()))\n",
        "y_pred3=model3.predict(xTest2018SVM)\n",
        "evaluate3 = pd.DataFrame({'Actual': yTest.values.flatten(), 'Predicted': y_pred3.flatten()})\n",
        "\n",
        "evaluate3.head(10).plot(kind = 'bar')\n",
        "print(mean_squared_error(yTest.values.ravel(), y_pred3))\n"
      ],
      "execution_count": null,
      "outputs": [
        {
          "output_type": "stream",
          "text": [
            "-15.28794528715332\n",
            "174.12598281458799\n"
          ],
          "name": "stdout"
        },
        {
          "output_type": "display_data",
          "data": {
            "image/png": "[encoded data removed]",
            "text/plain": [
              "<Figure size 432x288 with 1 Axes>"
            ]
          },
          "metadata": {
            "tags": [],
            "needs_background": "light"
          }
        }
      ]
    }
  ]
}