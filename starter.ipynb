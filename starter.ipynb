{
  "nbformat": 4,
  "nbformat_minor": 0,
  "metadata": {
    "colab": {
      "name": "424a4_starter.ipynb",
      "provenance": [],
      "collapsed_sections": []
    },
    "kernelspec": {
      "display_name": "Python 3",
      "name": "python3"
    },
    "language_info": {
      "name": "python"
    }
  },
  "cells": [
    {
      "cell_type": "code",
      "metadata": {
        "id": "yhZAwVt9BKYP"
      },
      "source": [
        "import numpy as np\n",
        "import pandas as pd\n",
        "import matplotlib.pyplot as plt\n",
        "import math\n",
        "import seaborn as sns\n",
        "from sklearn.model_selection import train_test_split\n",
        "from sklearn.metrics import mean_absolute_error"
      ],
      "execution_count": null,
      "outputs": []
    },
    {
      "cell_type": "code",
      "metadata": {
        "id": "27Ij_AdZH1a1"
      },
      "source": [
        "# drop uncertainty columnns in Berkeley Earth (df1)\n",
        "def df1Preprocess(df):\n",
        "  df = df.copy()\n",
        "  # df.drop(columns=['LandAverageTemperatureUncertainty', 'LandMaxTemperatureUncertainty', \n",
        "  #                    'LandMinTemperatureUncertainty', 'LandAndOceanAverageTemperatureUncertainty'], axis=1)\n",
        "\n",
        "  del df['LandAverageTemperatureUncertainty']\n",
        "  del df['LandMaxTemperatureUncertainty']\n",
        "  del df['LandMinTemperatureUncertainty']\n",
        "  del df['LandAndOceanAverageTemperatureUncertainty']\n",
        "\n",
        "  # convert celsius values to fahrenheit\n",
        "  def convertToCelsius(x):\n",
        "    x = (x *1.8) + 32\n",
        "    return float(x)\n",
        "  \n",
        "  df['LandAverageTemperature'] = df['LandAverageTemperature'].apply(convertToCelsius)\n",
        "  df['LandMaxTemperature'] = df['LandMaxTemperature'].apply(convertToCelsius)\n",
        "  df['LandMinTemperature'] = df['LandMinTemperature'].apply(convertToCelsius)\n",
        "  df['LandAndOceanAverageTemperature'] = df['LandAndOceanAverageTemperature'].apply(convertToCelsius)\n",
        "\n",
        "  # change dt to DateTime\n",
        "  df['dt'] = pd.to_datetime(df['dt'])\n",
        "  df['Month'] = df['dt'].dt.month\n",
        "  df['Year'] = df['dt'].dt.year\n",
        "  df = df.drop('dt', axis = 1)\n",
        "  df = df.drop('Month', axis = 1)\n",
        "  df = df[df.Year >= 1850]\n",
        "  df = df.set_index(['Year'])\n",
        "  df = df.dropna()\n",
        "  return df\n"
      ],
      "execution_count": null,
      "outputs": []
    },
    {
      "cell_type": "markdown",
      "metadata": {
        "id": "xI0i57PoEVj-"
      },
      "source": [
        "# Uploading Datasets"
      ]
    },
    {
      "cell_type": "code",
      "metadata": {
        "colab": {
          "base_uri": "https://localhost:8080/",
          "height": 443
        },
        "id": "FdsgU-X_ErrA",
        "outputId": "fa2287bc-8033-44e8-a015-538c4524434f"
      },
      "source": [
        "# Berkeley Earth Dataset\n",
        "file1 = open('GlobalTemperatures.csv', 'r')\n",
        "df1 = pd.read_csv(file1)\n",
        "df1 = df1Preprocess(df1)\n",
        "# df1.head(20)\n",
        "\n",
        "# plot correlation matrix\n",
        "df1CorrMatrix = df1.corr()\n",
        "sns.heatmap(df1CorrMatrix, annot=True)\n",
        "plt.show()"
      ],
      "execution_count": null,
      "outputs": [
        {
          "output_type": "display_data",
          "data": {
            "image/png": "[encoded data removed]",
            "text/plain": [
              "<Figure size 432x288 with 2 Axes>"
            ]
          },
          "metadata": {
            "tags": [],
            "needs_background": "light"
          }
        }
      ]
    },
    {
      "cell_type": "markdown",
      "metadata": {
        "id": "UrwceY_A4q2G"
      },
      "source": [
        "# Training"
      ]
    },
    {
      "cell_type": "code",
      "metadata": {
        "colab": {
          "base_uri": "https://localhost:8080/",
          "height": 700
        },
        "id": "955V2MN4Q-HN",
        "outputId": "b2c01733-6c52-4281-c743-6df86d44828b"
      },
      "source": [
        "# setting our target, Y, as the land and ocean average temperature\n",
        "target = 'LandAndOceanAverageTemperature'\n",
        "Y = df1[target]\n",
        "#feature matrix\n",
        "X = df1.copy()\n",
        "del X[target]\n",
        "# X.drop(columns = [target], axis = 1)\n",
        "X.head(20)"
      ],
      "execution_count": null,
      "outputs": [
        {
          "output_type": "execute_result",
          "data": {
            "text/html": [
              "<div>\n",
              "<style scoped>\n",
              "    .dataframe tbody tr th:only-of-type {\n",
              "        vertical-align: middle;\n",
              "    }\n",
              "\n",
              "    .dataframe tbody tr th {\n",
              "        vertical-align: top;\n",
              "    }\n",
              "\n",
              "    .dataframe thead th {\n",
              "        text-align: right;\n",
              "    }\n",
              "</style>\n",
              "<table border=\"1\" class=\"dataframe\">\n",
              "  <thead>\n",
              "    <tr style=\"text-align: right;\">\n",
              "      <th></th>\n",
              "      <th>LandAverageTemperature</th>\n",
              "      <th>LandMaxTemperature</th>\n",
              "      <th>LandMinTemperature</th>\n",
              "    </tr>\n",
              "    <tr>\n",
              "      <th>Year</th>\n",
              "      <th></th>\n",
              "      <th></th>\n",
              "      <th></th>\n",
              "    </tr>\n",
              "  </thead>\n",
              "  <tbody>\n",
              "    <tr>\n",
              "      <th>1850</th>\n",
              "      <td>33.3482</td>\n",
              "      <td>46.8356</td>\n",
              "      <td>26.2292</td>\n",
              "    </tr>\n",
              "    <tr>\n",
              "      <th>1850</th>\n",
              "      <td>37.5278</td>\n",
              "      <td>49.9460</td>\n",
              "      <td>27.8762</td>\n",
              "    </tr>\n",
              "    <tr>\n",
              "      <th>1850</th>\n",
              "      <td>40.9172</td>\n",
              "      <td>50.6246</td>\n",
              "      <td>28.5710</td>\n",
              "    </tr>\n",
              "    <tr>\n",
              "      <th>1850</th>\n",
              "      <td>44.9906</td>\n",
              "      <td>55.2812</td>\n",
              "      <td>33.8324</td>\n",
              "    </tr>\n",
              "    <tr>\n",
              "      <th>1850</th>\n",
              "      <td>50.0072</td>\n",
              "      <td>60.1790</td>\n",
              "      <td>38.8598</td>\n",
              "    </tr>\n",
              "    <tr>\n",
              "      <th>1850</th>\n",
              "      <td>55.6700</td>\n",
              "      <td>66.1028</td>\n",
              "      <td>44.7908</td>\n",
              "    </tr>\n",
              "    <tr>\n",
              "      <th>1850</th>\n",
              "      <td>58.0856</td>\n",
              "      <td>66.6194</td>\n",
              "      <td>46.4252</td>\n",
              "    </tr>\n",
              "    <tr>\n",
              "      <th>1850</th>\n",
              "      <td>57.2702</td>\n",
              "      <td>65.2586</td>\n",
              "      <td>45.3308</td>\n",
              "    </tr>\n",
              "    <tr>\n",
              "      <th>1850</th>\n",
              "      <td>52.7090</td>\n",
              "      <td>60.5228</td>\n",
              "      <td>40.1594</td>\n",
              "    </tr>\n",
              "    <tr>\n",
              "      <th>1850</th>\n",
              "      <td>46.5638</td>\n",
              "      <td>55.7402</td>\n",
              "      <td>35.6234</td>\n",
              "    </tr>\n",
              "    <tr>\n",
              "      <th>1850</th>\n",
              "      <td>40.5194</td>\n",
              "      <td>52.4984</td>\n",
              "      <td>31.7840</td>\n",
              "    </tr>\n",
              "    <tr>\n",
              "      <th>1850</th>\n",
              "      <td>37.0454</td>\n",
              "      <td>45.4874</td>\n",
              "      <td>26.9474</td>\n",
              "    </tr>\n",
              "    <tr>\n",
              "      <th>1851</th>\n",
              "      <td>36.3758</td>\n",
              "      <td>48.1118</td>\n",
              "      <td>27.6026</td>\n",
              "    </tr>\n",
              "    <tr>\n",
              "      <th>1851</th>\n",
              "      <td>36.5144</td>\n",
              "      <td>49.6544</td>\n",
              "      <td>29.2874</td>\n",
              "    </tr>\n",
              "    <tr>\n",
              "      <th>1851</th>\n",
              "      <td>39.5456</td>\n",
              "      <td>52.7126</td>\n",
              "      <td>30.7400</td>\n",
              "    </tr>\n",
              "    <tr>\n",
              "      <th>1851</th>\n",
              "      <td>45.1166</td>\n",
              "      <td>57.6248</td>\n",
              "      <td>36.1958</td>\n",
              "    </tr>\n",
              "    <tr>\n",
              "      <th>1851</th>\n",
              "      <td>52.0034</td>\n",
              "      <td>59.0180</td>\n",
              "      <td>39.4448</td>\n",
              "    </tr>\n",
              "    <tr>\n",
              "      <th>1851</th>\n",
              "      <td>56.1524</td>\n",
              "      <td>63.1184</td>\n",
              "      <td>43.4732</td>\n",
              "    </tr>\n",
              "    <tr>\n",
              "      <th>1851</th>\n",
              "      <td>58.1558</td>\n",
              "      <td>62.7854</td>\n",
              "      <td>45.3650</td>\n",
              "    </tr>\n",
              "    <tr>\n",
              "      <th>1851</th>\n",
              "      <td>56.7518</td>\n",
              "      <td>63.2498</td>\n",
              "      <td>43.8710</td>\n",
              "    </tr>\n",
              "  </tbody>\n",
              "</table>\n",
              "</div>"
            ],
            "text/plain": [
              "      LandAverageTemperature  LandMaxTemperature  LandMinTemperature\n",
              "Year                                                                \n",
              "1850                 33.3482             46.8356             26.2292\n",
              "1850                 37.5278             49.9460             27.8762\n",
              "1850                 40.9172             50.6246             28.5710\n",
              "1850                 44.9906             55.2812             33.8324\n",
              "1850                 50.0072             60.1790             38.8598\n",
              "1850                 55.6700             66.1028             44.7908\n",
              "1850                 58.0856             66.6194             46.4252\n",
              "1850                 57.2702             65.2586             45.3308\n",
              "1850                 52.7090             60.5228             40.1594\n",
              "1850                 46.5638             55.7402             35.6234\n",
              "1850                 40.5194             52.4984             31.7840\n",
              "1850                 37.0454             45.4874             26.9474\n",
              "1851                 36.3758             48.1118             27.6026\n",
              "1851                 36.5144             49.6544             29.2874\n",
              "1851                 39.5456             52.7126             30.7400\n",
              "1851                 45.1166             57.6248             36.1958\n",
              "1851                 52.0034             59.0180             39.4448\n",
              "1851                 56.1524             63.1184             43.4732\n",
              "1851                 58.1558             62.7854             45.3650\n",
              "1851                 56.7518             63.2498             43.8710"
            ]
          },
          "metadata": {
            "tags": []
          },
          "execution_count": 4
        }
      ]
    },
    {
      "cell_type": "code",
      "metadata": {
        "id": "sk5DeGZ34xHZ"
      },
      "source": [
        "# create train and test sets\n",
        "X_train, X_val, Y_train, Y_val = train_test_split(X, Y, test_size=0.25, random_state=42) \n"
      ],
      "execution_count": null,
      "outputs": []
    },
    {
      "cell_type": "code",
      "metadata": {
        "colab": {
          "base_uri": "https://localhost:8080/"
        },
        "id": "ztopHsLf5UIB",
        "outputId": "27c67ef5-b2de-48bd-bf39-78f16fb94881"
      },
      "source": [
        "print(X_train.shape)\n",
        "print(X_val.shape)\n",
        "print(Y_train.shape)\n",
        "print(Y_val.shape)"
      ],
      "execution_count": null,
      "outputs": [
        {
          "output_type": "stream",
          "text": [
            "(1494, 3)\n",
            "(498, 3)\n",
            "(1494,)\n",
            "(498,)\n"
          ],
          "name": "stdout"
        }
      ]
    },
    {
      "cell_type": "code",
      "metadata": {
        "colab": {
          "base_uri": "https://localhost:8080/"
        },
        "id": "ZkDYjDGE53S_",
        "outputId": "539b5c9b-75d9-42f9-80b3-bb8fff6c8507"
      },
      "source": [
        "# establish baseline mean absolute error\n",
        "y_pred = [Y_train.mean()] * len(Y_train)\n",
        "print('Baseline MAE: ', round(mean_absolute_error(Y_train, y_pred), 5))"
      ],
      "execution_count": null,
      "outputs": [
        {
          "output_type": "stream",
          "text": [
            "Baseline MAE:  2.03719\n"
          ],
          "name": "stdout"
        }
      ]
    },
    {
      "cell_type": "markdown",
      "metadata": {
        "id": "A28UxIY28nTe"
      },
      "source": [
        "# Models"
      ]
    },
    {
      "cell_type": "markdown",
      "metadata": {
        "id": "KjJ05dIv7Lkp"
      },
      "source": [
        "Linear Regression"
      ]
    },
    {
      "cell_type": "code",
      "metadata": {
        "id": "QrJZXeqc7KvS"
      },
      "source": [
        "from sklearn.linear_model import LinearRegression\n",
        "from sklearn.pipeline import make_pipeline\n",
        "from sklearn.preprocessing import StandardScaler"
      ],
      "execution_count": null,
      "outputs": []
    },
    {
      "cell_type": "code",
      "metadata": {
        "colab": {
          "base_uri": "https://localhost:8080/"
        },
        "id": "G1S0yDY97ZUt",
        "outputId": "04bf9c70-6ace-45d9-ac28-3945d2f097c2"
      },
      "source": [
        "lm = make_pipeline(\n",
        "    StandardScaler(), \n",
        "    LinearRegression(),\n",
        ")\n",
        "lm.fit(X_train,Y_train)"
      ],
      "execution_count": null,
      "outputs": [
        {
          "output_type": "execute_result",
          "data": {
            "text/plain": [
              "Pipeline(memory=None,\n",
              "         steps=[('standardscaler',\n",
              "                 StandardScaler(copy=True, with_mean=True, with_std=True)),\n",
              "                ('linearregression',\n",
              "                 LinearRegression(copy_X=True, fit_intercept=True, n_jobs=None,\n",
              "                                  normalize=False))],\n",
              "         verbose=False)"
            ]
          },
          "metadata": {
            "tags": []
          },
          "execution_count": 9
        }
      ]
    },
    {
      "cell_type": "markdown",
      "metadata": {
        "id": "t7m6KMxG7vRT"
      },
      "source": [
        "Random Forest"
      ]
    },
    {
      "cell_type": "code",
      "metadata": {
        "id": "GawsaBV47wfM"
      },
      "source": [
        "from sklearn.feature_selection import SelectKBest\n",
        "from sklearn.ensemble import RandomForestRegressor"
      ],
      "execution_count": null,
      "outputs": []
    },
    {
      "cell_type": "code",
      "metadata": {
        "colab": {
          "base_uri": "https://localhost:8080/"
        },
        "id": "YoLYw2pm76ZZ",
        "outputId": "53dfd882-ce9b-42ef-8c12-a9d8c7f74362"
      },
      "source": [
        "forestModel = make_pipeline(\n",
        "    SelectKBest(k='all'),\n",
        "    StandardScaler(),\n",
        "    RandomForestRegressor(\n",
        "        # n_estimators=100,\n",
        "        # max_depth=50,\n",
        "        # random_state=77,\n",
        "        # n_jobs=-1\n",
        "    )\n",
        ")\n",
        "\n",
        "forestModel.fit(X_train, Y_train)"
      ],
      "execution_count": null,
      "outputs": [
        {
          "output_type": "execute_result",
          "data": {
            "text/plain": [
              "Pipeline(memory=None,\n",
              "         steps=[('selectkbest',\n",
              "                 SelectKBest(k='all',\n",
              "                             score_func=<function f_classif at 0x7f1e89ecdb00>)),\n",
              "                ('standardscaler',\n",
              "                 StandardScaler(copy=True, with_mean=True, with_std=True)),\n",
              "                ('randomforestregressor',\n",
              "                 RandomForestRegressor(bootstrap=True, ccp_alpha=0.0,\n",
              "                                       criterion='mse', max_depth=None,\n",
              "                                       max_features='auto', max_leaf_nodes=None,\n",
              "                                       max_samples=None,\n",
              "                                       min_impurity_decrease=0.0,\n",
              "                                       min_impurity_split=None,\n",
              "                                       min_samples_leaf=1, min_samples_split=2,\n",
              "                                       min_weight_fraction_leaf=0.0,\n",
              "                                       n_estimators=100, n_jobs=None,\n",
              "                                       oob_score=False, random_state=None,\n",
              "                                       verbose=0, warm_start=False))],\n",
              "         verbose=False)"
            ]
          },
          "metadata": {
            "tags": []
          },
          "execution_count": 11
        }
      ]
    },
    {
      "cell_type": "markdown",
      "metadata": {
        "id": "EDhZYfJ08qJo"
      },
      "source": [
        "# New Mean Absolute Error"
      ]
    },
    {
      "cell_type": "code",
      "metadata": {
        "colab": {
          "base_uri": "https://localhost:8080/"
        },
        "id": "vWinAET08zVF",
        "outputId": "4cd86505-cd95-417c-8655-0d86231b5cbd"
      },
      "source": [
        "print('Linear Regression Training MAE: ', round(mean_absolute_error(Y_train, lm.predict(X_train)), 5))\n",
        "print('Linear Regression Test MAE: ', round(mean_absolute_error(Y_val, lm.predict(X_val)), 5))"
      ],
      "execution_count": null,
      "outputs": [
        {
          "output_type": "stream",
          "text": [
            "Linear Regression Training MAE:  0.2803\n",
            "Linear Regression Test MAE:  0.28201\n"
          ],
          "name": "stdout"
        }
      ]
    },
    {
      "cell_type": "code",
      "metadata": {
        "colab": {
          "base_uri": "https://localhost:8080/"
        },
        "id": "T9MPUUgj9TSO",
        "outputId": "2bb8d67e-b9f9-4362-81ac-c456914b6aa1"
      },
      "source": [
        "print('Random Forest Training MAE: ', mean_absolute_error(Y_train, forestModel.predict(X_train)))\n",
        "print('Random Forest Test MAE: ', mean_absolute_error(Y_val, forestModel.predict(X_val)))"
      ],
      "execution_count": null,
      "outputs": [
        {
          "output_type": "stream",
          "text": [
            "Random Forest Training MAE:  0.09307292771084573\n",
            "Random Forest Test MAE:  0.24686410843373377\n"
          ],
          "name": "stdout"
        }
      ]
    },
    {
      "cell_type": "markdown",
      "metadata": {
        "id": "ZwVh1GtN90U1"
      },
      "source": [
        "# Metrics"
      ]
    },
    {
      "cell_type": "code",
      "metadata": {
        "colab": {
          "base_uri": "https://localhost:8080/"
        },
        "id": "FKNk4j5C92tQ",
        "outputId": "b6d7042f-a8d8-4100-fcd5-d1881fc9bd15"
      },
      "source": [
        "y_pred = lm.predict(X_val)\n",
        "errors = abs(y_pred - Y_val)\n",
        "\n",
        "# calculate mean absolute percentage error (MAPE)\n",
        "mape = 100 * (errors / Y_train)\n",
        "# calculate andd display accuracy\n",
        "accuracy = 100 - np.mean(mape)\n",
        "print('Linear Regression Model Prediction Accuracy: ', round(accuracy, 2), '%.')"
      ],
      "execution_count": null,
      "outputs": [
        {
          "output_type": "stream",
          "text": [
            "Linear Regression Model Prediction Accuracy:  99.52 %.\n"
          ],
          "name": "stdout"
        }
      ]
    },
    {
      "cell_type": "code",
      "metadata": {
        "colab": {
          "base_uri": "https://localhost:8080/"
        },
        "id": "K1c8to3t-aa3",
        "outputId": "776c3741-187e-4a8e-ba73-29c4b955c353"
      },
      "source": [
        "y_pred = forestModel.predict(X_val)\n",
        "errors = abs(y_pred - Y_val)\n",
        "\n",
        "mape = 100 * (errors / Y_train)\n",
        "accuracy = 100 - np.mean(mape)\n",
        "print('Random Forest Regressor Model Prediction Accuracy: ', round(accuracy, 2), '%.')"
      ],
      "execution_count": null,
      "outputs": [
        {
          "output_type": "stream",
          "text": [
            "Random Forest Regressor Model Prediction Accuracy:  99.58 %.\n"
          ],
          "name": "stdout"
        }
      ]
    },
    {
      "cell_type": "markdown",
      "metadata": {
        "id": "awFN8JeLAy7v"
      },
      "source": [
        "# Model Tuning"
      ]
    },
    {
      "cell_type": "code",
      "metadata": {
        "id": "8UR2Ka9QA1ih"
      },
      "source": [
        "from sklearn.model_selection import RandomizedSearchCV"
      ],
      "execution_count": null,
      "outputs": []
    },
    {
      "cell_type": "code",
      "metadata": {
        "id": "O01C4vZhA5oD",
        "colab": {
          "base_uri": "https://localhost:8080/"
        },
        "outputId": "a59c13ec-5880-40c4-fd91-a8bffe0fa493"
      },
      "source": [
        "params = {'selectkbest__k': range(5)}\n",
        "\n",
        "rs = RandomizedSearchCV(\n",
        "    forestModel,\n",
        "    param_distributions=params,\n",
        "    n_iter=5,\n",
        "    n_jobs=-1,\n",
        "    cv=10\n",
        ")\n",
        "\n",
        "rs.fit(X_train, Y_train)"
      ],
      "execution_count": null,
      "outputs": [
        {
          "output_type": "execute_result",
          "data": {
            "text/plain": [
              "RandomizedSearchCV(cv=10, error_score=nan,\n",
              "                   estimator=Pipeline(memory=None,\n",
              "                                      steps=[('selectkbest',\n",
              "                                              SelectKBest(k='all',\n",
              "                                                          score_func=<function f_classif at 0x7f1e89ecdb00>)),\n",
              "                                             ('standardscaler',\n",
              "                                              StandardScaler(copy=True,\n",
              "                                                             with_mean=True,\n",
              "                                                             with_std=True)),\n",
              "                                             ('randomforestregressor',\n",
              "                                              RandomForestRegressor(bootstrap=True,\n",
              "                                                                    ccp_alpha=0.0,\n",
              "                                                                    criterion='mse',\n",
              "                                                                    max_depth=None,\n",
              "                                                                    max_fe...\n",
              "                                                                    min_samples_leaf=1,\n",
              "                                                                    min_samples_split=2,\n",
              "                                                                    min_weight_fraction_leaf=0.0,\n",
              "                                                                    n_estimators=100,\n",
              "                                                                    n_jobs=None,\n",
              "                                                                    oob_score=False,\n",
              "                                                                    random_state=None,\n",
              "                                                                    verbose=0,\n",
              "                                                                    warm_start=False))],\n",
              "                                      verbose=False),\n",
              "                   iid='deprecated', n_iter=5, n_jobs=-1,\n",
              "                   param_distributions={'selectkbest__k': range(0, 5)},\n",
              "                   pre_dispatch='2*n_jobs', random_state=None, refit=True,\n",
              "                   return_train_score=False, scoring=None, verbose=0)"
            ]
          },
          "metadata": {
            "tags": []
          },
          "execution_count": 17
        }
      ]
    },
    {
      "cell_type": "code",
      "metadata": {
        "id": "5NToFJpfBcnf"
      },
      "source": [
        "best_model = rs.best_estimator_"
      ],
      "execution_count": null,
      "outputs": []
    },
    {
      "cell_type": "code",
      "metadata": {
        "id": "IfB6X_zJBiBF",
        "colab": {
          "base_uri": "https://localhost:8080/"
        },
        "outputId": "5805928e-bbd8-4d9d-a75d-3e2fb33f7cfa"
      },
      "source": [
        "print('Training MAE: ', mean_absolute_error(Y_train, best_model.predict(X_train)))\n",
        "print('Validation MAE: ', mean_absolute_error(Y_val, best_model.predict(X_val)))"
      ],
      "execution_count": null,
      "outputs": [
        {
          "output_type": "stream",
          "text": [
            "Training MAE:  0.09224386746988143\n",
            "Validation MAE:  0.24244597590361364\n"
          ],
          "name": "stdout"
        }
      ]
    },
    {
      "cell_type": "code",
      "metadata": {
        "id": "MQzTWM6sBuP3",
        "colab": {
          "base_uri": "https://localhost:8080/"
        },
        "outputId": "c9b33bb0-8db2-4c1f-a4f1-99645194cfc1"
      },
      "source": [
        "y_pred = best_model.predict(X_val)\n",
        "errors = abs(y_pred - Y_val)\n",
        "\n",
        "mape = 100 * (errors / Y_train)\n",
        "accuracy = 100 - np.mean(mape)\n",
        "print('RandomSearchCV Best Model Prediction Accuracy: ', round(accuracy, 2), '%.')"
      ],
      "execution_count": null,
      "outputs": [
        {
          "output_type": "stream",
          "text": [
            "RandomSearchCV Best Model Prediction Accuracy:  99.59 %.\n"
          ],
          "name": "stdout"
        }
      ]
    },
    {
      "cell_type": "code",
      "metadata": {
        "id": "vdNohv9DBx_p"
      },
      "source": [
        ""
      ],
      "execution_count": null,
      "outputs": []
    },
    {
      "cell_type": "markdown",
      "metadata": {
        "id": "ryjekP_u_UtI"
      },
      "source": [
        "# Visuals"
      ]
    },
    {
      "cell_type": "code",
      "metadata": {
        "id": "QHg45TC2bSY9",
        "colab": {
          "base_uri": "https://localhost:8080/"
        },
        "outputId": "63bd3e62-e18b-49b4-c98a-7897d8770d66"
      },
      "source": [
        "from google.colab import drive\n",
        "drive.mount('/content/drive')\n"
      ],
      "execution_count": null,
      "outputs": [
        {
          "output_type": "stream",
          "text": [
            "Drive already mounted at /content/drive; to attempt to forcibly remount, call drive.mount(\"/content/drive\", force_remount=True).\n"
          ],
          "name": "stdout"
        }
      ]
    },
    {
      "cell_type": "code",
      "metadata": {
        "id": "lbQJAhHa_XGL",
        "colab": {
          "base_uri": "https://localhost:8080/"
        },
        "outputId": "82d98898-b277-4795-ea17-4c1a32ec4e35"
      },
      "source": [
        "!pip install pdpbox\n",
        "from pdpbox.pdp import pdp_isolate, pdp_plot\n",
        "\n",
        "feature = 'LandAverageTemperature'\n",
        "\n",
        "isolated = pdp_isolate(\n",
        "    model=forestModel,\n",
        "    dataset=X_val,\n",
        "    model_features=X_val.columns,\n",
        "    feature=feature\n",
        ")"
      ],
      "execution_count": null,
      "outputs": [
        {
          "output_type": "stream",
          "text": [
            "Requirement already satisfied: pdpbox in /usr/local/lib/python3.7/dist-packages (0.2.1)\n",
            "Requirement already satisfied: numpy in /usr/local/lib/python3.7/dist-packages (from pdpbox) (1.19.5)\n",
            "Requirement already satisfied: sklearn in /usr/local/lib/python3.7/dist-packages (from pdpbox) (0.0)\n",
            "Requirement already satisfied: scipy in /usr/local/lib/python3.7/dist-packages (from pdpbox) (1.4.1)\n",
            "Requirement already satisfied: pandas in /usr/local/lib/python3.7/dist-packages (from pdpbox) (1.1.5)\n",
            "Requirement already satisfied: joblib in /usr/local/lib/python3.7/dist-packages (from pdpbox) (1.0.1)\n",
            "Requirement already satisfied: matplotlib==3.1.1 in /usr/local/lib/python3.7/dist-packages (from pdpbox) (3.1.1)\n",
            "Requirement already satisfied: psutil in /usr/local/lib/python3.7/dist-packages (from pdpbox) (5.4.8)\n",
            "Requirement already satisfied: scikit-learn in /usr/local/lib/python3.7/dist-packages (from sklearn->pdpbox) (0.22.2.post1)\n",
            "Requirement already satisfied: python-dateutil>=2.7.3 in /usr/local/lib/python3.7/dist-packages (from pandas->pdpbox) (2.8.1)\n",
            "Requirement already satisfied: pytz>=2017.2 in /usr/local/lib/python3.7/dist-packages (from pandas->pdpbox) (2018.9)\n",
            "Requirement already satisfied: kiwisolver>=1.0.1 in /usr/local/lib/python3.7/dist-packages (from matplotlib==3.1.1->pdpbox) (1.3.1)\n",
            "Requirement already satisfied: pyparsing!=2.0.4,!=2.1.2,!=2.1.6,>=2.0.1 in /usr/local/lib/python3.7/dist-packages (from matplotlib==3.1.1->pdpbox) (2.4.7)\n",
            "Requirement already satisfied: cycler>=0.10 in /usr/local/lib/python3.7/dist-packages (from matplotlib==3.1.1->pdpbox) (0.10.0)\n",
            "Requirement already satisfied: six>=1.5 in /usr/local/lib/python3.7/dist-packages (from python-dateutil>=2.7.3->pandas->pdpbox) (1.15.0)\n"
          ],
          "name": "stdout"
        }
      ]
    },
    {
      "cell_type": "code",
      "metadata": {
        "colab": {
          "base_uri": "https://localhost:8080/",
          "height": 606
        },
        "id": "zvBP63uidVin",
        "outputId": "f9fe48d4-3887-4b43-88b0-141496aca1a4"
      },
      "source": [
        "pdp_plot(isolated, feature_name=feature)"
      ],
      "execution_count": null,
      "outputs": [
        {
          "output_type": "execute_result",
          "data": {
            "text/plain": [
              "(<Figure size 1080x684 with 2 Axes>,\n",
              " {'pdp_ax': <matplotlib.axes._subplots.AxesSubplot at 0x7f1e8436bdd0>,\n",
              "  'title_ax': <matplotlib.axes._subplots.AxesSubplot at 0x7f1e843add50>})"
            ]
          },
          "metadata": {
            "tags": []
          },
          "execution_count": 29
        },
        {
          "output_type": "display_data",
          "data": {
            "image/png": "[encoded data removed]",
            "text/plain": [
              "<Figure size 1080x684 with 2 Axes>"
            ]
          },
          "metadata": {
            "tags": [],
            "needs_background": "light"
          }
        }
      ]
    }
  ]
}