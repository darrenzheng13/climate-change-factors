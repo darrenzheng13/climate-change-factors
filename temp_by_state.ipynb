{
  "nbformat": 4,
  "nbformat_minor": 0,
  "metadata": {
    "colab": {
      "name": "TempBystate.ipynb",
      "provenance": [],
      "collapsed_sections": []
    },
    "kernelspec": {
      "name": "python3",
      "display_name": "Python 3"
    },
    "language_info": {
      "name": "python"
    }
  },
  "cells": [
    {
      "cell_type": "markdown",
      "metadata": {
        "id": "7mKlPe_8dD91"
      },
      "source": [
        "csvs needed for this section: https://drive.google.com/drive/folders/10WslU2x5JEiG2IQEn9KvMxSbzrERCdZB?usp=sharing\n",
        "\n",
        "df = the only dataframe you need, with temp, state, year etc"
      ]
    },
    {
      "cell_type": "code",
      "metadata": {
        "id": "TkEnvnPcXJDi"
      },
      "source": [
        "# from google.colab import drive\n",
        "# drive.mount('/content/drive')"
      ],
      "execution_count": null,
      "outputs": []
    },
    {
      "cell_type": "code",
      "metadata": {
        "id": "IKfVcfU12pEs"
      },
      "source": [
        "import numpy as np\n",
        "import pandas as pd\n",
        "import matplotlib.pyplot as plt\n",
        "import math"
      ],
      "execution_count": null,
      "outputs": []
    },
    {
      "cell_type": "code",
      "metadata": {
        "id": "XjM2krgQdYmU"
      },
      "source": [
        "# Read gas emissions data\n",
        "file1 = open('climatewatch-usemissions.csv', 'r') \n",
        "emissionsDf = pd.read_csv(file1)  # used to combine all states and years\n",
        "emissionsDf = emissionsDf.drop(range(0,3))\n",
        "emissionsDf.columns = [\"State\", \"Year\", \"GHG Emissions Excluding LUCF\",\t'GHG Emissions Including LUCF',\t'CO2 (excluding LUCF)',\t'CH4',\t'N2O',\t'F-Gas',\t'Energy',\t'Industrial Processes',\t'Agriculture',\t'Waste',\t'Land Use and Forestry',\t'Bunker Fuels',\t'Electric Power',\t'Commercial',\t'Residential',\t'Industrial',\t'Transportation',\t'Fugitive Emissions',\t'State GDP (Million US$ (chained 1997/2005))',\t'Population',\t'Energy Use (Thous. tonnes oil eq. (ktoe))']\n",
        "# remove rows of Hawaii Data\n",
        "emissionsDf = emissionsDf[emissionsDf.State != 'Hawaii']\n",
        "tempDf = pd.DataFrame(emissionsDf)      # used to split state wise"
      ],
      "execution_count": null,
      "outputs": []
    },
    {
      "cell_type": "code",
      "metadata": {
        "id": "2HD-lhdvICUx"
      },
      "source": [
        "# process combined emissions data\n",
        "# emissionsDf = emissionsDf.drop(range(0,3))\n",
        "# emissionsDf.columns = [\"State\", \"Year\", \"GHG Emissions Excluding LUCF\",\t'GHG Emissions Including LUCF',\t'CO2 (excluding LUCF)',\t'CH4',\t'N2O',\t'F-Gas',\t'Energy',\t'Industrial Processes',\t'Agriculture',\t'Waste',\t'Land Use and Forestry',\t'Bunker Fuels',\t'Electric Power',\t'Commercial',\t'Residential',\t'Industrial',\t'Transportation',\t'Fugitive Emissions',\t'State GDP (Million US$ (chained 1997/2005))',\t'Population',\t'Energy Use (Thous. tonnes oil eq. (ktoe))']\n",
        "# drop the State and Year\n",
        "emissionsDf = emissionsDf.drop(columns=['State', 'Year'])\n",
        "# change str values to float\n",
        "emissionsDf = emissionsDf.astype(float)\n",
        "\n",
        "# weigh the features by population\n",
        "emissionsDf.iloc[:,0:18] = emissionsDf.iloc[:,0:18].div(emissionsDf.Population, axis=0)\n",
        "emissionsDf.iloc[:,20] = emissionsDf.iloc[:,20].div(emissionsDf.Population, axis=0)"
      ],
      "execution_count": null,
      "outputs": []
    },
    {
      "cell_type": "code",
      "metadata": {
        "colab": {
          "base_uri": "https://localhost:8080/"
        },
        "id": "Ao38XEKJIDQ8",
        "outputId": "55e3ee42-ca42-4712-aa69-df464899b86e"
      },
      "source": [
        "emissionsDf.shape"
      ],
      "execution_count": null,
      "outputs": [
        {
          "output_type": "execute_result",
          "data": {
            "text/plain": [
              "(1479, 21)"
            ]
          },
          "metadata": {
            "tags": []
          },
          "execution_count": 56
        }
      ]
    },
    {
      "cell_type": "code",
      "metadata": {
        "colab": {
          "base_uri": "https://localhost:8080/",
          "height": 391
        },
        "id": "eAChMSEIlylF",
        "outputId": "d9e2b18a-8ddb-4893-c67a-7b727bfb7166"
      },
      "source": [
        "emissionsDf.head(5)"
      ],
      "execution_count": null,
      "outputs": [
        {
          "output_type": "execute_result",
          "data": {
            "text/html": [
              "<div>\n",
              "<style scoped>\n",
              "    .dataframe tbody tr th:only-of-type {\n",
              "        vertical-align: middle;\n",
              "    }\n",
              "\n",
              "    .dataframe tbody tr th {\n",
              "        vertical-align: top;\n",
              "    }\n",
              "\n",
              "    .dataframe thead th {\n",
              "        text-align: right;\n",
              "    }\n",
              "</style>\n",
              "<table border=\"1\" class=\"dataframe\">\n",
              "  <thead>\n",
              "    <tr style=\"text-align: right;\">\n",
              "      <th></th>\n",
              "      <th>GHG Emissions Excluding LUCF</th>\n",
              "      <th>GHG Emissions Including LUCF</th>\n",
              "      <th>CO2 (excluding LUCF)</th>\n",
              "      <th>CH4</th>\n",
              "      <th>N2O</th>\n",
              "      <th>F-Gas</th>\n",
              "      <th>Energy</th>\n",
              "      <th>Industrial Processes</th>\n",
              "      <th>Agriculture</th>\n",
              "      <th>Waste</th>\n",
              "      <th>Land Use and Forestry</th>\n",
              "      <th>Bunker Fuels</th>\n",
              "      <th>Electric Power</th>\n",
              "      <th>Commercial</th>\n",
              "      <th>Residential</th>\n",
              "      <th>Industrial</th>\n",
              "      <th>Transportation</th>\n",
              "      <th>Fugitive Emissions</th>\n",
              "      <th>State GDP (Million US$ (chained 1997/2005))</th>\n",
              "      <th>Population</th>\n",
              "      <th>Energy Use (Thous. tonnes oil eq. (ktoe))</th>\n",
              "    </tr>\n",
              "  </thead>\n",
              "  <tbody>\n",
              "    <tr>\n",
              "      <th>3</th>\n",
              "      <td>0.000035</td>\n",
              "      <td>0.000020</td>\n",
              "      <td>0.000028</td>\n",
              "      <td>0.000006</td>\n",
              "      <td>1.489889e-06</td>\n",
              "      <td>1.272142e-07</td>\n",
              "      <td>0.000032</td>\n",
              "      <td>8.500820e-07</td>\n",
              "      <td>1.839858e-06</td>\n",
              "      <td>8.989998e-07</td>\n",
              "      <td>-1.500507e-05</td>\n",
              "      <td>0.0</td>\n",
              "      <td>0.000012</td>\n",
              "      <td>6.062525e-07</td>\n",
              "      <td>7.983087e-07</td>\n",
              "      <td>0.000006</td>\n",
              "      <td>0.000007</td>\n",
              "      <td>4.093762e-06</td>\n",
              "      <td>83766.0</td>\n",
              "      <td>4050055.0</td>\n",
              "      <td>0.010363</td>\n",
              "    </tr>\n",
              "    <tr>\n",
              "      <th>4</th>\n",
              "      <td>0.000086</td>\n",
              "      <td>0.000081</td>\n",
              "      <td>0.000065</td>\n",
              "      <td>0.000020</td>\n",
              "      <td>5.033216e-07</td>\n",
              "      <td>6.653903e-08</td>\n",
              "      <td>0.000083</td>\n",
              "      <td>1.976349e-06</td>\n",
              "      <td>1.168218e-07</td>\n",
              "      <td>6.663707e-07</td>\n",
              "      <td>-4.406813e-06</td>\n",
              "      <td>0.0</td>\n",
              "      <td>0.000005</td>\n",
              "      <td>3.995095e-06</td>\n",
              "      <td>2.914877e-06</td>\n",
              "      <td>0.000029</td>\n",
              "      <td>0.000022</td>\n",
              "      <td>2.038675e-05</td>\n",
              "      <td>28772.0</td>\n",
              "      <td>553290.0</td>\n",
              "      <td>0.026602</td>\n",
              "    </tr>\n",
              "    <tr>\n",
              "      <th>5</th>\n",
              "      <td>0.000019</td>\n",
              "      <td>0.000018</td>\n",
              "      <td>0.000017</td>\n",
              "      <td>0.000001</td>\n",
              "      <td>9.446957e-07</td>\n",
              "      <td>2.242201e-07</td>\n",
              "      <td>0.000018</td>\n",
              "      <td>3.137621e-07</td>\n",
              "      <td>1.206492e-06</td>\n",
              "      <td>4.183521e-07</td>\n",
              "      <td>-9.878821e-07</td>\n",
              "      <td>0.0</td>\n",
              "      <td>0.000009</td>\n",
              "      <td>5.198594e-07</td>\n",
              "      <td>5.162364e-07</td>\n",
              "      <td>0.000001</td>\n",
              "      <td>0.000007</td>\n",
              "      <td>2.607448e-08</td>\n",
              "      <td>81606.0</td>\n",
              "      <td>3684097.0</td>\n",
              "      <td>0.006423</td>\n",
              "    </tr>\n",
              "    <tr>\n",
              "      <th>6</th>\n",
              "      <td>0.000031</td>\n",
              "      <td>0.000011</td>\n",
              "      <td>0.000022</td>\n",
              "      <td>0.000004</td>\n",
              "      <td>4.227785e-06</td>\n",
              "      <td>1.000345e-07</td>\n",
              "      <td>0.000023</td>\n",
              "      <td>4.885694e-07</td>\n",
              "      <td>6.763115e-06</td>\n",
              "      <td>7.539493e-07</td>\n",
              "      <td>-2.003752e-05</td>\n",
              "      <td>0.0</td>\n",
              "      <td>0.000009</td>\n",
              "      <td>6.918771e-07</td>\n",
              "      <td>1.085928e-06</td>\n",
              "      <td>0.000004</td>\n",
              "      <td>0.000007</td>\n",
              "      <td>3.604424e-07</td>\n",
              "      <td>44496.0</td>\n",
              "      <td>2356586.0</td>\n",
              "      <td>0.009153</td>\n",
              "    </tr>\n",
              "    <tr>\n",
              "      <th>7</th>\n",
              "      <td>0.000014</td>\n",
              "      <td>0.000012</td>\n",
              "      <td>0.000012</td>\n",
              "      <td>0.000001</td>\n",
              "      <td>7.877420e-07</td>\n",
              "      <td>8.534919e-08</td>\n",
              "      <td>0.000013</td>\n",
              "      <td>2.580579e-07</td>\n",
              "      <td>9.674698e-07</td>\n",
              "      <td>4.804590e-07</td>\n",
              "      <td>-2.250875e-06</td>\n",
              "      <td>0.0</td>\n",
              "      <td>0.000001</td>\n",
              "      <td>6.375796e-07</td>\n",
              "      <td>1.007667e-06</td>\n",
              "      <td>0.000002</td>\n",
              "      <td>0.000007</td>\n",
              "      <td>1.823187e-07</td>\n",
              "      <td>906103.0</td>\n",
              "      <td>29959515.0</td>\n",
              "      <td>0.006262</td>\n",
              "    </tr>\n",
              "  </tbody>\n",
              "</table>\n",
              "</div>"
            ],
            "text/plain": [
              "   GHG Emissions Excluding LUCF  ...  Energy Use (Thous. tonnes oil eq. (ktoe))\n",
              "3                      0.000035  ...                                   0.010363\n",
              "4                      0.000086  ...                                   0.026602\n",
              "5                      0.000019  ...                                   0.006423\n",
              "6                      0.000031  ...                                   0.009153\n",
              "7                      0.000014  ...                                   0.006262\n",
              "\n",
              "[5 rows x 21 columns]"
            ]
          },
          "metadata": {
            "tags": []
          },
          "execution_count": 57
        }
      ]
    },
    {
      "cell_type": "code",
      "metadata": {
        "colab": {
          "base_uri": "https://localhost:8080/",
          "height": 391
        },
        "id": "zKdgO07n3WE4",
        "outputId": "0bf4f525-3b9e-45d8-de9b-63dab59b2601"
      },
      "source": [
        "# weigh the features by state population\n",
        "intDf = tempDf.iloc[:, 2:20].astype(float)\n",
        "tempRow = tempDf.iloc[:, 22].astype(float)\n",
        "tempCols = tempDf.iloc[:, 21].astype(float)\n",
        "tempDf.iloc[:, 2:20] = intDf.div(tempCols, axis = 0)\n",
        "tempDf.iloc[:,22] = tempRow.div(tempCols, axis = 0) \n",
        "tempDf.head(5)"
      ],
      "execution_count": null,
      "outputs": [
        {
          "output_type": "execute_result",
          "data": {
            "text/html": [
              "<div>\n",
              "<style scoped>\n",
              "    .dataframe tbody tr th:only-of-type {\n",
              "        vertical-align: middle;\n",
              "    }\n",
              "\n",
              "    .dataframe tbody tr th {\n",
              "        vertical-align: top;\n",
              "    }\n",
              "\n",
              "    .dataframe thead th {\n",
              "        text-align: right;\n",
              "    }\n",
              "</style>\n",
              "<table border=\"1\" class=\"dataframe\">\n",
              "  <thead>\n",
              "    <tr style=\"text-align: right;\">\n",
              "      <th></th>\n",
              "      <th>State</th>\n",
              "      <th>Year</th>\n",
              "      <th>GHG Emissions Excluding LUCF</th>\n",
              "      <th>GHG Emissions Including LUCF</th>\n",
              "      <th>CO2 (excluding LUCF)</th>\n",
              "      <th>CH4</th>\n",
              "      <th>N2O</th>\n",
              "      <th>F-Gas</th>\n",
              "      <th>Energy</th>\n",
              "      <th>Industrial Processes</th>\n",
              "      <th>Agriculture</th>\n",
              "      <th>Waste</th>\n",
              "      <th>Land Use and Forestry</th>\n",
              "      <th>Bunker Fuels</th>\n",
              "      <th>Electric Power</th>\n",
              "      <th>Commercial</th>\n",
              "      <th>Residential</th>\n",
              "      <th>Industrial</th>\n",
              "      <th>Transportation</th>\n",
              "      <th>Fugitive Emissions</th>\n",
              "      <th>State GDP (Million US$ (chained 1997/2005))</th>\n",
              "      <th>Population</th>\n",
              "      <th>Energy Use (Thous. tonnes oil eq. (ktoe))</th>\n",
              "    </tr>\n",
              "  </thead>\n",
              "  <tbody>\n",
              "    <tr>\n",
              "      <th>3</th>\n",
              "      <td>Alabama</td>\n",
              "      <td>1990</td>\n",
              "      <td>3.51643e-05</td>\n",
              "      <td>2.01592e-05</td>\n",
              "      <td>2.76927e-05</td>\n",
              "      <td>5.85443e-06</td>\n",
              "      <td>1.48989e-06</td>\n",
              "      <td>1.27214e-07</td>\n",
              "      <td>3.15753e-05</td>\n",
              "      <td>8.50082e-07</td>\n",
              "      <td>1.83986e-06</td>\n",
              "      <td>8.99e-07</td>\n",
              "      <td>-1.50051e-05</td>\n",
              "      <td>0</td>\n",
              "      <td>1.24888e-05</td>\n",
              "      <td>6.06253e-07</td>\n",
              "      <td>7.98309e-07</td>\n",
              "      <td>6.28396e-06</td>\n",
              "      <td>7.30428e-06</td>\n",
              "      <td>4.09376e-06</td>\n",
              "      <td>83766</td>\n",
              "      <td>4050055</td>\n",
              "      <td>0.010363</td>\n",
              "    </tr>\n",
              "    <tr>\n",
              "      <th>4</th>\n",
              "      <td>Alaska</td>\n",
              "      <td>1990</td>\n",
              "      <td>8.56597e-05</td>\n",
              "      <td>8.12529e-05</td>\n",
              "      <td>6.48737e-05</td>\n",
              "      <td>2.02161e-05</td>\n",
              "      <td>5.03322e-07</td>\n",
              "      <td>6.6539e-08</td>\n",
              "      <td>8.29001e-05</td>\n",
              "      <td>1.97635e-06</td>\n",
              "      <td>1.16822e-07</td>\n",
              "      <td>6.66371e-07</td>\n",
              "      <td>-4.40681e-06</td>\n",
              "      <td>0</td>\n",
              "      <td>4.72262e-06</td>\n",
              "      <td>3.99509e-06</td>\n",
              "      <td>2.91488e-06</td>\n",
              "      <td>2.86488e-05</td>\n",
              "      <td>2.2232e-05</td>\n",
              "      <td>2.03868e-05</td>\n",
              "      <td>28772</td>\n",
              "      <td>553290</td>\n",
              "      <td>0.026602</td>\n",
              "    </tr>\n",
              "    <tr>\n",
              "      <th>5</th>\n",
              "      <td>Arizona</td>\n",
              "      <td>1990</td>\n",
              "      <td>1.94587e-05</td>\n",
              "      <td>1.84709e-05</td>\n",
              "      <td>1.71796e-05</td>\n",
              "      <td>1.11021e-06</td>\n",
              "      <td>9.44696e-07</td>\n",
              "      <td>2.2422e-07</td>\n",
              "      <td>1.75201e-05</td>\n",
              "      <td>3.13762e-07</td>\n",
              "      <td>1.20649e-06</td>\n",
              "      <td>4.18352e-07</td>\n",
              "      <td>-9.87882e-07</td>\n",
              "      <td>0</td>\n",
              "      <td>8.87071e-06</td>\n",
              "      <td>5.19859e-07</td>\n",
              "      <td>5.16236e-07</td>\n",
              "      <td>1.05516e-06</td>\n",
              "      <td>6.53209e-06</td>\n",
              "      <td>2.60745e-08</td>\n",
              "      <td>81606</td>\n",
              "      <td>3684097</td>\n",
              "      <td>0.006423</td>\n",
              "    </tr>\n",
              "    <tr>\n",
              "      <th>6</th>\n",
              "      <td>Arkansas</td>\n",
              "      <td>1990</td>\n",
              "      <td>3.05415e-05</td>\n",
              "      <td>1.05039e-05</td>\n",
              "      <td>2.21555e-05</td>\n",
              "      <td>4.05813e-06</td>\n",
              "      <td>4.22778e-06</td>\n",
              "      <td>1.00035e-07</td>\n",
              "      <td>2.25358e-05</td>\n",
              "      <td>4.88569e-07</td>\n",
              "      <td>6.76311e-06</td>\n",
              "      <td>7.53949e-07</td>\n",
              "      <td>-2.00375e-05</td>\n",
              "      <td>0</td>\n",
              "      <td>9.20734e-06</td>\n",
              "      <td>6.91877e-07</td>\n",
              "      <td>1.08593e-06</td>\n",
              "      <td>4.02638e-06</td>\n",
              "      <td>7.16386e-06</td>\n",
              "      <td>3.60442e-07</td>\n",
              "      <td>44496</td>\n",
              "      <td>2356586</td>\n",
              "      <td>0.009153</td>\n",
              "    </tr>\n",
              "    <tr>\n",
              "      <th>7</th>\n",
              "      <td>California</td>\n",
              "      <td>1990</td>\n",
              "      <td>1.43748e-05</td>\n",
              "      <td>1.21239e-05</td>\n",
              "      <td>1.23072e-05</td>\n",
              "      <td>1.19446e-06</td>\n",
              "      <td>7.87742e-07</td>\n",
              "      <td>8.53492e-08</td>\n",
              "      <td>1.26688e-05</td>\n",
              "      <td>2.58058e-07</td>\n",
              "      <td>9.6747e-07</td>\n",
              "      <td>4.80459e-07</td>\n",
              "      <td>-2.25087e-06</td>\n",
              "      <td>0</td>\n",
              "      <td>1.34661e-06</td>\n",
              "      <td>6.3758e-07</td>\n",
              "      <td>1.00767e-06</td>\n",
              "      <td>2.39928e-06</td>\n",
              "      <td>7.0953e-06</td>\n",
              "      <td>1.82319e-07</td>\n",
              "      <td>906103</td>\n",
              "      <td>29959515</td>\n",
              "      <td>0.006262</td>\n",
              "    </tr>\n",
              "  </tbody>\n",
              "</table>\n",
              "</div>"
            ],
            "text/plain": [
              "        State  Year  ... Population Energy Use (Thous. tonnes oil eq. (ktoe))\n",
              "3     Alabama  1990  ...    4050055                                  0.010363\n",
              "4      Alaska  1990  ...     553290                                  0.026602\n",
              "5     Arizona  1990  ...    3684097                                  0.006423\n",
              "6    Arkansas  1990  ...    2356586                                  0.009153\n",
              "7  California  1990  ...   29959515                                  0.006262\n",
              "\n",
              "[5 rows x 23 columns]"
            ]
          },
          "metadata": {
            "tags": []
          },
          "execution_count": 58
        }
      ]
    },
    {
      "cell_type": "markdown",
      "metadata": {
        "id": "_lZt74YDodaN"
      },
      "source": [
        "Playground"
      ]
    },
    {
      "cell_type": "code",
      "metadata": {
        "id": "1E87G05-Tv7A"
      },
      "source": [
        "# Read 50 state data files, convert to DataFrames.\n",
        "\n",
        "# Alabama1\n",
        "file1 = open('tempByStateAlabama.csv', 'r') \n",
        "df1 = pd.read_csv(file1)\n",
        "df1 = df1.drop(range(0,4))\n",
        "df1.columns = [\"Year\", \"Avg Temp\", \"Delta\"]\n",
        "for i in range(0, len(df1)):\n",
        "    df1.iloc[i].Year = df1.iloc[i].Year[:4]\n",
        "# create alabama subset of tempDf\n",
        "df2 = pd.DataFrame(tempDf.loc[tempDf['State'] == 'Alabama'])\n",
        "# merge into one dataframe\n",
        "df = pd.DataFrame(pd.merge(df2, df1, on = ['Year'], how='left'))\n",
        "\n",
        "# Alaska2\n",
        "file1 = open('tempByStateAlaska.csv', 'r') \n",
        "df1 = pd.read_csv(file1)\n",
        "df1 = df1.drop(range(0,4))\n",
        "df1.columns = [\"Year\", \"Avg Temp\", \"Delta\"]\n",
        "for i in range(0, len(df1)):\n",
        "    df1.iloc[i].Year = df1.iloc[i].Year[:4]\n",
        "# create Alaska subset of tempDf\n",
        "df2 = pd.DataFrame(tempDf.loc[tempDf['State'] == 'Alaska'])\n",
        "# merge into one dataframe\n",
        "df = df.append(pd.merge(df2, df1, on = ['Year'], how='left'), ignore_index=True)\n",
        "\n",
        "# Arizona3\n",
        "file1 = open('tempByStateArizona.csv', 'r') \n",
        "df1 = pd.read_csv(file1)\n",
        "df1 = df1.drop(range(0,4))\n",
        "df1.columns = [\"Year\", \"Avg Temp\", \"Delta\"]\n",
        "for i in range(0, len(df1)):\n",
        "    df1.iloc[i].Year = df1.iloc[i].Year[:4]\n",
        "# create Arizona subset of tempDf\n",
        "df2 = pd.DataFrame(tempDf.loc[tempDf['State'] == 'Arizona'])\n",
        "# merge into one dataframe\n",
        "df = df.append(pd.merge(df2, df1, on = ['Year'], how='left'), ignore_index=True)\n",
        "\n",
        "# Arkansas4\n",
        "file1 = open('tempByStateArkansas.csv', 'r') \n",
        "df1 = pd.read_csv(file1)\n",
        "df1 = df1.drop(range(0,4))\n",
        "df1.columns = [\"Year\", \"Avg Temp\", \"Delta\"]\n",
        "for i in range(0, len(df1)):\n",
        "    df1.iloc[i].Year = df1.iloc[i].Year[:4]\n",
        "# create Arkansas subset of tempDf\n",
        "df2 = pd.DataFrame(tempDf.loc[tempDf['State'] == 'Arkansas'])\n",
        "# merge into one dataframe\n",
        "df = df.append(pd.merge(df2, df1, on = ['Year'], how='left'), ignore_index=True)\n",
        "\n",
        "# California5\n",
        "file1 = open('tempByStateCalifornia.csv', 'r') \n",
        "df1 = pd.read_csv(file1)\n",
        "df1 = df1.drop(range(0,4))\n",
        "df1.columns = [\"Year\", \"Avg Temp\", \"Delta\"]\n",
        "for i in range(0, len(df1)):\n",
        "    df1.iloc[i].Year = df1.iloc[i].Year[:4]\n",
        "# create California subset of tempDf\n",
        "df2 = pd.DataFrame(tempDf.loc[tempDf['State'] == 'California'])\n",
        "# merge into one dataframe\n",
        "df = df.append(pd.merge(df2, df1, on = ['Year'], how='left'), ignore_index=True)\n",
        "\n",
        "# Colorado6\n",
        "file1 = open('tempByStateColorado.csv', 'r') \n",
        "df1 = pd.read_csv(file1)\n",
        "df1 = df1.drop(range(0,4))\n",
        "df1.columns = [\"Year\", \"Avg Temp\", \"Delta\"]\n",
        "for i in range(0, len(df1)):\n",
        "    df1.iloc[i].Year = df1.iloc[i].Year[:4]\n",
        "# create Colorado subset of tempDf\n",
        "df2 = pd.DataFrame(tempDf.loc[tempDf['State'] == 'Colorado'])\n",
        "# merge into one dataframe\n",
        "df = df.append(pd.merge(df2, df1, on = ['Year'], how='left'), ignore_index=True)\n",
        "\n",
        "# Connecticut7\n",
        "file1 = open('tempByStateConnecticut.csv', 'r') \n",
        "df1 = pd.read_csv(file1)\n",
        "df1 = df1.drop(range(0,4))\n",
        "df1.columns = [\"Year\", \"Avg Temp\", \"Delta\"]\n",
        "for i in range(0, len(df1)):\n",
        "    df1.iloc[i].Year = df1.iloc[i].Year[:4]\n",
        "# create Connecticut subset of tempDf\n",
        "df2 = pd.DataFrame(tempDf.loc[tempDf['State'] == 'Connecticut'])\n",
        "# merge into one dataframe\n",
        "df = df.append(pd.merge(df2, df1, on = ['Year'], how='left'), ignore_index=True)\n",
        "\n",
        "# Delaware8\n",
        "file1 = open('tempByStateDelaware.csv', 'r') \n",
        "df1 = pd.read_csv(file1)\n",
        "df1 = df1.drop(range(0,4))\n",
        "df1.columns = [\"Year\", \"Avg Temp\", \"Delta\"]\n",
        "for i in range(0, len(df1)):\n",
        "    df1.iloc[i].Year = df1.iloc[i].Year[:4]\n",
        "# create Delaware subset of tempDf\n",
        "df2 = pd.DataFrame(tempDf.loc[tempDf['State'] == 'Delaware'])\n",
        "# merge into one dataframe\n",
        "df = df.append(pd.merge(df2, df1, on = ['Year'], how='left'), ignore_index=True)\n",
        "\n",
        "# Florida9\n",
        "file1 = open('tempByStateFlorida.csv', 'r') \n",
        "df1 = pd.read_csv(file1)\n",
        "df1 = df1.drop(range(0,4))\n",
        "df1.columns = [\"Year\", \"Avg Temp\", \"Delta\"]\n",
        "for i in range(0, len(df1)):\n",
        "    df1.iloc[i].Year = df1.iloc[i].Year[:4]\n",
        "# create Florida subset of tempDf\n",
        "df2 = pd.DataFrame(tempDf.loc[tempDf['State'] == 'Florida'])\n",
        "# merge into one dataframe\n",
        "df = df.append(pd.merge(df2, df1, on = ['Year'], how='left'), ignore_index=True)\n",
        "\n",
        "# Georgia10\n",
        "file1 = open('tempByStateGeorgia.csv', 'r') \n",
        "df1 = pd.read_csv(file1)\n",
        "df1 = df1.drop(range(0,4))\n",
        "df1.columns = [\"Year\", \"Avg Temp\", \"Delta\"]\n",
        "for i in range(0, len(df1)):\n",
        "    df1.iloc[i].Year = df1.iloc[i].Year[:4]\n",
        "# create Georgia subset of tempDf\n",
        "df2 = pd.DataFrame(tempDf.loc[tempDf['State'] == 'Georgia'])\n",
        "# merge into one dataframe\n",
        "df = df.append(pd.merge(df2, df1, on = ['Year'], how='left'), ignore_index=True)\n",
        "\n",
        "# Idaho11\n",
        "file1 = open('tempByStateIdaho.csv', 'r') \n",
        "df1 = pd.read_csv(file1)\n",
        "df1 = df1.drop(range(0,4))\n",
        "df1.columns = [\"Year\", \"Avg Temp\", \"Delta\"]\n",
        "for i in range(0, len(df1)):\n",
        "    df1.iloc[i].Year = df1.iloc[i].Year[:4]\n",
        "# create Idaho subset of tempDf\n",
        "df2 = pd.DataFrame(tempDf.loc[tempDf['State'] == 'Idaho'])\n",
        "# merge into one dataframe\n",
        "df = df.append(pd.merge(df2, df1, on = ['Year'], how='left'), ignore_index=True)\n",
        "\n",
        "# Illinois12\n",
        "file1 = open('tempByStateIllinois.csv', 'r') \n",
        "df1 = pd.read_csv(file1)\n",
        "df1 = df1.drop(range(0,4))\n",
        "df1.columns = [\"Year\", \"Avg Temp\", \"Delta\"]\n",
        "for i in range(0, len(df1)):\n",
        "    df1.iloc[i].Year = df1.iloc[i].Year[:4]\n",
        "# create Illinois subset of tempDf\n",
        "df2 = pd.DataFrame(tempDf.loc[tempDf['State'] == 'Illinois'])\n",
        "# merge into one dataframe\n",
        "df = df.append(pd.merge(df2, df1, on = ['Year'], how='left'), ignore_index=True)\n",
        "\n",
        "# Indiana13\n",
        "file1 = open('tempByStateIndiana.csv', 'r') \n",
        "df1 = pd.read_csv(file1)\n",
        "df1 = df1.drop(range(0,4))\n",
        "df1.columns = [\"Year\", \"Avg Temp\", \"Delta\"]\n",
        "for i in range(0, len(df1)):\n",
        "    df1.iloc[i].Year = df1.iloc[i].Year[:4]\n",
        "# create Indiana subset of tempDf\n",
        "df2 = pd.DataFrame(tempDf.loc[tempDf['State'] == 'Indiana'])\n",
        "# merge into one dataframe\n",
        "df = df.append(pd.merge(df2, df1, on = ['Year'], how='left'), ignore_index=True)\n",
        "\n",
        "# Iowa14\n",
        "file1 = open('tempByStateIowa.csv', 'r') \n",
        "df1 = pd.read_csv(file1)\n",
        "df1 = df1.drop(range(0,4))\n",
        "df1.columns = [\"Year\", \"Avg Temp\", \"Delta\"]\n",
        "for i in range(0, len(df1)):\n",
        "    df1.iloc[i].Year = df1.iloc[i].Year[:4]\n",
        "# create Iowa subset of tempDf\n",
        "df2 = pd.DataFrame(tempDf.loc[tempDf['State'] == 'Iowa'])\n",
        "# merge into one dataframe\n",
        "df = df.append(pd.merge(df2, df1, on = ['Year'], how='left'), ignore_index=True)\n",
        "\n",
        "# Kansas15\n",
        "file1 = open('tempByStateKansas.csv', 'r') \n",
        "df1 = pd.read_csv(file1)\n",
        "df1 = df1.drop(range(0,4))\n",
        "df1.columns = [\"Year\", \"Avg Temp\", \"Delta\"]\n",
        "for i in range(0, len(df1)):\n",
        "    df1.iloc[i].Year = df1.iloc[i].Year[:4]\n",
        "# create Kansas subset of tempDf\n",
        "df2 = pd.DataFrame(tempDf.loc[tempDf['State'] == 'Kansas'])\n",
        "# merge into one dataframe\n",
        "df = df.append(pd.merge(df2, df1, on = ['Year'], how='left'), ignore_index=True)\n",
        "\n",
        "\n",
        "# Kentucky16\n",
        "file1 = open('tempByStateKentucky.csv', 'r') \n",
        "df1 = pd.read_csv(file1)\n",
        "df1 = df1.drop(range(0,4))\n",
        "df1.columns = [\"Year\", \"Avg Temp\", \"Delta\"]\n",
        "for i in range(0, len(df1)):\n",
        "    df1.iloc[i].Year = df1.iloc[i].Year[:4]\n",
        "# create Kentucky subset of tempDf\n",
        "df2 = pd.DataFrame(tempDf.loc[tempDf['State'] == 'Kentucky'])\n",
        "# merge into one dataframe\n",
        "df = df.append(pd.merge(df2, df1, on = ['Year'], how='left'), ignore_index=True)\n",
        "\n",
        "# Louisiana17\n",
        "file1 = open('tempByStateLouisiana.csv', 'r') \n",
        "df1 = pd.read_csv(file1)\n",
        "df1 = df1.drop(range(0,4))\n",
        "df1.columns = [\"Year\", \"Avg Temp\", \"Delta\"]\n",
        "for i in range(0, len(df1)):\n",
        "    df1.iloc[i].Year = df1.iloc[i].Year[:4]\n",
        "# create Louisiana subset of tempDf\n",
        "df2 = pd.DataFrame(tempDf.loc[tempDf['State'] == 'Louisiana'])\n",
        "# merge into one dataframe\n",
        "df = df.append(pd.merge(df2, df1, on = ['Year'], how='left'), ignore_index=True)\n",
        "\n",
        "# Maine18\n",
        "file1 = open('tempByStateMaine.csv', 'r') \n",
        "df1 = pd.read_csv(file1)\n",
        "df1 = df1.drop(range(0,4))\n",
        "df1.columns = [\"Year\", \"Avg Temp\", \"Delta\"]\n",
        "for i in range(0, len(df1)):\n",
        "    df1.iloc[i].Year = df1.iloc[i].Year[:4]\n",
        "# create Maine subset of tempDf\n",
        "df2 = pd.DataFrame(tempDf.loc[tempDf['State'] == 'Maine'])\n",
        "# merge into one dataframe\n",
        "df = df.append(pd.merge(df2, df1, on = ['Year'], how='left'), ignore_index=True)\n",
        "\n",
        "# Maryland19\n",
        "file1 = open('tempByStateMaryland.csv', 'r') \n",
        "df1 = pd.read_csv(file1)\n",
        "df1 = df1.drop(range(0,4))\n",
        "df1.columns = [\"Year\", \"Avg Temp\", \"Delta\"]\n",
        "for i in range(0, len(df1)):\n",
        "    df1.iloc[i].Year = df1.iloc[i].Year[:4]\n",
        "# create Maryland subset of tempDf\n",
        "df2 = pd.DataFrame(tempDf.loc[tempDf['State'] == 'Maryland'])\n",
        "# merge into one dataframe\n",
        "df = df.append(pd.merge(df2, df1, on = ['Year'], how='left'), ignore_index=True)\n",
        "\n",
        "# Massachusetts20\n",
        "file1 = open('tempByStateMassachusetts.csv', 'r') \n",
        "df1 = pd.read_csv(file1)\n",
        "df1 = df1.drop(range(0,4))\n",
        "df1.columns = [\"Year\", \"Avg Temp\", \"Delta\"]\n",
        "for i in range(0, len(df1)):\n",
        "    df1.iloc[i].Year = df1.iloc[i].Year[:4]\n",
        "# create Massachusetts subset of tempDf\n",
        "df2 = pd.DataFrame(tempDf.loc[tempDf['State'] == 'Massachusetts'])\n",
        "# merge into one dataframe\n",
        "df = df.append(pd.merge(df2, df1, on = ['Year'], how='left'), ignore_index=True)\n",
        "\n",
        "# Michigan21\n",
        "file1 = open('tempByStateMichigan.csv', 'r') \n",
        "df1 = pd.read_csv(file1)\n",
        "df1 = df1.drop(range(0,4))\n",
        "df1.columns = [\"Year\", \"Avg Temp\", \"Delta\"]\n",
        "for i in range(0, len(df1)):\n",
        "    df1.iloc[i].Year = df1.iloc[i].Year[:4]\n",
        "# create Michigan subset of tempDf\n",
        "df2 = pd.DataFrame(tempDf.loc[tempDf['State'] == 'Michigan'])\n",
        "# merge into one dataframe\n",
        "df = df.append(pd.merge(df2, df1, on = ['Year'], how='left'), ignore_index=True)\n",
        "\n",
        "# Minnesota22\n",
        "file1 = open('tempByStateMinnesota.csv', 'r') \n",
        "df1 = pd.read_csv(file1)\n",
        "df1 = df1.drop(range(0,4))\n",
        "df1.columns = [\"Year\", \"Avg Temp\", \"Delta\"]\n",
        "for i in range(0, len(df1)):\n",
        "    df1.iloc[i].Year = df1.iloc[i].Year[:4]\n",
        "# create Minnesota subset of tempDf\n",
        "df2 = pd.DataFrame(tempDf.loc[tempDf['State'] == 'Minnesota'])\n",
        "# merge into one dataframe\n",
        "df = df.append(pd.merge(df2, df1, on = ['Year'], how='left'), ignore_index=True)\n",
        "\n",
        "# Mississippi23\n",
        "file1 = open('tempByStateMississippi.csv', 'r') \n",
        "df1 = pd.read_csv(file1)\n",
        "df1 = df1.drop(range(0,4))\n",
        "df1.columns = [\"Year\", \"Avg Temp\", \"Delta\"]\n",
        "for i in range(0, len(df1)):\n",
        "    df1.iloc[i].Year = df1.iloc[i].Year[:4]\n",
        "# create Mississippi subset of tempDf\n",
        "df2 = pd.DataFrame(tempDf.loc[tempDf['State'] == 'Mississippi'])\n",
        "# merge into one dataframe\n",
        "df = df.append(pd.merge(df2, df1, on = ['Year'], how='left'), ignore_index=True)\n",
        "\n",
        "# Missouri24\n",
        "file1 = open('tempByStateMissouri.csv', 'r') \n",
        "df1 = pd.read_csv(file1)\n",
        "df1 = df1.drop(range(0,4))\n",
        "df1.columns = [\"Year\", \"Avg Temp\", \"Delta\"]\n",
        "for i in range(0, len(df1)):\n",
        "    df1.iloc[i].Year = df1.iloc[i].Year[:4]\n",
        "# create Missouri subset of tempDf\n",
        "df2 = pd.DataFrame(tempDf.loc[tempDf['State'] == 'Missouri'])\n",
        "# merge into one dataframe\n",
        "df = df.append(pd.merge(df2, df1, on = ['Year'], how='left'), ignore_index=True)\n",
        "\n",
        "# Montana25\n",
        "file1 = open('tempByStateMontana.csv', 'r') \n",
        "df1 = pd.read_csv(file1)\n",
        "df1 = df1.drop(range(0,4))\n",
        "df1.columns = [\"Year\", \"Avg Temp\", \"Delta\"]\n",
        "for i in range(0, len(df1)):\n",
        "    df1.iloc[i].Year = df1.iloc[i].Year[:4]\n",
        "# create Montana subset of tempDf\n",
        "df2 = pd.DataFrame(tempDf.loc[tempDf['State'] == 'Montana'])\n",
        "# merge into one dataframe\n",
        "df = df.append(pd.merge(df2, df1, on = ['Year'], how='left'), ignore_index=True)\n",
        "\n",
        "# Nebraska26\n",
        "file1 = open('tempByStateNebraska.csv', 'r') \n",
        "df1 = pd.read_csv(file1)\n",
        "df1 = df1.drop(range(0,4))\n",
        "df1.columns = [\"Year\", \"Avg Temp\", \"Delta\"]\n",
        "for i in range(0, len(df1)):\n",
        "    df1.iloc[i].Year = df1.iloc[i].Year[:4]\n",
        "# create Nebraska subset of tempDf\n",
        "df2 = pd.DataFrame(tempDf.loc[tempDf['State'] == 'Nebraska'])\n",
        "# merge into one dataframe\n",
        "df = df.append(pd.merge(df2, df1, on = ['Year'], how='left'), ignore_index=True)\n",
        "\n",
        "# Nevada27\n",
        "file1 = open('tempByStateNevada.csv', 'r') \n",
        "df1 = pd.read_csv(file1)\n",
        "df1 = df1.drop(range(0,4))\n",
        "df1.columns = [\"Year\", \"Avg Temp\", \"Delta\"]\n",
        "for i in range(0, len(df1)):\n",
        "    df1.iloc[i].Year = df1.iloc[i].Year[:4]\n",
        "# create Nevada subset of tempDf\n",
        "df2 = pd.DataFrame(tempDf.loc[tempDf['State'] == 'Nevada'])\n",
        "# merge into one dataframe\n",
        "df = df.append(pd.merge(df2, df1, on = ['Year'], how='left'), ignore_index=True)\n",
        "\n",
        "# NewHampshire28\n",
        "file1 = open('tempByStateNewHampshire.csv', 'r') \n",
        "df1 = pd.read_csv(file1)\n",
        "df1 = df1.drop(range(0,4))\n",
        "df1.columns = [\"Year\", \"Avg Temp\", \"Delta\"]\n",
        "for i in range(0, len(df1)):\n",
        "    df1.iloc[i].Year = df1.iloc[i].Year[:4]\n",
        "# create NewHampshire subset of tempDf\n",
        "df2 = pd.DataFrame(tempDf.loc[tempDf['State'] == 'NewHampshire'])\n",
        "# merge into one dataframe\n",
        "df = df.append(pd.merge(df2, df1, on = ['Year'], how='left'), ignore_index=True)\n",
        "\n",
        "# NewJersey29\n",
        "file1 = open('tempByStateNewJersey.csv', 'r') \n",
        "df1 = pd.read_csv(file1)\n",
        "df1 = df1.drop(range(0,4))\n",
        "df1.columns = [\"Year\", \"Avg Temp\", \"Delta\"]\n",
        "for i in range(0, len(df1)):\n",
        "    df1.iloc[i].Year = df1.iloc[i].Year[:4]\n",
        "# create NewJersey subset of tempDf\n",
        "df2 = pd.DataFrame(tempDf.loc[tempDf['State'] == 'NewJersey'])\n",
        "# merge into one dataframe\n",
        "df = df.append(pd.merge(df2, df1, on = ['Year'], how='left'), ignore_index=True)\n",
        "\n",
        "# NewMexico30\n",
        "file1 = open('tempByStateNewMexico.csv', 'r') \n",
        "df1 = pd.read_csv(file1)\n",
        "df1 = df1.drop(range(0,4))\n",
        "df1.columns = [\"Year\", \"Avg Temp\", \"Delta\"]\n",
        "for i in range(0, len(df1)):\n",
        "    df1.iloc[i].Year = df1.iloc[i].Year[:4]\n",
        "# create NewMexico subset of tempDf\n",
        "df2 = pd.DataFrame(tempDf.loc[tempDf['State'] == 'NewMexico'])\n",
        "# merge into one dataframe\n",
        "df = df.append(pd.merge(df2, df1, on = ['Year'], how='left'), ignore_index=True)\n",
        "\n",
        "# NewYork31\n",
        "file1 = open('tempByStateNewYork.csv', 'r') \n",
        "df1 = pd.read_csv(file1)\n",
        "df1 = df1.drop(range(0,4))\n",
        "df1.columns = [\"Year\", \"Avg Temp\", \"Delta\"]\n",
        "for i in range(0, len(df1)):\n",
        "    df1.iloc[i].Year = df1.iloc[i].Year[:4]\n",
        "# create NewYork subset of tempDf\n",
        "df2 = pd.DataFrame(tempDf.loc[tempDf['State'] == 'NewYork'])\n",
        "# merge into one dataframe\n",
        "df = df.append(pd.merge(df2, df1, on = ['Year'], how='left'), ignore_index=True)\n",
        "\n",
        "# NorthCarolina32\n",
        "file1 = open('tempByStateNorthCarolina.csv', 'r') \n",
        "df1 = pd.read_csv(file1)\n",
        "df1 = df1.drop(range(0,4))\n",
        "df1.columns = [\"Year\", \"Avg Temp\", \"Delta\"]\n",
        "for i in range(0, len(df1)):\n",
        "    df1.iloc[i].Year = df1.iloc[i].Year[:4]\n",
        "# create NorthCarolina subset of tempDf\n",
        "df2 = pd.DataFrame(tempDf.loc[tempDf['State'] == 'NorthCarolina'])\n",
        "# merge into one dataframe\n",
        "df = df.append(pd.merge(df2, df1, on = ['Year'], how='left'), ignore_index=True)\n",
        "\n",
        "# NorthDakota33\n",
        "file1 = open('tempByStateNorthDakota.csv', 'r') \n",
        "df1 = pd.read_csv(file1)\n",
        "df1 = df1.drop(range(0,4))\n",
        "df1.columns = [\"Year\", \"Avg Temp\", \"Delta\"]\n",
        "for i in range(0, len(df1)):\n",
        "    df1.iloc[i].Year = df1.iloc[i].Year[:4]\n",
        "# create NorthDakota subset of tempDf\n",
        "df2 = pd.DataFrame(tempDf.loc[tempDf['State'] == 'NorthDakota'])\n",
        "# merge into one dataframe\n",
        "df = df.append(pd.merge(df2, df1, on = ['Year'], how='left'), ignore_index=True)\n",
        "\n",
        "# Ohio34\n",
        "file1 = open('tempByStateOhio.csv', 'r') \n",
        "df1 = pd.read_csv(file1)\n",
        "df1 = df1.drop(range(0,4))\n",
        "df1.columns = [\"Year\", \"Avg Temp\", \"Delta\"]\n",
        "for i in range(0, len(df1)):\n",
        "    df1.iloc[i].Year = df1.iloc[i].Year[:4]\n",
        "# create Ohio subset of tempDf\n",
        "df2 = pd.DataFrame(tempDf.loc[tempDf['State'] == 'Ohio'])\n",
        "# merge into one dataframe\n",
        "df = df.append(pd.merge(df2, df1, on = ['Year'], how='left'), ignore_index=True)\n",
        "\n",
        "# Oklahoma35\n",
        "file1 = open('tempByStateOklahoma.csv', 'r') \n",
        "df1 = pd.read_csv(file1)\n",
        "df1 = df1.drop(range(0,4))\n",
        "df1.columns = [\"Year\", \"Avg Temp\", \"Delta\"]\n",
        "for i in range(0, len(df1)):\n",
        "    df1.iloc[i].Year = df1.iloc[i].Year[:4]\n",
        "# create Oklahoma subset of tempDf\n",
        "df2 = pd.DataFrame(tempDf.loc[tempDf['State'] == 'Oklahoma'])\n",
        "# merge into one dataframe\n",
        "df = df.append(pd.merge(df2, df1, on = ['Year'], how='left'), ignore_index=True)\n",
        "\n",
        "# Oregon36\n",
        "file1 = open('tempByStateOregon.csv', 'r') \n",
        "df1 = pd.read_csv(file1)\n",
        "df1 = df1.drop(range(0,4))\n",
        "df1.columns = [\"Year\", \"Avg Temp\", \"Delta\"]\n",
        "for i in range(0, len(df1)):\n",
        "    df1.iloc[i].Year = df1.iloc[i].Year[:4]\n",
        "# create Oregon subset of tempDf\n",
        "df2 = pd.DataFrame(tempDf.loc[tempDf['State'] == 'Oregon'])\n",
        "# merge into one dataframe\n",
        "df = df.append(pd.merge(df2, df1, on = ['Year'], how='left'), ignore_index=True)\n",
        "\n",
        "# Pennsylvania37\n",
        "file1 = open('tempByStatePennsylvania.csv', 'r') \n",
        "df1 = pd.read_csv(file1)\n",
        "df1 = df1.drop(range(0,4))\n",
        "df1.columns = [\"Year\", \"Avg Temp\", \"Delta\"]\n",
        "for i in range(0, len(df1)):\n",
        "    df1.iloc[i].Year = df1.iloc[i].Year[:4]\n",
        "# create Pennsylvania subset of tempDf\n",
        "df2 = pd.DataFrame(tempDf.loc[tempDf['State'] == 'Pennsylvania'])\n",
        "# merge into one dataframe\n",
        "df = df.append(pd.merge(df2, df1, on = ['Year'], how='left'), ignore_index=True)\n",
        "\n",
        "# RhodeIsland38\n",
        "file1 = open('tempByStateRhodeIsland.csv', 'r') \n",
        "df1 = pd.read_csv(file1)\n",
        "df1 = df1.drop(range(0,4))\n",
        "df1.columns = [\"Year\", \"Avg Temp\", \"Delta\"]\n",
        "for i in range(0, len(df1)):\n",
        "    df1.iloc[i].Year = df1.iloc[i].Year[:4]\n",
        "# create RhodeIsland subset of tempDf\n",
        "df2 = pd.DataFrame(tempDf.loc[tempDf['State'] == 'RhodeIsland'])\n",
        "# merge into one dataframe\n",
        "df = df.append(pd.merge(df2, df1, on = ['Year'], how='left'), ignore_index=True)\n",
        "\n",
        "# SouthCarolina39\n",
        "file1 = open('tempByStateSouthCarolina.csv', 'r') \n",
        "df1 = pd.read_csv(file1)\n",
        "df1 = df1.drop(range(0,4))\n",
        "df1.columns = [\"Year\", \"Avg Temp\", \"Delta\"]\n",
        "for i in range(0, len(df1)):\n",
        "    df1.iloc[i].Year = df1.iloc[i].Year[:4]\n",
        "# create SouthCarolina subset of tempDf\n",
        "df2 = pd.DataFrame(tempDf.loc[tempDf['State'] == 'SouthCarolina'])\n",
        "# merge into one dataframe\n",
        "df = df.append(pd.merge(df2, df1, on = ['Year'], how='left'), ignore_index=True)\n",
        "\n",
        "# SouthDakota40\n",
        "file1 = open('tempByStateSouthDakota.csv', 'r') \n",
        "df1 = pd.read_csv(file1)\n",
        "df1 = df1.drop(range(0,4))\n",
        "df1.columns = [\"Year\", \"Avg Temp\", \"Delta\"]\n",
        "for i in range(0, len(df1)):\n",
        "    df1.iloc[i].Year = df1.iloc[i].Year[:4]\n",
        "# create SouthDakota subset of tempDf\n",
        "df2 = pd.DataFrame(tempDf.loc[tempDf['State'] == 'SouthDakota'])\n",
        "# merge into one dataframe\n",
        "df = df.append(pd.merge(df2, df1, on = ['Year'], how='left'), ignore_index=True)\n",
        "\n",
        "# Tennessee41\n",
        "file1 = open('tempByStateTennessee.csv', 'r') \n",
        "df1 = pd.read_csv(file1)\n",
        "df1 = df1.drop(range(0,4))\n",
        "df1.columns = [\"Year\", \"Avg Temp\", \"Delta\"]\n",
        "for i in range(0, len(df1)):\n",
        "    df1.iloc[i].Year = df1.iloc[i].Year[:4]\n",
        "# create Tennessee subset of tempDf\n",
        "df2 = pd.DataFrame(tempDf.loc[tempDf['State'] == 'Tennessee'])\n",
        "# merge into one dataframe\n",
        "df = df.append(pd.merge(df2, df1, on = ['Year'], how='left'), ignore_index=True)\n",
        "\n",
        "# Texas42\n",
        "file1 = open('tempByStateTexas.csv', 'r') \n",
        "df1 = pd.read_csv(file1)\n",
        "df1 = df1.drop(range(0,4))\n",
        "df1.columns = [\"Year\", \"Avg Temp\", \"Delta\"]\n",
        "for i in range(0, len(df1)):\n",
        "    df1.iloc[i].Year = df1.iloc[i].Year[:4]\n",
        "# create Texas subset of tempDf\n",
        "df2 = pd.DataFrame(tempDf.loc[tempDf['State'] == 'Texas'])\n",
        "# merge into one dataframe\n",
        "df = df.append(pd.merge(df2, df1, on = ['Year'], how='left'), ignore_index=True)\n",
        "\n",
        "# Utah43\n",
        "file1 = open('tempByStateUtah.csv', 'r') \n",
        "df1 = pd.read_csv(file1)\n",
        "df1 = df1.drop(range(0,4))\n",
        "df1.columns = [\"Year\", \"Avg Temp\", \"Delta\"]\n",
        "for i in range(0, len(df1)):\n",
        "    df1.iloc[i].Year = df1.iloc[i].Year[:4]\n",
        "# create Utah subset of tempDf\n",
        "df2 = pd.DataFrame(tempDf.loc[tempDf['State'] == 'Utah'])\n",
        "# merge into one dataframe\n",
        "df = df.append(pd.merge(df2, df1, on = ['Year'], how='left'), ignore_index=True)\n",
        "\n",
        "# Vermont44\n",
        "file1 = open('tempByStateVermont.csv', 'r') \n",
        "df1 = pd.read_csv(file1)\n",
        "df1 = df1.drop(range(0,4))\n",
        "df1.columns = [\"Year\", \"Avg Temp\", \"Delta\"]\n",
        "for i in range(0, len(df1)):\n",
        "    df1.iloc[i].Year = df1.iloc[i].Year[:4]\n",
        "# create Vermont subset of tempDf\n",
        "df2 = pd.DataFrame(tempDf.loc[tempDf['State'] == 'Vermont'])\n",
        "# merge into one dataframe\n",
        "df = df.append(pd.merge(df2, df1, on = ['Year'], how='left'), ignore_index=True)\n",
        "\n",
        "# Virginia45\n",
        "file1 = open('tempByStateVirginia.csv', 'r') \n",
        "df1 = pd.read_csv(file1)\n",
        "df1 = df1.drop(range(0,4))\n",
        "df1.columns = [\"Year\", \"Avg Temp\", \"Delta\"]\n",
        "for i in range(0, len(df1)):\n",
        "    df1.iloc[i].Year = df1.iloc[i].Year[:4]\n",
        "# create Virginia subset of tempDf\n",
        "df2 = pd.DataFrame(tempDf.loc[tempDf['State'] == 'Virginia'])\n",
        "# merge into one dataframe\n",
        "df = df.append(pd.merge(df2, df1, on = ['Year'], how='left'), ignore_index=True)\n",
        "\n",
        "# Washington46\n",
        "file1 = open('tempByStateWashington.csv', 'r') \n",
        "df1 = pd.read_csv(file1)\n",
        "df1 = df1.drop(range(0,4))\n",
        "df1.columns = [\"Year\", \"Avg Temp\", \"Delta\"]\n",
        "for i in range(0, len(df1)):\n",
        "    df1.iloc[i].Year = df1.iloc[i].Year[:4]\n",
        "# create Washington subset of tempDf\n",
        "df2 = pd.DataFrame(tempDf.loc[tempDf['State'] == 'Washington'])\n",
        "# merge into one dataframe\n",
        "df = df.append(pd.merge(df2, df1, on = ['Year'], how='left'), ignore_index=True)\n",
        "\n",
        "# WestVirginia47\n",
        "file1 = open('tempByStateWestVirginia.csv', 'r') \n",
        "df1 = pd.read_csv(file1)\n",
        "df1 = df1.drop(range(0,4))\n",
        "df1.columns = [\"Year\", \"Avg Temp\", \"Delta\"]\n",
        "for i in range(0, len(df1)):\n",
        "    df1.iloc[i].Year = df1.iloc[i].Year[:4]\n",
        "# create WestVirginia subset of tempDf\n",
        "df2 = pd.DataFrame(tempDf.loc[tempDf['State'] == 'WestVirginia'])\n",
        "# merge into one dataframe\n",
        "df = df.append(pd.merge(df2, df1, on = ['Year'], how='left'), ignore_index=True)\n",
        "\n",
        "# Wisconsin48\n",
        "file1 = open('tempByStateWisconsin.csv', 'r') \n",
        "df1 = pd.read_csv(file1)\n",
        "df1 = df1.drop(range(0,4))\n",
        "df1.columns = [\"Year\", \"Avg Temp\", \"Delta\"]\n",
        "for i in range(0, len(df1)):\n",
        "    df1.iloc[i].Year = df1.iloc[i].Year[:4]\n",
        "# create Wisconsin subset of tempDf\n",
        "df2 = pd.DataFrame(tempDf.loc[tempDf['State'] == 'Wisconsin'])\n",
        "# merge into one dataframe\n",
        "df = df.append(pd.merge(df2, df1, on = ['Year'], how='left'), ignore_index=True)\n",
        "\n",
        "# Wyoming49\n",
        "file1 = open('tempByStateWyoming.csv', 'r') \n",
        "df1 = pd.read_csv(file1)\n",
        "df1 = df1.drop(range(0,4))\n",
        "df1.columns = [\"Year\", \"Avg Temp\", \"Delta\"]\n",
        "for i in range(0, len(df1)):\n",
        "    df1.iloc[i].Year = df1.iloc[i].Year[:4]\n",
        "# create Wyoming subset of tempDf\n",
        "df2 = pd.DataFrame(tempDf.loc[tempDf['State'] == 'Wyoming'])\n",
        "# merge into one dataframe\n",
        "df = df.append(pd.merge(df2, df1, on = ['Year'], how='left'), ignore_index=True)"
      ],
      "execution_count": null,
      "outputs": []
    },
    {
      "cell_type": "markdown",
      "metadata": {
        "id": "cM_jsvDapU_D"
      },
      "source": [
        "Split to form train/test sets"
      ]
    },
    {
      "cell_type": "code",
      "metadata": {
        "id": "bOdZppJVa3UU"
      },
      "source": [
        "# y values (avg temp)\n",
        "yDf = df['Avg Temp'].astype(float)\n",
        "colsToDrop = ['State', 'Year', 'Avg Temp', 'Delta']\n",
        "# x values (emissions data)\n",
        "xDf = df.drop(columns=colsToDrop).astype(float)"
      ],
      "execution_count": null,
      "outputs": []
    },
    {
      "cell_type": "code",
      "metadata": {
        "id": "pO5a2GdnrKgA"
      },
      "source": [
        "# use a 80/20 split to divide into train/test sets\n",
        "from sklearn.model_selection import train_test_split\n",
        "xTrain, xTest, yTrain, yTest = train_test_split(xDf, yDf, test_size = 0.2, random_state=42)"
      ],
      "execution_count": null,
      "outputs": []
    },
    {
      "cell_type": "markdown",
      "metadata": {
        "id": "MoaGWel1uBRu"
      },
      "source": [
        "# Feature Selection using Recursive Feature Elimination with Cross Validation"
      ]
    },
    {
      "cell_type": "markdown",
      "metadata": {
        "id": "QYS8T0EoLi90"
      },
      "source": [
        "Linear Regression"
      ]
    },
    {
      "cell_type": "code",
      "metadata": {
        "colab": {
          "base_uri": "https://localhost:8080/"
        },
        "id": "faZvriCGLHt8",
        "outputId": "e91bf567-0f0a-4040-eaf7-34ad37de2d70"
      },
      "source": [
        "from sklearn.feature_selection import RFECV\n",
        "from sklearn.linear_model import LinearRegression\n",
        "\n",
        "# find the best features to use with Linear Regression model\n",
        "cv_estimator1 = LinearRegression()\n",
        "cv_estimator1.fit(xTrain, yTrain)\n",
        "cv_selector1 = RFECV(cv_estimator1, cv= 5, step=1)\n",
        "cv_selector1 = cv_selector1.fit(xTrain, yTrain)\n",
        "rfecv_mask1 = cv_selector1.get_support()\n",
        "\n",
        "rfecv_features1 = [] \n",
        "\n",
        "for bool, feature in zip(rfecv_mask1, xTrain.columns):\n",
        " if bool:\n",
        "  rfecv_features1.append(feature)\n",
        "\n",
        "print('Optimal number of features :', cv_selector1.n_features_)\n",
        "print('Best features :', rfecv_features1)\n",
        "\n",
        "xTrainLinReg = xTrain[rfecv_features1]\n",
        "xTestLinReg = xTest[rfecv_features1]"
      ],
      "execution_count": null,
      "outputs": [
        {
          "output_type": "stream",
          "text": [
            "Optimal number of features : 20\n",
            "Best features : ['GHG Emissions Excluding LUCF', 'GHG Emissions Including LUCF', 'CO2 (excluding LUCF)', 'CH4', 'N2O', 'F-Gas', 'Energy', 'Industrial Processes', 'Agriculture', 'Waste', 'Land Use and Forestry', 'Bunker Fuels', 'Electric Power', 'Commercial', 'Residential', 'Industrial', 'Transportation', 'Fugitive Emissions', 'State GDP (Million US$ (chained 1997/2005))', 'Energy Use (Thous. tonnes oil eq. (ktoe))']\n"
          ],
          "name": "stdout"
        }
      ]
    },
    {
      "cell_type": "code",
      "metadata": {
        "colab": {
          "base_uri": "https://localhost:8080/"
        },
        "id": "2KYITY3ltiVD",
        "outputId": "26d61c47-9b29-4ffe-ee34-a3278e83cd17"
      },
      "source": [
        "yTrain"
      ],
      "execution_count": null,
      "outputs": [
        {
          "output_type": "execute_result",
          "data": {
            "text/plain": [
              "12      63.6\n",
              "381     47.5\n",
              "717     41.6\n",
              "497     40.4\n",
              "964     48.2\n",
              "        ... \n",
              "121     58.9\n",
              "1044    47.3\n",
              "1095    47.4\n",
              "860     47.3\n",
              "1126    42.1\n",
              "Name: Avg Temp, Length: 904, dtype: float64"
            ]
          },
          "metadata": {
            "tags": []
          },
          "execution_count": 63
        }
      ]
    },
    {
      "cell_type": "markdown",
      "metadata": {
        "id": "WooAVE2mLk5S"
      },
      "source": [
        "Random Forest"
      ]
    },
    {
      "cell_type": "code",
      "metadata": {
        "id": "qQaVvpP7NV_e"
      },
      "source": [
        "# tune hyperparameters\n",
        "from sklearn.ensemble import RandomForestRegressor\n",
        "from sklearn.model_selection import RandomizedSearchCV\n",
        "\n",
        "rf = RandomForestRegressor(random_state = 42)\n",
        "# Number of trees in random forest\n",
        "n_estimators = [int(x) for x in np.linspace(start = 200, stop = 2000, num = 10)]\n",
        "# Number of features to consider at every split\n",
        "max_features = ['auto', 'sqrt']\n",
        "# Maximum number of levels in tree\n",
        "max_depth = [int(x) for x in np.linspace(10, 110, num = 11)]\n",
        "max_depth.append(None)\n",
        "# Minimum number of samples required to split a node\n",
        "min_samples_split = [2, 5, 10]\n",
        "# Minimum number of samples required at each leaf node\n",
        "min_samples_leaf = [1, 2, 4]\n",
        "# Method of selecting samples for training each tree\n",
        "bootstrap = [True, False]\n",
        "# Create the random grid\n",
        "random_grid = {'n_estimators': n_estimators,\n",
        "               'max_features': max_features,\n",
        "               'max_depth': max_depth,\n",
        "               'min_samples_split': min_samples_split,\n",
        "               'min_samples_leaf': min_samples_leaf,\n",
        "               'bootstrap': bootstrap}"
      ],
      "execution_count": null,
      "outputs": []
    },
    {
      "cell_type": "code",
      "metadata": {
        "id": "Ey8gz9bMNn_Y"
      },
      "source": [
        "# # Use the random grid to search for best hyperparameters\n",
        "# # First create the base model to tune\n",
        "# rf = RandomForestRegressor()\n",
        "# # Random search of parameters, using 5 fold cross validation, \n",
        "# # search across 100 different combinations, and use all available cores\n",
        "# rf_random = RandomizedSearchCV(estimator = rf, param_distributions = random_grid, n_iter = 100, cv = 5, verbose=2, random_state=42, n_jobs = -1)\n",
        "# # Fit the random search model\n",
        "# rf_random.fit(xTrain, yTrain)"
      ],
      "execution_count": null,
      "outputs": []
    },
    {
      "cell_type": "code",
      "metadata": {
        "id": "jdzloyf93tb0"
      },
      "source": [
        "# rf_random.best_params_ "
      ],
      "execution_count": null,
      "outputs": []
    },
    {
      "cell_type": "code",
      "metadata": {
        "id": "poTvNb7uN3c0"
      },
      "source": [
        "# hard code the best hyperparameters because RandomizedSearchCV takes 41 minutes to run\n",
        "rf_random_best_params_ = {'bootstrap': False,\n",
        " 'max_depth': None,\n",
        " 'max_features': 'sqrt',\n",
        " 'min_samples_leaf': 1,\n",
        " 'min_samples_split': 2,\n",
        " 'n_estimators': 400}"
      ],
      "execution_count": null,
      "outputs": []
    },
    {
      "cell_type": "code",
      "metadata": {
        "id": "dfd5PnYJnLIu"
      },
      "source": [
        "# evaluate \n",
        "def evaluate(model, test_features, test_labels):\n",
        "    predictions = model.predict(test_features)\n",
        "    errors = abs(predictions - test_labels)\n",
        "    mape = 100 * np.mean(errors / test_labels)\n",
        "    accuracy = 100 - mape\n",
        "    print('Model Performance')\n",
        "    print('Average Error: {:0.4f} degrees.'.format(np.mean(errors)))\n",
        "    print('Accuracy = {:0.2f}%.'.format(accuracy))\n",
        "    \n",
        "    return accuracy"
      ],
      "execution_count": null,
      "outputs": []
    },
    {
      "cell_type": "code",
      "metadata": {
        "colab": {
          "base_uri": "https://localhost:8080/"
        },
        "id": "6vgt7oZqnQKz",
        "outputId": "d4d540c3-9ee1-4973-cf51-3dfc025fcdcf"
      },
      "source": [
        "# accuracy of baseline Random Forest Model with no hyperparameter tuning\n",
        "base_model = RandomForestRegressor()\n",
        "base_model.fit(xTrain, yTrain)\n",
        "base_accuracy = evaluate(base_model, xTest, yTest)"
      ],
      "execution_count": null,
      "outputs": [
        {
          "output_type": "stream",
          "text": [
            "Model Performance\n",
            "Average Error: 1.2431 degrees.\n",
            "Accuracy = 97.49%.\n"
          ],
          "name": "stdout"
        }
      ]
    },
    {
      "cell_type": "code",
      "metadata": {
        "id": "HN-M-Gy4oB-1"
      },
      "source": [
        "# accuracy after hyperparameter tuning\n",
        "# best_random = rf_random.best_estimator_\n",
        "# random_accuracy = evaluate(best_random, xTest, yTest)"
      ],
      "execution_count": null,
      "outputs": []
    },
    {
      "cell_type": "code",
      "metadata": {
        "id": "06VlOnxjnsgB"
      },
      "source": [
        "# print('Improvement of {:0.2f}%.'.format( 100 * (random_accuracy - base_accuracy) / base_accuracy))"
      ],
      "execution_count": null,
      "outputs": []
    },
    {
      "cell_type": "markdown",
      "metadata": {
        "id": "Uw3fo4pjoIbk"
      },
      "source": [
        "Random Forest Feature Selection"
      ]
    },
    {
      "cell_type": "code",
      "metadata": {
        "colab": {
          "base_uri": "https://localhost:8080/"
        },
        "id": "V79N-dluX42n",
        "outputId": "1e6944ed-4fc9-4129-c0c4-3b1207218183"
      },
      "source": [
        "from sklearn.ensemble import RandomForestRegressor\n",
        "# find the best features to use with Random Forest model\n",
        "cv_estimator2 = RandomForestRegressor(bootstrap=False, max_depth=None, max_features='sqrt', min_samples_leaf=1, min_samples_split=2, n_estimators=400)\n",
        "cv_estimator2.fit(xTrain, yTrain)\n",
        "cv_selector2 = RFECV(cv_estimator2, cv= 5, step=1)\n",
        "cv_selector2 = cv_selector2.fit(xTrain, yTrain)\n",
        "rfecv_mask2 = cv_selector2.get_support()\n",
        "\n",
        "rfecv_features2 = [] \n",
        "\n",
        "for bool, feature in zip(rfecv_mask2, xTrain.columns):\n",
        " if bool:\n",
        "  rfecv_features2.append(feature)\n",
        "\n",
        "print('Optimal number of features :', cv_selector2.n_features_)\n",
        "print('Best features :', rfecv_features2)\n",
        "\n",
        "xTrainRandFor = xTrain[rfecv_features2]\n",
        "xTestRandFor = xTest[rfecv_features2]"
      ],
      "execution_count": null,
      "outputs": [
        {
          "output_type": "stream",
          "text": [
            "Optimal number of features : 21\n",
            "Best features : ['GHG Emissions Excluding LUCF', 'GHG Emissions Including LUCF', 'CO2 (excluding LUCF)', 'CH4', 'N2O', 'F-Gas', 'Energy', 'Industrial Processes', 'Agriculture', 'Waste', 'Land Use and Forestry', 'Bunker Fuels', 'Electric Power', 'Commercial', 'Residential', 'Industrial', 'Transportation', 'Fugitive Emissions', 'State GDP (Million US$ (chained 1997/2005))', 'Population', 'Energy Use (Thous. tonnes oil eq. (ktoe))']\n"
          ],
          "name": "stdout"
        }
      ]
    },
    {
      "cell_type": "markdown",
      "metadata": {
        "id": "tu9mWjofLmNf"
      },
      "source": [
        "Support Vector Machine"
      ]
    },
    {
      "cell_type": "code",
      "metadata": {
        "colab": {
          "base_uri": "https://localhost:8080/"
        },
        "id": "4Bsvn8v_Lpfc",
        "outputId": "52284892-e1a3-402c-e73c-1952499519c7"
      },
      "source": [
        "from sklearn.svm import LinearSVR\n",
        "from sklearn import svm\n",
        "import warnings\n",
        "warnings.filterwarnings(\"ignore\")\n",
        "\n",
        "# find the best features to use with SVM model\n",
        "cv_estimator3 = LinearSVR(max_iter = 10000)\n",
        "cv_estimator3.fit(xTrain, yTrain)\n",
        "cv_selector3 = RFECV(cv_estimator3, cv= 5, step=1)\n",
        "cv_selector3 = cv_selector3.fit(xTrain, yTrain)\n",
        "rfecv_mask3 = cv_selector3.get_support()\n",
        "\n",
        "rfecv_features3 = [] \n",
        "\n",
        "for bool, feature in zip(rfecv_mask3, xTrain.columns):\n",
        " if bool:\n",
        "  rfecv_features3.append(feature)\n",
        "\n",
        "print('Optimal number of features :', cv_selector3.n_features_)\n",
        "print('Best features :', rfecv_features3)\n",
        "\n",
        "xTrainSVM = xTrain[rfecv_features3]\n",
        "xTestSVM = xTest[rfecv_features3]"
      ],
      "execution_count": null,
      "outputs": [
        {
          "output_type": "stream",
          "text": [
            "Optimal number of features : 12\n",
            "Best features : ['GHG Emissions Excluding LUCF', 'GHG Emissions Including LUCF', 'CO2 (excluding LUCF)', 'CH4', 'Energy', 'Land Use and Forestry', 'Electric Power', 'Industrial', 'Fugitive Emissions', 'State GDP (Million US$ (chained 1997/2005))', 'Population', 'Energy Use (Thous. tonnes oil eq. (ktoe))']\n"
          ],
          "name": "stdout"
        }
      ]
    },
    {
      "cell_type": "markdown",
      "metadata": {
        "id": "wA9ejgCUq0E2"
      },
      "source": [
        "# Evaluation"
      ]
    },
    {
      "cell_type": "markdown",
      "metadata": {
        "id": "MmaiW6dDry8n"
      },
      "source": [
        "Linear Regression"
      ]
    },
    {
      "cell_type": "code",
      "metadata": {
        "colab": {
          "base_uri": "https://localhost:8080/"
        },
        "id": "s1V7XGzOq1rD",
        "outputId": "dbede7a5-1a58-4476-d6ba-56c5e0e64643"
      },
      "source": [
        "from sklearn.metrics import mean_squared_error\n",
        "model1 = LinearRegression()\n",
        "model1.fit(xTrainLinReg, yTrain)\n",
        "y_pred1 = model1.predict(xTestLinReg)\n",
        "# check accuracy score\n",
        "print(model1.score(xTestLinReg, yTest))\n",
        "print(mean_squared_error(yTest, y_pred1))"
      ],
      "execution_count": null,
      "outputs": [
        {
          "output_type": "stream",
          "text": [
            "0.7868492519840581\n",
            "15.348011586413955\n"
          ],
          "name": "stdout"
        }
      ]
    },
    {
      "cell_type": "code",
      "metadata": {
        "colab": {
          "base_uri": "https://localhost:8080/",
          "height": 348
        },
        "id": "MARzQOSJrj5H",
        "outputId": "b97a9bbf-38c1-43e6-f5fe-a851d7ce80ec"
      },
      "source": [
        "evaluate1 = pd.DataFrame({'Actual': yTest.values.flatten(), 'Predicted': y_pred1.flatten()})\n",
        "evaluate1.head(10)"
      ],
      "execution_count": null,
      "outputs": [
        {
          "output_type": "execute_result",
          "data": {
            "text/html": [
              "<div>\n",
              "<style scoped>\n",
              "    .dataframe tbody tr th:only-of-type {\n",
              "        vertical-align: middle;\n",
              "    }\n",
              "\n",
              "    .dataframe tbody tr th {\n",
              "        vertical-align: top;\n",
              "    }\n",
              "\n",
              "    .dataframe thead th {\n",
              "        text-align: right;\n",
              "    }\n",
              "</style>\n",
              "<table border=\"1\" class=\"dataframe\">\n",
              "  <thead>\n",
              "    <tr style=\"text-align: right;\">\n",
              "      <th></th>\n",
              "      <th>Actual</th>\n",
              "      <th>Predicted</th>\n",
              "    </tr>\n",
              "  </thead>\n",
              "  <tbody>\n",
              "    <tr>\n",
              "      <th>0</th>\n",
              "      <td>52.7</td>\n",
              "      <td>54.483823</td>\n",
              "    </tr>\n",
              "    <tr>\n",
              "      <th>1</th>\n",
              "      <td>49.8</td>\n",
              "      <td>49.210216</td>\n",
              "    </tr>\n",
              "    <tr>\n",
              "      <th>2</th>\n",
              "      <td>53.7</td>\n",
              "      <td>52.343490</td>\n",
              "    </tr>\n",
              "    <tr>\n",
              "      <th>3</th>\n",
              "      <td>65.6</td>\n",
              "      <td>63.828038</td>\n",
              "    </tr>\n",
              "    <tr>\n",
              "      <th>4</th>\n",
              "      <td>49.3</td>\n",
              "      <td>46.619420</td>\n",
              "    </tr>\n",
              "    <tr>\n",
              "      <th>5</th>\n",
              "      <td>63.6</td>\n",
              "      <td>57.842156</td>\n",
              "    </tr>\n",
              "    <tr>\n",
              "      <th>6</th>\n",
              "      <td>56.6</td>\n",
              "      <td>60.087353</td>\n",
              "    </tr>\n",
              "    <tr>\n",
              "      <th>7</th>\n",
              "      <td>29.3</td>\n",
              "      <td>35.189932</td>\n",
              "    </tr>\n",
              "    <tr>\n",
              "      <th>8</th>\n",
              "      <td>43.2</td>\n",
              "      <td>41.776251</td>\n",
              "    </tr>\n",
              "    <tr>\n",
              "      <th>9</th>\n",
              "      <td>59.7</td>\n",
              "      <td>59.712482</td>\n",
              "    </tr>\n",
              "  </tbody>\n",
              "</table>\n",
              "</div>"
            ],
            "text/plain": [
              "   Actual  Predicted\n",
              "0    52.7  54.483823\n",
              "1    49.8  49.210216\n",
              "2    53.7  52.343490\n",
              "3    65.6  63.828038\n",
              "4    49.3  46.619420\n",
              "5    63.6  57.842156\n",
              "6    56.6  60.087353\n",
              "7    29.3  35.189932\n",
              "8    43.2  41.776251\n",
              "9    59.7  59.712482"
            ]
          },
          "metadata": {
            "tags": []
          },
          "execution_count": 76
        }
      ]
    },
    {
      "cell_type": "code",
      "metadata": {
        "colab": {
          "base_uri": "https://localhost:8080/",
          "height": 292
        },
        "id": "GXmeY21nrxs7",
        "outputId": "34264c3e-6647-4ce9-9fbf-4ec195ae9c82"
      },
      "source": [
        "evaluate1.sample(20).plot(kind = 'bar')\n"
      ],
      "execution_count": null,
      "outputs": [
        {
          "output_type": "execute_result",
          "data": {
            "text/plain": [
              "<matplotlib.axes._subplots.AxesSubplot at 0x7fdd94d43590>"
            ]
          },
          "metadata": {
            "tags": []
          },
          "execution_count": 77
        },
        {
          "output_type": "display_data",
          "data": {
            "image/png": "[encoded data removed]",
            "text/plain": [
              "<Figure size 432x288 with 1 Axes>"
            ]
          },
          "metadata": {
            "tags": [],
            "needs_background": "light"
          }
        }
      ]
    },
    {
      "cell_type": "markdown",
      "metadata": {
        "id": "6QCMsUnfr07I"
      },
      "source": [
        "Random Forest"
      ]
    },
    {
      "cell_type": "code",
      "metadata": {
        "colab": {
          "base_uri": "https://localhost:8080/"
        },
        "id": "_WUn2aFXr16G",
        "outputId": "594303d8-c1ae-4914-ff36-f95ae3f16239"
      },
      "source": [
        "model2 = RandomForestRegressor(bootstrap=False, max_depth=None, max_features='sqrt', min_samples_leaf=1, min_samples_split=2, n_estimators=400)\n",
        "model2.fit(xTrainRandFor, yTrain)\n",
        "# check accuracy score\n",
        "model2.score(xTestRandFor, yTest)"
      ],
      "execution_count": null,
      "outputs": [
        {
          "output_type": "execute_result",
          "data": {
            "text/plain": [
              "0.9703518572401316"
            ]
          },
          "metadata": {
            "tags": []
          },
          "execution_count": 78
        }
      ]
    },
    {
      "cell_type": "code",
      "metadata": {
        "colab": {
          "base_uri": "https://localhost:8080/",
          "height": 366
        },
        "id": "vVKdLMrhskD9",
        "outputId": "2bc2bbc4-7ac6-4ee6-aef4-1b712203a92f"
      },
      "source": [
        "y_pred2=model2.predict(xTestRandFor)\n",
        "print(mean_squared_error(yTest, y_pred2))\n",
        "evaluate2 = pd.DataFrame({'Actual': yTest.values.flatten(), 'Predicted': y_pred2.flatten()})\n",
        "evaluate2.head(10)"
      ],
      "execution_count": null,
      "outputs": [
        {
          "output_type": "stream",
          "text": [
            "2.1348273127340014\n"
          ],
          "name": "stdout"
        },
        {
          "output_type": "execute_result",
          "data": {
            "text/html": [
              "<div>\n",
              "<style scoped>\n",
              "    .dataframe tbody tr th:only-of-type {\n",
              "        vertical-align: middle;\n",
              "    }\n",
              "\n",
              "    .dataframe tbody tr th {\n",
              "        vertical-align: top;\n",
              "    }\n",
              "\n",
              "    .dataframe thead th {\n",
              "        text-align: right;\n",
              "    }\n",
              "</style>\n",
              "<table border=\"1\" class=\"dataframe\">\n",
              "  <thead>\n",
              "    <tr style=\"text-align: right;\">\n",
              "      <th></th>\n",
              "      <th>Actual</th>\n",
              "      <th>Predicted</th>\n",
              "    </tr>\n",
              "  </thead>\n",
              "  <tbody>\n",
              "    <tr>\n",
              "      <th>0</th>\n",
              "      <td>52.7</td>\n",
              "      <td>51.921388</td>\n",
              "    </tr>\n",
              "    <tr>\n",
              "      <th>1</th>\n",
              "      <td>49.8</td>\n",
              "      <td>49.923796</td>\n",
              "    </tr>\n",
              "    <tr>\n",
              "      <th>2</th>\n",
              "      <td>53.7</td>\n",
              "      <td>55.034138</td>\n",
              "    </tr>\n",
              "    <tr>\n",
              "      <th>3</th>\n",
              "      <td>65.6</td>\n",
              "      <td>66.274478</td>\n",
              "    </tr>\n",
              "    <tr>\n",
              "      <th>4</th>\n",
              "      <td>49.3</td>\n",
              "      <td>48.915500</td>\n",
              "    </tr>\n",
              "    <tr>\n",
              "      <th>5</th>\n",
              "      <td>63.6</td>\n",
              "      <td>61.532853</td>\n",
              "    </tr>\n",
              "    <tr>\n",
              "      <th>6</th>\n",
              "      <td>56.6</td>\n",
              "      <td>54.201089</td>\n",
              "    </tr>\n",
              "    <tr>\n",
              "      <th>7</th>\n",
              "      <td>29.3</td>\n",
              "      <td>31.698250</td>\n",
              "    </tr>\n",
              "    <tr>\n",
              "      <th>8</th>\n",
              "      <td>43.2</td>\n",
              "      <td>42.277250</td>\n",
              "    </tr>\n",
              "    <tr>\n",
              "      <th>9</th>\n",
              "      <td>59.7</td>\n",
              "      <td>59.628888</td>\n",
              "    </tr>\n",
              "  </tbody>\n",
              "</table>\n",
              "</div>"
            ],
            "text/plain": [
              "   Actual  Predicted\n",
              "0    52.7  51.921388\n",
              "1    49.8  49.923796\n",
              "2    53.7  55.034138\n",
              "3    65.6  66.274478\n",
              "4    49.3  48.915500\n",
              "5    63.6  61.532853\n",
              "6    56.6  54.201089\n",
              "7    29.3  31.698250\n",
              "8    43.2  42.277250\n",
              "9    59.7  59.628888"
            ]
          },
          "metadata": {
            "tags": []
          },
          "execution_count": 79
        }
      ]
    },
    {
      "cell_type": "code",
      "metadata": {
        "colab": {
          "base_uri": "https://localhost:8080/",
          "height": 292
        },
        "id": "O0IK9lzvslBH",
        "outputId": "1ea129b5-9fef-4c7d-d8df-83d5b4eced2d"
      },
      "source": [
        "evaluate2.sample(20).plot(kind = 'bar')"
      ],
      "execution_count": null,
      "outputs": [
        {
          "output_type": "execute_result",
          "data": {
            "text/plain": [
              "<matplotlib.axes._subplots.AxesSubplot at 0x7fdd94c96310>"
            ]
          },
          "metadata": {
            "tags": []
          },
          "execution_count": 80
        },
        {
          "output_type": "display_data",
          "data": {
            "image/png": "[encoded data removed]",
            "text/plain": [
              "<Figure size 432x288 with 1 Axes>"
            ]
          },
          "metadata": {
            "tags": [],
            "needs_background": "light"
          }
        }
      ]
    },
    {
      "cell_type": "markdown",
      "metadata": {
        "id": "oQBO-wQTr2PO"
      },
      "source": [
        "SVM"
      ]
    },
    {
      "cell_type": "code",
      "metadata": {
        "colab": {
          "base_uri": "https://localhost:8080/"
        },
        "id": "X2Q0UBRQr3BZ",
        "outputId": "8695303c-4f0b-4516-ac13-3612e1046473"
      },
      "source": [
        "model3 = LinearSVR()\n",
        "model3.fit(xTrainSVM, yTrain)\n",
        "# check accuracy score\n",
        "model3.score(xTestSVM, yTest)"
      ],
      "execution_count": null,
      "outputs": [
        {
          "output_type": "execute_result",
          "data": {
            "text/plain": [
              "-143.60975570201342"
            ]
          },
          "metadata": {
            "tags": []
          },
          "execution_count": 83
        }
      ]
    },
    {
      "cell_type": "code",
      "metadata": {
        "colab": {
          "base_uri": "https://localhost:8080/",
          "height": 366
        },
        "id": "I6Vb7v1Cr5Hi",
        "outputId": "66d26d29-2f05-48a1-801d-248cecba0746"
      },
      "source": [
        "y_pred3=model3.predict(xTestSVM)\n",
        "print(mean_squared_error(yTest, y_pred3))\n",
        "evaluate3 = pd.DataFrame({'Actual': yTest.values.flatten(), 'Predicted': y_pred3.flatten()})\n",
        "evaluate3.head(10)"
      ],
      "execution_count": null,
      "outputs": [
        {
          "output_type": "stream",
          "text": [
            "10412.68785909677\n"
          ],
          "name": "stdout"
        },
        {
          "output_type": "execute_result",
          "data": {
            "text/html": [
              "<div>\n",
              "<style scoped>\n",
              "    .dataframe tbody tr th:only-of-type {\n",
              "        vertical-align: middle;\n",
              "    }\n",
              "\n",
              "    .dataframe tbody tr th {\n",
              "        vertical-align: top;\n",
              "    }\n",
              "\n",
              "    .dataframe thead th {\n",
              "        text-align: right;\n",
              "    }\n",
              "</style>\n",
              "<table border=\"1\" class=\"dataframe\">\n",
              "  <thead>\n",
              "    <tr style=\"text-align: right;\">\n",
              "      <th></th>\n",
              "      <th>Actual</th>\n",
              "      <th>Predicted</th>\n",
              "    </tr>\n",
              "  </thead>\n",
              "  <tbody>\n",
              "    <tr>\n",
              "      <th>0</th>\n",
              "      <td>52.7</td>\n",
              "      <td>119.966653</td>\n",
              "    </tr>\n",
              "    <tr>\n",
              "      <th>1</th>\n",
              "      <td>49.8</td>\n",
              "      <td>203.132323</td>\n",
              "    </tr>\n",
              "    <tr>\n",
              "      <th>2</th>\n",
              "      <td>53.7</td>\n",
              "      <td>32.911208</td>\n",
              "    </tr>\n",
              "    <tr>\n",
              "      <th>3</th>\n",
              "      <td>65.6</td>\n",
              "      <td>47.668463</td>\n",
              "    </tr>\n",
              "    <tr>\n",
              "      <th>4</th>\n",
              "      <td>49.3</td>\n",
              "      <td>25.813571</td>\n",
              "    </tr>\n",
              "    <tr>\n",
              "      <th>5</th>\n",
              "      <td>63.6</td>\n",
              "      <td>38.162671</td>\n",
              "    </tr>\n",
              "    <tr>\n",
              "      <th>6</th>\n",
              "      <td>56.6</td>\n",
              "      <td>55.977529</td>\n",
              "    </tr>\n",
              "    <tr>\n",
              "      <th>7</th>\n",
              "      <td>29.3</td>\n",
              "      <td>13.585816</td>\n",
              "    </tr>\n",
              "    <tr>\n",
              "      <th>8</th>\n",
              "      <td>43.2</td>\n",
              "      <td>7.102151</td>\n",
              "    </tr>\n",
              "    <tr>\n",
              "      <th>9</th>\n",
              "      <td>59.7</td>\n",
              "      <td>35.044736</td>\n",
              "    </tr>\n",
              "  </tbody>\n",
              "</table>\n",
              "</div>"
            ],
            "text/plain": [
              "   Actual   Predicted\n",
              "0    52.7  119.966653\n",
              "1    49.8  203.132323\n",
              "2    53.7   32.911208\n",
              "3    65.6   47.668463\n",
              "4    49.3   25.813571\n",
              "5    63.6   38.162671\n",
              "6    56.6   55.977529\n",
              "7    29.3   13.585816\n",
              "8    43.2    7.102151\n",
              "9    59.7   35.044736"
            ]
          },
          "metadata": {
            "tags": []
          },
          "execution_count": 84
        }
      ]
    },
    {
      "cell_type": "code",
      "metadata": {
        "id": "o9DKXi0vr6IX"
      },
      "source": [
        "evaluate3.head(10).plot(kind = 'bar')"
      ],
      "execution_count": null,
      "outputs": []
    }
  ]
}